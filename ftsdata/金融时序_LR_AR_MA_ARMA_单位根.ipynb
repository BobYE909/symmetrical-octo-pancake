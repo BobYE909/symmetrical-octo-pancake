{
 "cells": [
  {
   "cell_type": "markdown",
   "id": "30e376ba",
   "metadata": {},
   "source": [
    "### 简介 ：本文旨在将北京大学李东风教授的《金融时间序列分析R语言》中涉及R语言的实例部分用python转写，R语言在时序分析上具有不可代替的优势，但为了对python用户友好，作者闲的没事干，写下了如下代码，一来为了自己学习金融时序相关理论，二来深觉这是一部关于金融时序的极佳教材，故也供python用户参考。数据包中原材料都是生数，向frame的转换采用了作者熟练的方式，但数据的处理远不止一种方法。实例只是理解理论的工具，希望读者更多的关注李东风教授对模型的阐述和推导。"
   ]
  },
  {
   "cell_type": "code",
   "execution_count": 1,
   "id": "649bdcd3",
   "metadata": {},
   "outputs": [],
   "source": [
    "import pandas as pd\n",
    "from dateutil.parser import parse\n",
    "import seaborn as sns\n",
    "import numpy as np\n",
    "from pandas.plotting import scatter_matrix\n",
    "from scipy import stats\n",
    "from statsmodels.graphics.tsaplots import plot_acf, plot_pacf\n",
    "from statsmodels.tsa.stattools import acf, pacf\n",
    "from statsmodels.tsa.stattools import adfuller\n",
    "import sympy as sp"
   ]
  },
  {
   "cell_type": "markdown",
   "id": "507e0e2d",
   "metadata": {},
   "source": [
    "# 1&2 金融数据与R软件"
   ]
  },
  {
   "cell_type": "markdown",
   "id": "cce66754",
   "metadata": {},
   "source": [
    "#### 该部分内容主要介绍R基础数据结构和金融数据概况，对于python用户可以参考如下书目："
   ]
  },
  {
   "cell_type": "markdown",
   "id": "80b0796c",
   "metadata": {},
   "source": [
    "##### 1.《利用python进行数据分析》\n",
    "##### 2. 《python金融大数据分析》"
   ]
  },
  {
   "cell_type": "markdown",
   "id": "a717604b",
   "metadata": {},
   "source": [
    "# 3 线性时序模型"
   ]
  },
  {
   "cell_type": "markdown",
   "id": "7e00cab7",
   "metadata": {},
   "source": [
    "## 3.1 平稳性 : 以可口可乐为例"
   ]
  },
  {
   "cell_type": "code",
   "execution_count": 2,
   "id": "f2624beb",
   "metadata": {},
   "outputs": [
    {
     "data": {
      "text/plain": [
       "Index(['pends', 'Unnamed: 1', 'Unnamed: 2', 'Unnamed: 3', 'Unnamed: 4',\n",
       "       'Unnamed: 5', 'Unnamed: 6', 'anntime', 'Unnamed: 8', 'Unnamed: 9',\n",
       "       'Unnamed: 10', 'value'],\n",
       "      dtype='object')"
      ]
     },
     "execution_count": 2,
     "metadata": {},
     "output_type": "execute_result"
    }
   ],
   "source": [
    "co_earns = pd.read_csv('q-ko-earns8309.txt', sep = ' ')\n",
    "co_earns.columns"
   ]
  },
  {
   "cell_type": "code",
   "execution_count": 3,
   "id": "8faed1b8",
   "metadata": {},
   "outputs": [],
   "source": [
    "co_earns = co_earns[['pends','Unnamed: 3','Unnamed: 6']]"
   ]
  },
  {
   "cell_type": "code",
   "execution_count": 4,
   "id": "3192c73c",
   "metadata": {},
   "outputs": [],
   "source": [
    "co_earns['pends'] = [parse(str(i)) for i in co_earns['pends']]"
   ]
  },
  {
   "cell_type": "code",
   "execution_count": 5,
   "id": "8af3beb2",
   "metadata": {},
   "outputs": [],
   "source": [
    "co_earns['Unnamed: 3'] = [parse(str(i)) for i in co_earns['Unnamed: 3']]"
   ]
  },
  {
   "cell_type": "code",
   "execution_count": 6,
   "id": "1a8b57f4",
   "metadata": {},
   "outputs": [],
   "source": [
    "co_earns.rename(columns = {'Unnamed: 3':'anntime','Unnamed: 6':'value'},inplace = True)"
   ]
  },
  {
   "cell_type": "code",
   "execution_count": 7,
   "id": "c7c3c729",
   "metadata": {},
   "outputs": [
    {
     "data": {
      "text/html": [
       "<div>\n",
       "<style scoped>\n",
       "    .dataframe tbody tr th:only-of-type {\n",
       "        vertical-align: middle;\n",
       "    }\n",
       "\n",
       "    .dataframe tbody tr th {\n",
       "        vertical-align: top;\n",
       "    }\n",
       "\n",
       "    .dataframe thead th {\n",
       "        text-align: right;\n",
       "    }\n",
       "</style>\n",
       "<table border=\"1\" class=\"dataframe\">\n",
       "  <thead>\n",
       "    <tr style=\"text-align: right;\">\n",
       "      <th></th>\n",
       "      <th>pends</th>\n",
       "      <th>anntime</th>\n",
       "      <th>value</th>\n",
       "    </tr>\n",
       "  </thead>\n",
       "  <tbody>\n",
       "    <tr>\n",
       "      <th>0</th>\n",
       "      <td>1983-03-31</td>\n",
       "      <td>1983-04-26</td>\n",
       "      <td>0.0375</td>\n",
       "    </tr>\n",
       "    <tr>\n",
       "      <th>1</th>\n",
       "      <td>1983-06-30</td>\n",
       "      <td>1983-07-25</td>\n",
       "      <td>0.0492</td>\n",
       "    </tr>\n",
       "    <tr>\n",
       "      <th>2</th>\n",
       "      <td>1983-09-30</td>\n",
       "      <td>1983-11-02</td>\n",
       "      <td>0.0463</td>\n",
       "    </tr>\n",
       "    <tr>\n",
       "      <th>3</th>\n",
       "      <td>1983-12-31</td>\n",
       "      <td>1984-02-14</td>\n",
       "      <td>0.0379</td>\n",
       "    </tr>\n",
       "    <tr>\n",
       "      <th>4</th>\n",
       "      <td>1984-03-31</td>\n",
       "      <td>1984-04-19</td>\n",
       "      <td>0.0425</td>\n",
       "    </tr>\n",
       "    <tr>\n",
       "      <th>...</th>\n",
       "      <td>...</td>\n",
       "      <td>...</td>\n",
       "      <td>...</td>\n",
       "    </tr>\n",
       "    <tr>\n",
       "      <th>102</th>\n",
       "      <td>2008-09-30</td>\n",
       "      <td>2008-10-15</td>\n",
       "      <td>0.8300</td>\n",
       "    </tr>\n",
       "    <tr>\n",
       "      <th>103</th>\n",
       "      <td>2008-12-31</td>\n",
       "      <td>2009-02-12</td>\n",
       "      <td>0.6400</td>\n",
       "    </tr>\n",
       "    <tr>\n",
       "      <th>104</th>\n",
       "      <td>2009-03-31</td>\n",
       "      <td>2009-04-21</td>\n",
       "      <td>0.6500</td>\n",
       "    </tr>\n",
       "    <tr>\n",
       "      <th>105</th>\n",
       "      <td>2009-06-30</td>\n",
       "      <td>2009-07-21</td>\n",
       "      <td>0.9200</td>\n",
       "    </tr>\n",
       "    <tr>\n",
       "      <th>106</th>\n",
       "      <td>2009-09-30</td>\n",
       "      <td>2009-10-20</td>\n",
       "      <td>0.8200</td>\n",
       "    </tr>\n",
       "  </tbody>\n",
       "</table>\n",
       "<p>107 rows × 3 columns</p>\n",
       "</div>"
      ],
      "text/plain": [
       "         pends    anntime   value\n",
       "0   1983-03-31 1983-04-26  0.0375\n",
       "1   1983-06-30 1983-07-25  0.0492\n",
       "2   1983-09-30 1983-11-02  0.0463\n",
       "3   1983-12-31 1984-02-14  0.0379\n",
       "4   1984-03-31 1984-04-19  0.0425\n",
       "..         ...        ...     ...\n",
       "102 2008-09-30 2008-10-15  0.8300\n",
       "103 2008-12-31 2009-02-12  0.6400\n",
       "104 2009-03-31 2009-04-21  0.6500\n",
       "105 2009-06-30 2009-07-21  0.9200\n",
       "106 2009-09-30 2009-10-20  0.8200\n",
       "\n",
       "[107 rows x 3 columns]"
      ]
     },
     "execution_count": 7,
     "metadata": {},
     "output_type": "execute_result"
    }
   ],
   "source": [
    "co_earns"
   ]
  },
  {
   "cell_type": "code",
   "execution_count": 8,
   "id": "fa8d748c",
   "metadata": {},
   "outputs": [
    {
     "data": {
      "text/plain": [
       "<AxesSubplot:xlabel='pends', ylabel='value'>"
      ]
     },
     "execution_count": 8,
     "metadata": {},
     "output_type": "execute_result"
    },
    {
     "data": {
      "image/png": "[encoded data removed]",
      "text/plain": [
       "<Figure size 432x288 with 1 Axes>"
      ]
     },
     "metadata": {
      "needs_background": "light"
     },
     "output_type": "display_data"
    }
   ],
   "source": [
    "sns.lineplot(x = 'pends',  y = 'value', data = co_earns)"
   ]
  },
  {
   "cell_type": "markdown",
   "id": "dca925f4",
   "metadata": {},
   "source": [
    "## 3.2 相关函数和自相关函数 ： 以sp500和ibm为例"
   ]
  },
  {
   "cell_type": "code",
   "execution_count": 9,
   "id": "abf8d45d",
   "metadata": {},
   "outputs": [],
   "source": [
    "sp500 = pd.read_csv('m-ibmsp-2611.csv')"
   ]
  },
  {
   "cell_type": "code",
   "execution_count": 10,
   "id": "fb17e1ab",
   "metadata": {},
   "outputs": [],
   "source": [
    "sp500['date'] = [parse(str(i)) for i in sp500['date'] ]"
   ]
  },
  {
   "cell_type": "code",
   "execution_count": 11,
   "id": "2ce7d845",
   "metadata": {},
   "outputs": [],
   "source": [
    "sp500['sp'] = [np.log(1+i) for i in sp500['sp']]\n",
    "sp500['ibm'] = [np.log(1+i) for i in sp500['ibm']]"
   ]
  },
  {
   "cell_type": "code",
   "execution_count": 12,
   "id": "15d6078a",
   "metadata": {},
   "outputs": [
    {
     "data": {
      "text/html": [
       "<div>\n",
       "<style scoped>\n",
       "    .dataframe tbody tr th:only-of-type {\n",
       "        vertical-align: middle;\n",
       "    }\n",
       "\n",
       "    .dataframe tbody tr th {\n",
       "        vertical-align: top;\n",
       "    }\n",
       "\n",
       "    .dataframe thead th {\n",
       "        text-align: right;\n",
       "    }\n",
       "</style>\n",
       "<table border=\"1\" class=\"dataframe\">\n",
       "  <thead>\n",
       "    <tr style=\"text-align: right;\">\n",
       "      <th></th>\n",
       "      <th>date</th>\n",
       "      <th>ibm</th>\n",
       "      <th>sp</th>\n",
       "    </tr>\n",
       "  </thead>\n",
       "  <tbody>\n",
       "    <tr>\n",
       "      <th>0</th>\n",
       "      <td>1926-01-30</td>\n",
       "      <td>-0.010435</td>\n",
       "      <td>0.022223</td>\n",
       "    </tr>\n",
       "    <tr>\n",
       "      <th>1</th>\n",
       "      <td>1926-02-27</td>\n",
       "      <td>-0.024781</td>\n",
       "      <td>-0.044951</td>\n",
       "    </tr>\n",
       "    <tr>\n",
       "      <th>2</th>\n",
       "      <td>1926-03-31</td>\n",
       "      <td>-0.122836</td>\n",
       "      <td>-0.060932</td>\n",
       "    </tr>\n",
       "    <tr>\n",
       "      <th>3</th>\n",
       "      <td>1926-04-30</td>\n",
       "      <td>0.085979</td>\n",
       "      <td>0.022434</td>\n",
       "    </tr>\n",
       "    <tr>\n",
       "      <th>4</th>\n",
       "      <td>1926-05-28</td>\n",
       "      <td>0.036266</td>\n",
       "      <td>0.007650</td>\n",
       "    </tr>\n",
       "    <tr>\n",
       "      <th>...</th>\n",
       "      <td>...</td>\n",
       "      <td>...</td>\n",
       "      <td>...</td>\n",
       "    </tr>\n",
       "    <tr>\n",
       "      <th>1024</th>\n",
       "      <td>2011-05-31</td>\n",
       "      <td>-0.005290</td>\n",
       "      <td>-0.013593</td>\n",
       "    </tr>\n",
       "    <tr>\n",
       "      <th>1025</th>\n",
       "      <td>2011-06-30</td>\n",
       "      <td>0.015390</td>\n",
       "      <td>-0.018427</td>\n",
       "    </tr>\n",
       "    <tr>\n",
       "      <th>1026</th>\n",
       "      <td>2011-07-29</td>\n",
       "      <td>0.058308</td>\n",
       "      <td>-0.021708</td>\n",
       "    </tr>\n",
       "    <tr>\n",
       "      <th>1027</th>\n",
       "      <td>2011-08-31</td>\n",
       "      <td>-0.051858</td>\n",
       "      <td>-0.058467</td>\n",
       "    </tr>\n",
       "    <tr>\n",
       "      <th>1028</th>\n",
       "      <td>2011-09-30</td>\n",
       "      <td>0.017071</td>\n",
       "      <td>-0.074467</td>\n",
       "    </tr>\n",
       "  </tbody>\n",
       "</table>\n",
       "<p>1029 rows × 3 columns</p>\n",
       "</div>"
      ],
      "text/plain": [
       "           date       ibm        sp\n",
       "0    1926-01-30 -0.010435  0.022223\n",
       "1    1926-02-27 -0.024781 -0.044951\n",
       "2    1926-03-31 -0.122836 -0.060932\n",
       "3    1926-04-30  0.085979  0.022434\n",
       "4    1926-05-28  0.036266  0.007650\n",
       "...         ...       ...       ...\n",
       "1024 2011-05-31 -0.005290 -0.013593\n",
       "1025 2011-06-30  0.015390 -0.018427\n",
       "1026 2011-07-29  0.058308 -0.021708\n",
       "1027 2011-08-31 -0.051858 -0.058467\n",
       "1028 2011-09-30  0.017071 -0.074467\n",
       "\n",
       "[1029 rows x 3 columns]"
      ]
     },
     "execution_count": 12,
     "metadata": {},
     "output_type": "execute_result"
    }
   ],
   "source": [
    "sp500"
   ]
  },
  {
   "cell_type": "code",
   "execution_count": 13,
   "id": "adf0041a",
   "metadata": {},
   "outputs": [
    {
     "data": {
      "text/plain": [
       "<AxesSubplot:xlabel='date', ylabel='sp'>"
      ]
     },
     "execution_count": 13,
     "metadata": {},
     "output_type": "execute_result"
    },
    {
     "data": {
      "image/png": "[encoded data removed]",
      "text/plain": [
       "<Figure size 432x288 with 1 Axes>"
      ]
     },
     "metadata": {
      "needs_background": "light"
     },
     "output_type": "display_data"
    }
   ],
   "source": [
    "sns.lineplot(x = 'date',  y = 'sp', data = sp500)"
   ]
  },
  {
   "cell_type": "code",
   "execution_count": 14,
   "id": "0ec451c4",
   "metadata": {},
   "outputs": [
    {
     "data": {
      "text/plain": [
       "array([[<AxesSubplot:xlabel='sp', ylabel='sp'>,\n",
       "        <AxesSubplot:xlabel='ibm', ylabel='sp'>],\n",
       "       [<AxesSubplot:xlabel='sp', ylabel='ibm'>,\n",
       "        <AxesSubplot:xlabel='ibm', ylabel='ibm'>]], dtype=object)"
      ]
     },
     "execution_count": 14,
     "metadata": {},
     "output_type": "execute_result"
    },
    {
     "data": {
      "image/png": "[encoded data removed]",
      "text/plain": [
       "<Figure size 432x288 with 4 Axes>"
      ]
     },
     "metadata": {
      "needs_background": "light"
     },
     "output_type": "display_data"
    }
   ],
   "source": [
    "scatter_matrix(sp500[['sp','ibm']])"
   ]
  },
  {
   "cell_type": "code",
   "execution_count": 15,
   "id": "83aeaea7",
   "metadata": {},
   "outputs": [
    {
     "data": {
      "text/plain": [
       "0.002469737641984257"
      ]
     },
     "execution_count": 15,
     "metadata": {},
     "output_type": "execute_result"
    }
   ],
   "source": [
    "sp500['sp'].cov(sp500['ibm'])"
   ]
  },
  {
   "cell_type": "code",
   "execution_count": 16,
   "id": "bb5d2979",
   "metadata": {},
   "outputs": [
    {
     "data": {
      "text/plain": [
       "0.6409641827645327"
      ]
     },
     "execution_count": 16,
     "metadata": {},
     "output_type": "execute_result"
    }
   ],
   "source": [
    "sp500.sp.corr(sp500.ibm)"
   ]
  },
  {
   "cell_type": "code",
   "execution_count": 17,
   "id": "3b18f960",
   "metadata": {},
   "outputs": [
    {
     "data": {
      "text/plain": [
       "SpearmanrResult(correlation=0.6065788974589758, pvalue=2.0070145541863243e-104)"
      ]
     },
     "execution_count": 17,
     "metadata": {},
     "output_type": "execute_result"
    }
   ],
   "source": [
    "stats.spearmanr(sp500.ibm,sp500.sp)"
   ]
  },
  {
   "cell_type": "code",
   "execution_count": 18,
   "id": "4b51578d",
   "metadata": {},
   "outputs": [
    {
     "data": {
      "text/html": [
       "<div>\n",
       "<style scoped>\n",
       "    .dataframe tbody tr th:only-of-type {\n",
       "        vertical-align: middle;\n",
       "    }\n",
       "\n",
       "    .dataframe tbody tr th {\n",
       "        vertical-align: top;\n",
       "    }\n",
       "\n",
       "    .dataframe thead th {\n",
       "        text-align: right;\n",
       "    }\n",
       "</style>\n",
       "<table border=\"1\" class=\"dataframe\">\n",
       "  <thead>\n",
       "    <tr style=\"text-align: right;\">\n",
       "      <th></th>\n",
       "      <th>sp</th>\n",
       "      <th>ibm</th>\n",
       "    </tr>\n",
       "  </thead>\n",
       "  <tbody>\n",
       "    <tr>\n",
       "      <th>sp</th>\n",
       "      <td>1.000000</td>\n",
       "      <td>0.432807</td>\n",
       "    </tr>\n",
       "    <tr>\n",
       "      <th>ibm</th>\n",
       "      <td>0.432807</td>\n",
       "      <td>1.000000</td>\n",
       "    </tr>\n",
       "  </tbody>\n",
       "</table>\n",
       "</div>"
      ],
      "text/plain": [
       "           sp       ibm\n",
       "sp   1.000000  0.432807\n",
       "ibm  0.432807  1.000000"
      ]
     },
     "execution_count": 18,
     "metadata": {},
     "output_type": "execute_result"
    }
   ],
   "source": [
    "sp500[['sp','ibm']].corr(method = 'kendall')"
   ]
  },
  {
   "cell_type": "code",
   "execution_count": 19,
   "id": "18148566",
   "metadata": {},
   "outputs": [
    {
     "data": {
      "text/html": [
       "<div>\n",
       "<style scoped>\n",
       "    .dataframe tbody tr th:only-of-type {\n",
       "        vertical-align: middle;\n",
       "    }\n",
       "\n",
       "    .dataframe tbody tr th {\n",
       "        vertical-align: top;\n",
       "    }\n",
       "\n",
       "    .dataframe thead th {\n",
       "        text-align: right;\n",
       "    }\n",
       "</style>\n",
       "<table border=\"1\" class=\"dataframe\">\n",
       "  <thead>\n",
       "    <tr style=\"text-align: right;\">\n",
       "      <th></th>\n",
       "      <th>date</th>\n",
       "      <th>Unnamed: 1</th>\n",
       "      <th>Unnamed: 2</th>\n",
       "      <th>Unnamed: 3</th>\n",
       "      <th>Unnamed: 4</th>\n",
       "      <th>Unnamed: 5</th>\n",
       "      <th>Unnamed: 6</th>\n",
       "      <th>dec1</th>\n",
       "      <th>Unnamed: 8</th>\n",
       "      <th>Unnamed: 9</th>\n",
       "      <th>...</th>\n",
       "      <th>Unnamed: 11</th>\n",
       "      <th>dec2</th>\n",
       "      <th>Unnamed: 13</th>\n",
       "      <th>Unnamed: 14</th>\n",
       "      <th>Unnamed: 15</th>\n",
       "      <th>dec9</th>\n",
       "      <th>Unnamed: 17</th>\n",
       "      <th>Unnamed: 18</th>\n",
       "      <th>Unnamed: 19</th>\n",
       "      <th>dec10</th>\n",
       "    </tr>\n",
       "  </thead>\n",
       "  <tbody>\n",
       "    <tr>\n",
       "      <th>0</th>\n",
       "      <td>19670131</td>\n",
       "      <td>0.068568</td>\n",
       "      <td>0.080373</td>\n",
       "      <td>0.180843</td>\n",
       "      <td>0.211806</td>\n",
       "      <td>NaN</td>\n",
       "      <td>NaN</td>\n",
       "      <td>NaN</td>\n",
       "      <td>NaN</td>\n",
       "      <td>NaN</td>\n",
       "      <td>...</td>\n",
       "      <td>NaN</td>\n",
       "      <td>NaN</td>\n",
       "      <td>NaN</td>\n",
       "      <td>NaN</td>\n",
       "      <td>NaN</td>\n",
       "      <td>NaN</td>\n",
       "      <td>NaN</td>\n",
       "      <td>NaN</td>\n",
       "      <td>NaN</td>\n",
       "      <td>NaN</td>\n",
       "    </tr>\n",
       "    <tr>\n",
       "      <th>1</th>\n",
       "      <td>19670228</td>\n",
       "      <td>0.008735</td>\n",
       "      <td>0.011044</td>\n",
       "      <td>0.048767</td>\n",
       "      <td>0.064911</td>\n",
       "      <td>NaN</td>\n",
       "      <td>NaN</td>\n",
       "      <td>NaN</td>\n",
       "      <td>NaN</td>\n",
       "      <td>NaN</td>\n",
       "      <td>...</td>\n",
       "      <td>NaN</td>\n",
       "      <td>NaN</td>\n",
       "      <td>NaN</td>\n",
       "      <td>NaN</td>\n",
       "      <td>NaN</td>\n",
       "      <td>NaN</td>\n",
       "      <td>NaN</td>\n",
       "      <td>NaN</td>\n",
       "      <td>NaN</td>\n",
       "      <td>NaN</td>\n",
       "    </tr>\n",
       "    <tr>\n",
       "      <th>2</th>\n",
       "      <td>19670331</td>\n",
       "      <td>0.039698</td>\n",
       "      <td>0.035364</td>\n",
       "      <td>0.067494</td>\n",
       "      <td>0.068904</td>\n",
       "      <td>NaN</td>\n",
       "      <td>NaN</td>\n",
       "      <td>NaN</td>\n",
       "      <td>NaN</td>\n",
       "      <td>NaN</td>\n",
       "      <td>...</td>\n",
       "      <td>NaN</td>\n",
       "      <td>NaN</td>\n",
       "      <td>NaN</td>\n",
       "      <td>NaN</td>\n",
       "      <td>NaN</td>\n",
       "      <td>NaN</td>\n",
       "      <td>NaN</td>\n",
       "      <td>NaN</td>\n",
       "      <td>NaN</td>\n",
       "      <td>NaN</td>\n",
       "    </tr>\n",
       "    <tr>\n",
       "      <th>3</th>\n",
       "      <td>19670428</td>\n",
       "      <td>0.044030</td>\n",
       "      <td>0.037541</td>\n",
       "      <td>0.040785</td>\n",
       "      <td>0.044602</td>\n",
       "      <td>NaN</td>\n",
       "      <td>NaN</td>\n",
       "      <td>NaN</td>\n",
       "      <td>NaN</td>\n",
       "      <td>NaN</td>\n",
       "      <td>...</td>\n",
       "      <td>NaN</td>\n",
       "      <td>NaN</td>\n",
       "      <td>NaN</td>\n",
       "      <td>NaN</td>\n",
       "      <td>NaN</td>\n",
       "      <td>NaN</td>\n",
       "      <td>NaN</td>\n",
       "      <td>NaN</td>\n",
       "      <td>NaN</td>\n",
       "      <td>NaN</td>\n",
       "    </tr>\n",
       "    <tr>\n",
       "      <th>4</th>\n",
       "      <td>19670531</td>\n",
       "      <td>-0.050631</td>\n",
       "      <td>-0.036233</td>\n",
       "      <td>-0.002191</td>\n",
       "      <td>0.000295</td>\n",
       "      <td>NaN</td>\n",
       "      <td>NaN</td>\n",
       "      <td>NaN</td>\n",
       "      <td>NaN</td>\n",
       "      <td>NaN</td>\n",
       "      <td>...</td>\n",
       "      <td>NaN</td>\n",
       "      <td>NaN</td>\n",
       "      <td>NaN</td>\n",
       "      <td>NaN</td>\n",
       "      <td>NaN</td>\n",
       "      <td>NaN</td>\n",
       "      <td>NaN</td>\n",
       "      <td>NaN</td>\n",
       "      <td>NaN</td>\n",
       "      <td>NaN</td>\n",
       "    </tr>\n",
       "    <tr>\n",
       "      <th>...</th>\n",
       "      <td>...</td>\n",
       "      <td>...</td>\n",
       "      <td>...</td>\n",
       "      <td>...</td>\n",
       "      <td>...</td>\n",
       "      <td>...</td>\n",
       "      <td>...</td>\n",
       "      <td>...</td>\n",
       "      <td>...</td>\n",
       "      <td>...</td>\n",
       "      <td>...</td>\n",
       "      <td>...</td>\n",
       "      <td>...</td>\n",
       "      <td>...</td>\n",
       "      <td>...</td>\n",
       "      <td>...</td>\n",
       "      <td>...</td>\n",
       "      <td>...</td>\n",
       "      <td>...</td>\n",
       "      <td>...</td>\n",
       "      <td>...</td>\n",
       "    </tr>\n",
       "    <tr>\n",
       "      <th>511</th>\n",
       "      <td>20090831</td>\n",
       "      <td>0.029726</td>\n",
       "      <td>0.035835</td>\n",
       "      <td>0.044097</td>\n",
       "      <td>0.081239</td>\n",
       "      <td>NaN</td>\n",
       "      <td>NaN</td>\n",
       "      <td>NaN</td>\n",
       "      <td>NaN</td>\n",
       "      <td>NaN</td>\n",
       "      <td>...</td>\n",
       "      <td>NaN</td>\n",
       "      <td>NaN</td>\n",
       "      <td>NaN</td>\n",
       "      <td>NaN</td>\n",
       "      <td>NaN</td>\n",
       "      <td>NaN</td>\n",
       "      <td>NaN</td>\n",
       "      <td>NaN</td>\n",
       "      <td>NaN</td>\n",
       "      <td>NaN</td>\n",
       "    </tr>\n",
       "    <tr>\n",
       "      <th>512</th>\n",
       "      <td>20090930</td>\n",
       "      <td>0.031177</td>\n",
       "      <td>0.049051</td>\n",
       "      <td>0.074140</td>\n",
       "      <td>0.069305</td>\n",
       "      <td>NaN</td>\n",
       "      <td>NaN</td>\n",
       "      <td>NaN</td>\n",
       "      <td>NaN</td>\n",
       "      <td>NaN</td>\n",
       "      <td>...</td>\n",
       "      <td>NaN</td>\n",
       "      <td>NaN</td>\n",
       "      <td>NaN</td>\n",
       "      <td>NaN</td>\n",
       "      <td>NaN</td>\n",
       "      <td>NaN</td>\n",
       "      <td>NaN</td>\n",
       "      <td>NaN</td>\n",
       "      <td>NaN</td>\n",
       "      <td>NaN</td>\n",
       "    </tr>\n",
       "    <tr>\n",
       "      <th>513</th>\n",
       "      <td>20091030</td>\n",
       "      <td>-0.012101</td>\n",
       "      <td>-0.038530</td>\n",
       "      <td>-0.080076</td>\n",
       "      <td>-0.074620</td>\n",
       "      <td>NaN</td>\n",
       "      <td>NaN</td>\n",
       "      <td>NaN</td>\n",
       "      <td>NaN</td>\n",
       "      <td>NaN</td>\n",
       "      <td>...</td>\n",
       "      <td>NaN</td>\n",
       "      <td>NaN</td>\n",
       "      <td>NaN</td>\n",
       "      <td>NaN</td>\n",
       "      <td>NaN</td>\n",
       "      <td>NaN</td>\n",
       "      <td>NaN</td>\n",
       "      <td>NaN</td>\n",
       "      <td>NaN</td>\n",
       "      <td>NaN</td>\n",
       "    </tr>\n",
       "    <tr>\n",
       "      <th>514</th>\n",
       "      <td>20091130</td>\n",
       "      <td>0.063006</td>\n",
       "      <td>0.051560</td>\n",
       "      <td>0.014429</td>\n",
       "      <td>0.010572</td>\n",
       "      <td>NaN</td>\n",
       "      <td>NaN</td>\n",
       "      <td>NaN</td>\n",
       "      <td>NaN</td>\n",
       "      <td>NaN</td>\n",
       "      <td>...</td>\n",
       "      <td>NaN</td>\n",
       "      <td>NaN</td>\n",
       "      <td>NaN</td>\n",
       "      <td>NaN</td>\n",
       "      <td>NaN</td>\n",
       "      <td>NaN</td>\n",
       "      <td>NaN</td>\n",
       "      <td>NaN</td>\n",
       "      <td>NaN</td>\n",
       "      <td>NaN</td>\n",
       "    </tr>\n",
       "    <tr>\n",
       "      <th>515</th>\n",
       "      <td>20091231</td>\n",
       "      <td>0.009555</td>\n",
       "      <td>0.047107</td>\n",
       "      <td>0.081933</td>\n",
       "      <td>0.074133</td>\n",
       "      <td>NaN</td>\n",
       "      <td>NaN</td>\n",
       "      <td>NaN</td>\n",
       "      <td>NaN</td>\n",
       "      <td>NaN</td>\n",
       "      <td>...</td>\n",
       "      <td>NaN</td>\n",
       "      <td>NaN</td>\n",
       "      <td>NaN</td>\n",
       "      <td>NaN</td>\n",
       "      <td>NaN</td>\n",
       "      <td>NaN</td>\n",
       "      <td>NaN</td>\n",
       "      <td>NaN</td>\n",
       "      <td>NaN</td>\n",
       "      <td>NaN</td>\n",
       "    </tr>\n",
       "  </tbody>\n",
       "</table>\n",
       "<p>516 rows × 21 columns</p>\n",
       "</div>"
      ],
      "text/plain": [
       "         date  Unnamed: 1  Unnamed: 2  Unnamed: 3  Unnamed: 4  Unnamed: 5  \\\n",
       "0    19670131    0.068568    0.080373    0.180843    0.211806         NaN   \n",
       "1    19670228    0.008735    0.011044    0.048767    0.064911         NaN   \n",
       "2    19670331    0.039698    0.035364    0.067494    0.068904         NaN   \n",
       "3    19670428    0.044030    0.037541    0.040785    0.044602         NaN   \n",
       "4    19670531   -0.050631   -0.036233   -0.002191    0.000295         NaN   \n",
       "..        ...         ...         ...         ...         ...         ...   \n",
       "511  20090831    0.029726    0.035835    0.044097    0.081239         NaN   \n",
       "512  20090930    0.031177    0.049051    0.074140    0.069305         NaN   \n",
       "513  20091030   -0.012101   -0.038530   -0.080076   -0.074620         NaN   \n",
       "514  20091130    0.063006    0.051560    0.014429    0.010572         NaN   \n",
       "515  20091231    0.009555    0.047107    0.081933    0.074133         NaN   \n",
       "\n",
       "     Unnamed: 6  dec1  Unnamed: 8  Unnamed: 9  ...  Unnamed: 11  dec2  \\\n",
       "0           NaN   NaN         NaN         NaN  ...          NaN   NaN   \n",
       "1           NaN   NaN         NaN         NaN  ...          NaN   NaN   \n",
       "2           NaN   NaN         NaN         NaN  ...          NaN   NaN   \n",
       "3           NaN   NaN         NaN         NaN  ...          NaN   NaN   \n",
       "4           NaN   NaN         NaN         NaN  ...          NaN   NaN   \n",
       "..          ...   ...         ...         ...  ...          ...   ...   \n",
       "511         NaN   NaN         NaN         NaN  ...          NaN   NaN   \n",
       "512         NaN   NaN         NaN         NaN  ...          NaN   NaN   \n",
       "513         NaN   NaN         NaN         NaN  ...          NaN   NaN   \n",
       "514         NaN   NaN         NaN         NaN  ...          NaN   NaN   \n",
       "515         NaN   NaN         NaN         NaN  ...          NaN   NaN   \n",
       "\n",
       "     Unnamed: 13  Unnamed: 14  Unnamed: 15  dec9  Unnamed: 17  Unnamed: 18  \\\n",
       "0            NaN          NaN          NaN   NaN          NaN          NaN   \n",
       "1            NaN          NaN          NaN   NaN          NaN          NaN   \n",
       "2            NaN          NaN          NaN   NaN          NaN          NaN   \n",
       "3            NaN          NaN          NaN   NaN          NaN          NaN   \n",
       "4            NaN          NaN          NaN   NaN          NaN          NaN   \n",
       "..           ...          ...          ...   ...          ...          ...   \n",
       "511          NaN          NaN          NaN   NaN          NaN          NaN   \n",
       "512          NaN          NaN          NaN   NaN          NaN          NaN   \n",
       "513          NaN          NaN          NaN   NaN          NaN          NaN   \n",
       "514          NaN          NaN          NaN   NaN          NaN          NaN   \n",
       "515          NaN          NaN          NaN   NaN          NaN          NaN   \n",
       "\n",
       "     Unnamed: 19  dec10  \n",
       "0            NaN    NaN  \n",
       "1            NaN    NaN  \n",
       "2            NaN    NaN  \n",
       "3            NaN    NaN  \n",
       "4            NaN    NaN  \n",
       "..           ...    ...  \n",
       "511          NaN    NaN  \n",
       "512          NaN    NaN  \n",
       "513          NaN    NaN  \n",
       "514          NaN    NaN  \n",
       "515          NaN    NaN  \n",
       "\n",
       "[516 rows x 21 columns]"
      ]
     },
     "execution_count": 19,
     "metadata": {},
     "output_type": "execute_result"
    }
   ],
   "source": [
    "CRSP = pd.read_csv('m-dec12910.txt', sep = ' ')\n",
    "CRSP"
   ]
  },
  {
   "cell_type": "code",
   "execution_count": 20,
   "id": "321d2307",
   "metadata": {},
   "outputs": [],
   "source": [
    "CRSP = CRSP[['date','Unnamed: 1','Unnamed: 2','Unnamed: 3','Unnamed: 4']].rename(columns = {'Unnamed: 1':'dec1','Unnamed: 2':'dec2','Unnamed: 3':'dec9','Unnamed: 4':'dec10'})"
   ]
  },
  {
   "cell_type": "code",
   "execution_count": 21,
   "id": "a8c1439c",
   "metadata": {},
   "outputs": [],
   "source": [
    "CRSP['date'] = [parse(str(i)) for i in CRSP['date']]"
   ]
  },
  {
   "cell_type": "code",
   "execution_count": 22,
   "id": "7c95f4fa",
   "metadata": {
    "scrolled": true
   },
   "outputs": [
    {
     "data": {
      "text/html": [
       "<div>\n",
       "<style scoped>\n",
       "    .dataframe tbody tr th:only-of-type {\n",
       "        vertical-align: middle;\n",
       "    }\n",
       "\n",
       "    .dataframe tbody tr th {\n",
       "        vertical-align: top;\n",
       "    }\n",
       "\n",
       "    .dataframe thead th {\n",
       "        text-align: right;\n",
       "    }\n",
       "</style>\n",
       "<table border=\"1\" class=\"dataframe\">\n",
       "  <thead>\n",
       "    <tr style=\"text-align: right;\">\n",
       "      <th></th>\n",
       "      <th>date</th>\n",
       "      <th>dec1</th>\n",
       "      <th>dec2</th>\n",
       "      <th>dec9</th>\n",
       "      <th>dec10</th>\n",
       "    </tr>\n",
       "  </thead>\n",
       "  <tbody>\n",
       "    <tr>\n",
       "      <th>0</th>\n",
       "      <td>1967-01-31</td>\n",
       "      <td>0.068568</td>\n",
       "      <td>0.080373</td>\n",
       "      <td>0.180843</td>\n",
       "      <td>0.211806</td>\n",
       "    </tr>\n",
       "    <tr>\n",
       "      <th>1</th>\n",
       "      <td>1967-02-28</td>\n",
       "      <td>0.008735</td>\n",
       "      <td>0.011044</td>\n",
       "      <td>0.048767</td>\n",
       "      <td>0.064911</td>\n",
       "    </tr>\n",
       "    <tr>\n",
       "      <th>2</th>\n",
       "      <td>1967-03-31</td>\n",
       "      <td>0.039698</td>\n",
       "      <td>0.035364</td>\n",
       "      <td>0.067494</td>\n",
       "      <td>0.068904</td>\n",
       "    </tr>\n",
       "    <tr>\n",
       "      <th>3</th>\n",
       "      <td>1967-04-28</td>\n",
       "      <td>0.044030</td>\n",
       "      <td>0.037541</td>\n",
       "      <td>0.040785</td>\n",
       "      <td>0.044602</td>\n",
       "    </tr>\n",
       "    <tr>\n",
       "      <th>4</th>\n",
       "      <td>1967-05-31</td>\n",
       "      <td>-0.050631</td>\n",
       "      <td>-0.036233</td>\n",
       "      <td>-0.002191</td>\n",
       "      <td>0.000295</td>\n",
       "    </tr>\n",
       "    <tr>\n",
       "      <th>...</th>\n",
       "      <td>...</td>\n",
       "      <td>...</td>\n",
       "      <td>...</td>\n",
       "      <td>...</td>\n",
       "      <td>...</td>\n",
       "    </tr>\n",
       "    <tr>\n",
       "      <th>511</th>\n",
       "      <td>2009-08-31</td>\n",
       "      <td>0.029726</td>\n",
       "      <td>0.035835</td>\n",
       "      <td>0.044097</td>\n",
       "      <td>0.081239</td>\n",
       "    </tr>\n",
       "    <tr>\n",
       "      <th>512</th>\n",
       "      <td>2009-09-30</td>\n",
       "      <td>0.031177</td>\n",
       "      <td>0.049051</td>\n",
       "      <td>0.074140</td>\n",
       "      <td>0.069305</td>\n",
       "    </tr>\n",
       "    <tr>\n",
       "      <th>513</th>\n",
       "      <td>2009-10-30</td>\n",
       "      <td>-0.012101</td>\n",
       "      <td>-0.038530</td>\n",
       "      <td>-0.080076</td>\n",
       "      <td>-0.074620</td>\n",
       "    </tr>\n",
       "    <tr>\n",
       "      <th>514</th>\n",
       "      <td>2009-11-30</td>\n",
       "      <td>0.063006</td>\n",
       "      <td>0.051560</td>\n",
       "      <td>0.014429</td>\n",
       "      <td>0.010572</td>\n",
       "    </tr>\n",
       "    <tr>\n",
       "      <th>515</th>\n",
       "      <td>2009-12-31</td>\n",
       "      <td>0.009555</td>\n",
       "      <td>0.047107</td>\n",
       "      <td>0.081933</td>\n",
       "      <td>0.074133</td>\n",
       "    </tr>\n",
       "  </tbody>\n",
       "</table>\n",
       "<p>516 rows × 5 columns</p>\n",
       "</div>"
      ],
      "text/plain": [
       "          date      dec1      dec2      dec9     dec10\n",
       "0   1967-01-31  0.068568  0.080373  0.180843  0.211806\n",
       "1   1967-02-28  0.008735  0.011044  0.048767  0.064911\n",
       "2   1967-03-31  0.039698  0.035364  0.067494  0.068904\n",
       "3   1967-04-28  0.044030  0.037541  0.040785  0.044602\n",
       "4   1967-05-31 -0.050631 -0.036233 -0.002191  0.000295\n",
       "..         ...       ...       ...       ...       ...\n",
       "511 2009-08-31  0.029726  0.035835  0.044097  0.081239\n",
       "512 2009-09-30  0.031177  0.049051  0.074140  0.069305\n",
       "513 2009-10-30 -0.012101 -0.038530 -0.080076 -0.074620\n",
       "514 2009-11-30  0.063006  0.051560  0.014429  0.010572\n",
       "515 2009-12-31  0.009555  0.047107  0.081933  0.074133\n",
       "\n",
       "[516 rows x 5 columns]"
      ]
     },
     "execution_count": 22,
     "metadata": {},
     "output_type": "execute_result"
    }
   ],
   "source": [
    "CRSP"
   ]
  },
  {
   "cell_type": "code",
   "execution_count": 23,
   "id": "d9cd088f",
   "metadata": {},
   "outputs": [
    {
     "data": {
      "text/plain": [
       "<AxesSubplot:xlabel='date', ylabel='dec10'>"
      ]
     },
     "execution_count": 23,
     "metadata": {},
     "output_type": "execute_result"
    },
    {
     "data": {
      "image/png": "[encoded data removed]",
      "text/plain": [
       "<Figure size 432x288 with 1 Axes>"
      ]
     },
     "metadata": {
      "needs_background": "light"
     },
     "output_type": "display_data"
    }
   ],
   "source": [
    "sns.lineplot(x = 'date', y = \"dec10\", data = CRSP)"
   ]
  },
  {
   "cell_type": "code",
   "execution_count": 24,
   "id": "e156407a",
   "metadata": {},
   "outputs": [
    {
     "data": {
      "image/png": "[encoded data removed]",
      "text/plain": [
       "<Figure size 432x288 with 1 Axes>"
      ]
     },
     "execution_count": 24,
     "metadata": {},
     "output_type": "execute_result"
    },
    {
     "data": {
      "image/png": "[encoded data removed]",
      "text/plain": [
       "<Figure size 432x288 with 1 Axes>"
      ]
     },
     "metadata": {
      "needs_background": "light"
     },
     "output_type": "display_data"
    }
   ],
   "source": [
    "plot_acf(CRSP['dec10'])"
   ]
  },
  {
   "cell_type": "code",
   "execution_count": 25,
   "id": "bfbb65e6",
   "metadata": {},
   "outputs": [
    {
     "name": "stderr",
     "output_type": "stream",
     "text": [
      "/Users/runboye/anaconda3/lib/python3.7/site-packages/statsmodels/tsa/stattools.py:671: FutureWarning: fft=True will become the default after the release of the 0.12 release of statsmodels. To suppress this warning, explicitly set fft=False.\n",
      "  FutureWarning,\n"
     ]
    }
   ],
   "source": [
    "acf_value = acf(CRSP['dec10'],nlags = 12)"
   ]
  },
  {
   "cell_type": "code",
   "execution_count": 26,
   "id": "da09e937",
   "metadata": {},
   "outputs": [
    {
     "data": {
      "text/plain": [
       "2.962369485509006"
      ]
     },
     "execution_count": 26,
     "metadata": {},
     "output_type": "execute_result"
    }
   ],
   "source": [
    "len(CRSP['dec10'])**0.5*acf_value[12]"
   ]
  },
  {
   "cell_type": "code",
   "execution_count": 27,
   "id": "4954fedc",
   "metadata": {},
   "outputs": [
    {
     "data": {
      "text/html": [
       "<div>\n",
       "<style scoped>\n",
       "    .dataframe tbody tr th:only-of-type {\n",
       "        vertical-align: middle;\n",
       "    }\n",
       "\n",
       "    .dataframe tbody tr th {\n",
       "        vertical-align: top;\n",
       "    }\n",
       "\n",
       "    .dataframe thead th {\n",
       "        text-align: right;\n",
       "    }\n",
       "</style>\n",
       "<table border=\"1\" class=\"dataframe\">\n",
       "  <thead>\n",
       "    <tr style=\"text-align: right;\">\n",
       "      <th></th>\n",
       "      <th>date</th>\n",
       "      <th>ibm</th>\n",
       "      <th>sp</th>\n",
       "    </tr>\n",
       "  </thead>\n",
       "  <tbody>\n",
       "    <tr>\n",
       "      <th>0</th>\n",
       "      <td>19260130</td>\n",
       "      <td>-0.010381</td>\n",
       "      <td>0.022472</td>\n",
       "    </tr>\n",
       "    <tr>\n",
       "      <th>1</th>\n",
       "      <td>19260227</td>\n",
       "      <td>-0.024476</td>\n",
       "      <td>-0.043956</td>\n",
       "    </tr>\n",
       "    <tr>\n",
       "      <th>2</th>\n",
       "      <td>19260331</td>\n",
       "      <td>-0.115591</td>\n",
       "      <td>-0.059113</td>\n",
       "    </tr>\n",
       "    <tr>\n",
       "      <th>3</th>\n",
       "      <td>19260430</td>\n",
       "      <td>0.089783</td>\n",
       "      <td>0.022688</td>\n",
       "    </tr>\n",
       "    <tr>\n",
       "      <th>4</th>\n",
       "      <td>19260528</td>\n",
       "      <td>0.036932</td>\n",
       "      <td>0.007679</td>\n",
       "    </tr>\n",
       "    <tr>\n",
       "      <th>...</th>\n",
       "      <td>...</td>\n",
       "      <td>...</td>\n",
       "      <td>...</td>\n",
       "    </tr>\n",
       "    <tr>\n",
       "      <th>1024</th>\n",
       "      <td>20110531</td>\n",
       "      <td>-0.005276</td>\n",
       "      <td>-0.013501</td>\n",
       "    </tr>\n",
       "    <tr>\n",
       "      <th>1025</th>\n",
       "      <td>20110630</td>\n",
       "      <td>0.015509</td>\n",
       "      <td>-0.018258</td>\n",
       "    </tr>\n",
       "    <tr>\n",
       "      <th>1026</th>\n",
       "      <td>20110729</td>\n",
       "      <td>0.060041</td>\n",
       "      <td>-0.021474</td>\n",
       "    </tr>\n",
       "    <tr>\n",
       "      <th>1027</th>\n",
       "      <td>20110831</td>\n",
       "      <td>-0.050536</td>\n",
       "      <td>-0.056791</td>\n",
       "    </tr>\n",
       "    <tr>\n",
       "      <th>1028</th>\n",
       "      <td>20110930</td>\n",
       "      <td>0.017218</td>\n",
       "      <td>-0.071762</td>\n",
       "    </tr>\n",
       "  </tbody>\n",
       "</table>\n",
       "<p>1029 rows × 3 columns</p>\n",
       "</div>"
      ],
      "text/plain": [
       "          date       ibm        sp\n",
       "0     19260130 -0.010381  0.022472\n",
       "1     19260227 -0.024476 -0.043956\n",
       "2     19260331 -0.115591 -0.059113\n",
       "3     19260430  0.089783  0.022688\n",
       "4     19260528  0.036932  0.007679\n",
       "...        ...       ...       ...\n",
       "1024  20110531 -0.005276 -0.013501\n",
       "1025  20110630  0.015509 -0.018258\n",
       "1026  20110729  0.060041 -0.021474\n",
       "1027  20110831 -0.050536 -0.056791\n",
       "1028  20110930  0.017218 -0.071762\n",
       "\n",
       "[1029 rows x 3 columns]"
      ]
     },
     "execution_count": 27,
     "metadata": {},
     "output_type": "execute_result"
    }
   ],
   "source": [
    "ibm_sp = pd.read_csv('m-ibmsp-2611.csv')\n",
    "ibm_sp"
   ]
  },
  {
   "cell_type": "code",
   "execution_count": 28,
   "id": "32ed8c0f",
   "metadata": {},
   "outputs": [
    {
     "data": {
      "image/png": "[encoded data removed]",
      "text/plain": [
       "<Figure size 432x288 with 1 Axes>"
      ]
     },
     "execution_count": 28,
     "metadata": {},
     "output_type": "execute_result"
    },
    {
     "data": {
      "image/png": "[encoded data removed]",
      "text/plain": [
       "<Figure size 432x288 with 1 Axes>"
      ]
     },
     "metadata": {
      "needs_background": "light"
     },
     "output_type": "display_data"
    }
   ],
   "source": [
    "plot_acf(ibm_sp['ibm'])"
   ]
  },
  {
   "cell_type": "code",
   "execution_count": 29,
   "id": "9ca09ff8",
   "metadata": {},
   "outputs": [],
   "source": [
    "from statsmodels.stats.diagnostic import acorr_ljungbox as lb_test"
   ]
  },
  {
   "attachments": {
    "%E6%88%AA%E5%B1%8F2022-07-30%2000.19.31.png": {
     "image/png": "[encoded data removed]"
    }
   },
   "cell_type": "markdown",
   "id": "77ed5c91",
   "metadata": {},
   "source": [
    "![%E6%88%AA%E5%B1%8F2022-07-30%2000.19.31.png](attachment:%E6%88%AA%E5%B1%8F2022-07-30%2000.19.31.png)"
   ]
  },
  {
   "cell_type": "markdown",
   "id": "a0905936",
   "metadata": {},
   "source": [
    "###### {Xt} 独立切期望方差不随时间改变就是白噪声"
   ]
  },
  {
   "cell_type": "code",
   "execution_count": 30,
   "id": "a63cb889",
   "metadata": {},
   "outputs": [
    {
     "name": "stdout",
     "output_type": "stream",
     "text": [
      "(array([ 1.45605485,  1.53360007,  1.80352781,  2.7697855 ,  3.01456099,\n",
      "        4.82733728,  4.83821065,  8.97312668, 11.39275884, 12.82969205,\n",
      "       12.975211  , 13.09798439, 17.823877  , 17.96319826, 19.53751959,\n",
      "       20.54676283, 21.4696585 , 26.01237783, 26.42298949, 26.60093334,\n",
      "       26.77837864, 26.78421206, 32.36171692, 35.38412711]), array([0.22755888, 0.46449707, 0.61416755, 0.59705945, 0.69774083,\n",
      "       0.56614168, 0.67969949, 0.34456803, 0.2497447 , 0.23335045,\n",
      "       0.2949487 , 0.36195919, 0.16432197, 0.20846212, 0.19040066,\n",
      "       0.19659736, 0.20598384, 0.09947523, 0.11882798, 0.14686933,\n",
      "       0.1783098 , 0.21953718, 0.09285159, 0.06290464]))\n"
     ]
    },
    {
     "name": "stderr",
     "output_type": "stream",
     "text": [
      "/Users/runboye/anaconda3/lib/python3.7/site-packages/statsmodels/stats/diagnostic.py:559: FutureWarning: The value returned will change to a single DataFrame after 0.12 is released.  Set return_df to True to use to return a DataFrame now.  Set return_df to False to silence this warning.\n",
      "  warnings.warn(msg, FutureWarning)\n"
     ]
    }
   ],
   "source": [
    "re = lb_test(ibm_sp['ibm'], lags=24)\n",
    "print(re)"
   ]
  },
  {
   "cell_type": "code",
   "execution_count": 31,
   "id": "1b701b39",
   "metadata": {},
   "outputs": [
    {
     "data": {
      "text/plain": [
       "(array([ 1.8420058 ,  1.84413961,  2.00403502,  2.79207216,  3.13604753,\n",
       "         4.91184196,  4.96617647,  8.61184588, 10.7846976 , 12.25456027,\n",
       "        12.64945986, 12.81436599, 16.83466994, 16.94942236, 18.72522673,\n",
       "        19.90309421, 21.11221613, 25.76757322, 26.33228961, 26.62899017,\n",
       "        26.85006364, 26.85008263, 31.97116696, 34.5057981 ]),\n",
       " array([0.17471604, 0.39769504, 0.57156964, 0.59320197, 0.67902052,\n",
       "        0.55516887, 0.66409103, 0.37608994, 0.29075606, 0.26838097,\n",
       "        0.31685243, 0.38267658, 0.20697268, 0.25888318, 0.22645638,\n",
       "        0.224617  , 0.221311  , 0.10519229, 0.12119327, 0.14602844,\n",
       "        0.17587136, 0.21697592, 0.10074452, 0.07607273]))"
      ]
     },
     "execution_count": 31,
     "metadata": {},
     "output_type": "execute_result"
    }
   ],
   "source": [
    "re1 = lb_test(np.log(ibm_sp['ibm']+1), lags=24,boxpierce= False)\n",
    "re1"
   ]
  },
  {
   "cell_type": "code",
   "execution_count": 32,
   "id": "cc07e1d0",
   "metadata": {},
   "outputs": [
    {
     "data": {
      "text/plain": [
       "0      -0.010381\n",
       "1      -0.024476\n",
       "2      -0.115591\n",
       "3       0.089783\n",
       "4       0.036932\n",
       "          ...   \n",
       "1024   -0.005276\n",
       "1025    0.015509\n",
       "1026    0.060041\n",
       "1027   -0.050536\n",
       "1028    0.017218\n",
       "Name: ibm, Length: 1029, dtype: float64"
      ]
     },
     "execution_count": 32,
     "metadata": {},
     "output_type": "execute_result"
    }
   ],
   "source": [
    "ibm_sp['ibm']"
   ]
  },
  {
   "cell_type": "markdown",
   "id": "de616b3a",
   "metadata": {},
   "source": [
    "# 4 自回归模型"
   ]
  },
  {
   "cell_type": "markdown",
   "id": "06c9fe51",
   "metadata": {},
   "source": [
    "## 4.1 AR(1) & AR(2)的性质： 以GNP为例"
   ]
  },
  {
   "cell_type": "code",
   "execution_count": 34,
   "id": "d0c310d1",
   "metadata": {},
   "outputs": [
    {
     "data": {
      "text/html": [
       "<div>\n",
       "<style scoped>\n",
       "    .dataframe tbody tr th:only-of-type {\n",
       "        vertical-align: middle;\n",
       "    }\n",
       "\n",
       "    .dataframe tbody tr th {\n",
       "        vertical-align: top;\n",
       "    }\n",
       "\n",
       "    .dataframe thead th {\n",
       "        text-align: right;\n",
       "    }\n",
       "</style>\n",
       "<table border=\"1\" class=\"dataframe\">\n",
       "  <thead>\n",
       "    <tr style=\"text-align: right;\">\n",
       "      <th></th>\n",
       "      <th>Year</th>\n",
       "      <th>Month</th>\n",
       "      <th>Date</th>\n",
       "      <th>Mon</th>\n",
       "      <th>Dat</th>\n",
       "      <th>Unnamed: 3</th>\n",
       "      <th>VALUE</th>\n",
       "    </tr>\n",
       "  </thead>\n",
       "  <tbody>\n",
       "    <tr>\n",
       "      <th>0</th>\n",
       "      <td>1947</td>\n",
       "      <td>1</td>\n",
       "      <td>1</td>\n",
       "      <td>NaN</td>\n",
       "      <td>NaN</td>\n",
       "      <td>NaN</td>\n",
       "      <td>238.1</td>\n",
       "    </tr>\n",
       "    <tr>\n",
       "      <th>1</th>\n",
       "      <td>1947</td>\n",
       "      <td>4</td>\n",
       "      <td>1</td>\n",
       "      <td>NaN</td>\n",
       "      <td>NaN</td>\n",
       "      <td>NaN</td>\n",
       "      <td>241.5</td>\n",
       "    </tr>\n",
       "    <tr>\n",
       "      <th>2</th>\n",
       "      <td>1947</td>\n",
       "      <td>7</td>\n",
       "      <td>1</td>\n",
       "      <td>NaN</td>\n",
       "      <td>NaN</td>\n",
       "      <td>NaN</td>\n",
       "      <td>245.6</td>\n",
       "    </tr>\n",
       "    <tr>\n",
       "      <th>3</th>\n",
       "      <td>1947</td>\n",
       "      <td>10</td>\n",
       "      <td>1</td>\n",
       "      <td>NaN</td>\n",
       "      <td>NaN</td>\n",
       "      <td>NaN</td>\n",
       "      <td>255.6</td>\n",
       "    </tr>\n",
       "    <tr>\n",
       "      <th>4</th>\n",
       "      <td>1948</td>\n",
       "      <td>1</td>\n",
       "      <td>1</td>\n",
       "      <td>NaN</td>\n",
       "      <td>NaN</td>\n",
       "      <td>NaN</td>\n",
       "      <td>261.7</td>\n",
       "    </tr>\n",
       "    <tr>\n",
       "      <th>...</th>\n",
       "      <td>...</td>\n",
       "      <td>...</td>\n",
       "      <td>...</td>\n",
       "      <td>...</td>\n",
       "      <td>...</td>\n",
       "      <td>...</td>\n",
       "      <td>...</td>\n",
       "    </tr>\n",
       "    <tr>\n",
       "      <th>248</th>\n",
       "      <td>2009</td>\n",
       "      <td>1</td>\n",
       "      <td>1</td>\n",
       "      <td>NaN</td>\n",
       "      <td>14172.2</td>\n",
       "      <td>NaN</td>\n",
       "      <td>14172.2</td>\n",
       "    </tr>\n",
       "    <tr>\n",
       "      <th>249</th>\n",
       "      <td>2009</td>\n",
       "      <td>4</td>\n",
       "      <td>1</td>\n",
       "      <td>NaN</td>\n",
       "      <td>14164.2</td>\n",
       "      <td>NaN</td>\n",
       "      <td>14164.2</td>\n",
       "    </tr>\n",
       "    <tr>\n",
       "      <th>250</th>\n",
       "      <td>2009</td>\n",
       "      <td>7</td>\n",
       "      <td>1</td>\n",
       "      <td>NaN</td>\n",
       "      <td>14281.9</td>\n",
       "      <td>NaN</td>\n",
       "      <td>14281.9</td>\n",
       "    </tr>\n",
       "    <tr>\n",
       "      <th>251</th>\n",
       "      <td>2009</td>\n",
       "      <td>10</td>\n",
       "      <td>1</td>\n",
       "      <td>NaN</td>\n",
       "      <td>14442.8</td>\n",
       "      <td>NaN</td>\n",
       "      <td>14442.8</td>\n",
       "    </tr>\n",
       "    <tr>\n",
       "      <th>252</th>\n",
       "      <td>2010</td>\n",
       "      <td>1</td>\n",
       "      <td>1</td>\n",
       "      <td>NaN</td>\n",
       "      <td>14637.6</td>\n",
       "      <td>NaN</td>\n",
       "      <td>14637.6</td>\n",
       "    </tr>\n",
       "  </tbody>\n",
       "</table>\n",
       "<p>253 rows × 7 columns</p>\n",
       "</div>"
      ],
      "text/plain": [
       "     Year  Month  Date  Mon      Dat  Unnamed: 3    VALUE\n",
       "0    1947      1     1  NaN      NaN         NaN    238.1\n",
       "1    1947      4     1  NaN      NaN         NaN    241.5\n",
       "2    1947      7     1  NaN      NaN         NaN    245.6\n",
       "3    1947     10     1  NaN      NaN         NaN    255.6\n",
       "4    1948      1     1  NaN      NaN         NaN    261.7\n",
       "..    ...    ...   ...  ...      ...         ...      ...\n",
       "248  2009      1     1  NaN  14172.2         NaN  14172.2\n",
       "249  2009      4     1  NaN  14164.2         NaN  14164.2\n",
       "250  2009      7     1  NaN  14281.9         NaN  14281.9\n",
       "251  2009     10     1  NaN  14442.8         NaN  14442.8\n",
       "252  2010      1     1  NaN  14637.6         NaN  14637.6\n",
       "\n",
       "[253 rows x 7 columns]"
      ]
     },
     "execution_count": 34,
     "metadata": {},
     "output_type": "execute_result"
    }
   ],
   "source": [
    "GNP_adj = pd.read_csv(\"q-gnp4710.txt\", sep = ' ')\n",
    "GNP_adj_clean = GNP_adj.reset_index().rename(columns = {'level_0' : 'Year',\"level_1\" : 'Month', 'Year' : 'Date'}, inplace = False)\n",
    "\n",
    "GNP_adj_clean['VALUE'] = pd.concat([GNP_adj_clean.VALUE.dropna(),\n",
    "          GNP_adj_clean['Unnamed: 3'].dropna(),\n",
    "          GNP_adj_clean.Dat.dropna()])\n",
    "\n",
    "GNP_adj_clean"
   ]
  },
  {
   "cell_type": "code",
   "execution_count": 35,
   "id": "7f70dfa6",
   "metadata": {},
   "outputs": [
    {
     "name": "stderr",
     "output_type": "stream",
     "text": [
      "/Users/runboye/anaconda3/lib/python3.7/site-packages/pandas/core/generic.py:5516: SettingWithCopyWarning: \n",
      "A value is trying to be set on a copy of a slice from a DataFrame.\n",
      "Try using .loc[row_indexer,col_indexer] = value instead\n",
      "\n",
      "See the caveats in the documentation: https://pandas.pydata.org/pandas-docs/stable/user_guide/indexing.html#returning-a-view-versus-a-copy\n",
      "  self[name] = value\n"
     ]
    }
   ],
   "source": [
    "GNP_adj_clean = GNP_adj_clean[['Year','Month','Date','VALUE']]\n",
    "GNP_adj_clean.VALUE = np.log(GNP_adj_clean.VALUE)"
   ]
  },
  {
   "cell_type": "code",
   "execution_count": 36,
   "id": "9eaab51b",
   "metadata": {},
   "outputs": [
    {
     "data": {
      "text/plain": [
       "<AxesSubplot:xlabel='Year', ylabel='VALUE'>"
      ]
     },
     "execution_count": 36,
     "metadata": {},
     "output_type": "execute_result"
    },
    {
     "data": {
      "image/png": "[encoded data removed]",
      "text/plain": [
       "<Figure size 432x288 with 1 Axes>"
      ]
     },
     "metadata": {
      "needs_background": "light"
     },
     "output_type": "display_data"
    }
   ],
   "source": [
    "sns.lineplot(x= 'Year', y = 'VALUE', data = GNP_adj_clean)"
   ]
  },
  {
   "cell_type": "code",
   "execution_count": 37,
   "id": "807a8c2f",
   "metadata": {},
   "outputs": [
    {
     "name": "stderr",
     "output_type": "stream",
     "text": [
      "/Users/runboye/anaconda3/lib/python3.7/site-packages/ipykernel_launcher.py:1: SettingWithCopyWarning: \n",
      "A value is trying to be set on a copy of a slice from a DataFrame.\n",
      "Try using .loc[row_indexer,col_indexer] = value instead\n",
      "\n",
      "See the caveats in the documentation: https://pandas.pydata.org/pandas-docs/stable/user_guide/indexing.html#returning-a-view-versus-a-copy\n",
      "  \"\"\"Entry point for launching an IPython kernel.\n"
     ]
    }
   ],
   "source": [
    "GNP_adj_clean['Value_diff1'] = GNP_adj_clean.VALUE.diff(periods = 1)"
   ]
  },
  {
   "cell_type": "code",
   "execution_count": 38,
   "id": "d152aa4e",
   "metadata": {},
   "outputs": [
    {
     "data": {
      "text/plain": [
       "<AxesSubplot:xlabel='Year', ylabel='Value_diff1'>"
      ]
     },
     "execution_count": 38,
     "metadata": {},
     "output_type": "execute_result"
    },
    {
     "data": {
      "image/png": "[encoded data removed]",
      "text/plain": [
       "<Figure size 432x288 with 1 Axes>"
      ]
     },
     "metadata": {
      "needs_background": "light"
     },
     "output_type": "display_data"
    }
   ],
   "source": [
    "sns.lineplot(x= 'Year', y = 'Value_diff1', data = GNP_adj_clean)"
   ]
  },
  {
   "cell_type": "code",
   "execution_count": 39,
   "id": "49da392d",
   "metadata": {},
   "outputs": [
    {
     "data": {
      "image/png": "[encoded data removed]",
      "text/plain": [
       "<Figure size 432x288 with 1 Axes>"
      ]
     },
     "execution_count": 39,
     "metadata": {},
     "output_type": "execute_result"
    },
    {
     "data": {
      "image/png": "[encoded data removed]",
      "text/plain": [
       "<Figure size 432x288 with 1 Axes>"
      ]
     },
     "metadata": {
      "needs_background": "light"
     },
     "output_type": "display_data"
    }
   ],
   "source": [
    "plot_acf(GNP_adj_clean['Value_diff1'].dropna())"
   ]
  },
  {
   "cell_type": "markdown",
   "id": "ed228e12",
   "metadata": {},
   "source": [
    "## 4.2 偏自相关函数 ：以CRSP和GNP为例"
   ]
  },
  {
   "cell_type": "code",
   "execution_count": 40,
   "id": "0b004518",
   "metadata": {},
   "outputs": [
    {
     "data": {
      "text/html": [
       "<div>\n",
       "<style scoped>\n",
       "    .dataframe tbody tr th:only-of-type {\n",
       "        vertical-align: middle;\n",
       "    }\n",
       "\n",
       "    .dataframe tbody tr th {\n",
       "        vertical-align: top;\n",
       "    }\n",
       "\n",
       "    .dataframe thead th {\n",
       "        text-align: right;\n",
       "    }\n",
       "</style>\n",
       "<table border=\"1\" class=\"dataframe\">\n",
       "  <thead>\n",
       "    <tr style=\"text-align: right;\">\n",
       "      <th></th>\n",
       "      <th>date</th>\n",
       "      <th>ibmrtn</th>\n",
       "      <th>vwrtn</th>\n",
       "      <th>ewrtn</th>\n",
       "      <th>sprtn</th>\n",
       "    </tr>\n",
       "  </thead>\n",
       "  <tbody>\n",
       "    <tr>\n",
       "      <th>0</th>\n",
       "      <td>19260130</td>\n",
       "      <td>-0.010381</td>\n",
       "      <td>0.000724</td>\n",
       "      <td>0.023174</td>\n",
       "      <td>0.022472</td>\n",
       "    </tr>\n",
       "    <tr>\n",
       "      <th>1</th>\n",
       "      <td>19260227</td>\n",
       "      <td>-0.024476</td>\n",
       "      <td>-0.033374</td>\n",
       "      <td>-0.053510</td>\n",
       "      <td>-0.043956</td>\n",
       "    </tr>\n",
       "    <tr>\n",
       "      <th>2</th>\n",
       "      <td>19260331</td>\n",
       "      <td>-0.115591</td>\n",
       "      <td>-0.064341</td>\n",
       "      <td>-0.096824</td>\n",
       "      <td>-0.059113</td>\n",
       "    </tr>\n",
       "    <tr>\n",
       "      <th>3</th>\n",
       "      <td>19260430</td>\n",
       "      <td>0.089783</td>\n",
       "      <td>0.038358</td>\n",
       "      <td>0.032946</td>\n",
       "      <td>0.022688</td>\n",
       "    </tr>\n",
       "    <tr>\n",
       "      <th>4</th>\n",
       "      <td>19260528</td>\n",
       "      <td>0.036932</td>\n",
       "      <td>0.012172</td>\n",
       "      <td>0.001035</td>\n",
       "      <td>0.007679</td>\n",
       "    </tr>\n",
       "    <tr>\n",
       "      <th>...</th>\n",
       "      <td>...</td>\n",
       "      <td>...</td>\n",
       "      <td>...</td>\n",
       "      <td>...</td>\n",
       "      <td>...</td>\n",
       "    </tr>\n",
       "    <tr>\n",
       "      <th>991</th>\n",
       "      <td>20080829</td>\n",
       "      <td>-0.044929</td>\n",
       "      <td>0.011042</td>\n",
       "      <td>0.014066</td>\n",
       "      <td>0.012191</td>\n",
       "    </tr>\n",
       "    <tr>\n",
       "      <th>992</th>\n",
       "      <td>20080930</td>\n",
       "      <td>-0.039185</td>\n",
       "      <td>-0.098060</td>\n",
       "      <td>-0.120888</td>\n",
       "      <td>-0.090791</td>\n",
       "    </tr>\n",
       "    <tr>\n",
       "      <th>993</th>\n",
       "      <td>20081031</td>\n",
       "      <td>-0.205113</td>\n",
       "      <td>-0.184726</td>\n",
       "      <td>-0.206004</td>\n",
       "      <td>-0.169425</td>\n",
       "    </tr>\n",
       "    <tr>\n",
       "      <th>994</th>\n",
       "      <td>20081128</td>\n",
       "      <td>-0.116919</td>\n",
       "      <td>-0.085206</td>\n",
       "      <td>-0.136597</td>\n",
       "      <td>-0.074849</td>\n",
       "    </tr>\n",
       "    <tr>\n",
       "      <th>995</th>\n",
       "      <td>20081231</td>\n",
       "      <td>0.031373</td>\n",
       "      <td>0.021482</td>\n",
       "      <td>0.043083</td>\n",
       "      <td>0.007822</td>\n",
       "    </tr>\n",
       "  </tbody>\n",
       "</table>\n",
       "<p>996 rows × 5 columns</p>\n",
       "</div>"
      ],
      "text/plain": [
       "         date     ibmrtn      vwrtn      ewrtn      sprtn\n",
       "0    19260130  -0.010381   0.000724   0.023174   0.022472\n",
       "1    19260227  -0.024476  -0.033374  -0.053510  -0.043956\n",
       "2    19260331  -0.115591  -0.064341  -0.096824  -0.059113\n",
       "3    19260430   0.089783   0.038358   0.032946   0.022688\n",
       "4    19260528   0.036932   0.012172   0.001035   0.007679\n",
       "..        ...        ...        ...        ...        ...\n",
       "991  20080829  -0.044929   0.011042   0.014066   0.012191\n",
       "992  20080930  -0.039185  -0.098060  -0.120888  -0.090791\n",
       "993  20081031  -0.205113  -0.184726  -0.206004  -0.169425\n",
       "994  20081128  -0.116919  -0.085206  -0.136597  -0.074849\n",
       "995  20081231   0.031373   0.021482   0.043083   0.007822\n",
       "\n",
       "[996 rows x 5 columns]"
      ]
     },
     "execution_count": 40,
     "metadata": {},
     "output_type": "execute_result"
    }
   ],
   "source": [
    "data = []\n",
    "with open('m-ibm3dx2608.txt','r') as f:\n",
    "    for line in f.readlines():\n",
    "        line = line.strip('\\n')\n",
    "        line = line.split()\n",
    "        data.append(line)\n",
    "ibm_pacf = pd.DataFrame(data[1:])\n",
    "ibm_pacf.columns = data[0]\n",
    "ibm_pacf"
   ]
  },
  {
   "cell_type": "code",
   "execution_count": 41,
   "id": "e1034a9f",
   "metadata": {},
   "outputs": [],
   "source": [
    "ibm_pacf['date'] = [parse(i) for i in ibm_pacf['date']]"
   ]
  },
  {
   "cell_type": "code",
   "execution_count": 42,
   "id": "379cfd9b",
   "metadata": {},
   "outputs": [],
   "source": [
    "ibm_pacf[['ibmrtn','vwrtn','ewrtn', 'sprtn']] = ibm_pacf[['ibmrtn','vwrtn','ewrtn', 'sprtn']].astype(float)"
   ]
  },
  {
   "cell_type": "code",
   "execution_count": 43,
   "id": "b2cbced1",
   "metadata": {},
   "outputs": [
    {
     "data": {
      "text/plain": [
       "<AxesSubplot:xlabel='date', ylabel='vwrtn'>"
      ]
     },
     "execution_count": 43,
     "metadata": {},
     "output_type": "execute_result"
    },
    {
     "data": {
      "image/png": "[encoded data removed]",
      "text/plain": [
       "<Figure size 432x288 with 1 Axes>"
      ]
     },
     "metadata": {
      "needs_background": "light"
     },
     "output_type": "display_data"
    }
   ],
   "source": [
    "sns.lineplot(x = 'date', y = 'vwrtn', data = ibm_pacf) # 图4.2"
   ]
  },
  {
   "cell_type": "code",
   "execution_count": 44,
   "id": "f4a62d46",
   "metadata": {},
   "outputs": [
    {
     "data": {
      "image/png": "[encoded data removed]",
      "text/plain": [
       "<Figure size 432x288 with 1 Axes>"
      ]
     },
     "execution_count": 44,
     "metadata": {},
     "output_type": "execute_result"
    },
    {
     "data": {
      "image/png": "[encoded data removed]",
      "text/plain": [
       "<Figure size 432x288 with 1 Axes>"
      ]
     },
     "metadata": {
      "needs_background": "light"
     },
     "output_type": "display_data"
    }
   ],
   "source": [
    "plot_acf(ibm_pacf['vwrtn']) # 图4.3"
   ]
  },
  {
   "cell_type": "code",
   "execution_count": 45,
   "id": "e3670a5e",
   "metadata": {},
   "outputs": [
    {
     "data": {
      "image/png": "[encoded data removed]",
      "text/plain": [
       "<Figure size 432x288 with 1 Axes>"
      ]
     },
     "execution_count": 45,
     "metadata": {},
     "output_type": "execute_result"
    },
    {
     "data": {
      "image/png": "[encoded data removed]",
      "text/plain": [
       "<Figure size 432x288 with 1 Axes>"
      ]
     },
     "metadata": {
      "needs_background": "light"
     },
     "output_type": "display_data"
    }
   ],
   "source": [
    "plot_pacf(ibm_pacf['vwrtn']) # 图4.4"
   ]
  },
  {
   "cell_type": "markdown",
   "id": "906e9eab",
   "metadata": {},
   "source": [
    "#### 截尾现象：\n",
    "（1）在最初的d阶明显大于2倍标准差范围\n",
    "（2）之后几乎95%的(偏)自相关系数都落在2倍标准差范围以内\n",
    "（3）且由非零自相关系数衰减为在零附近小值波动的过程非常突然\n",
    "#### 拖尾现象：\n",
    "（1）如果有超过5%的样本(偏)自相关系数都落入2倍标准差范围之外\n",
    "（2）或者是由显著非0的(偏)自相关系数衰减为小值波动的过程比较缓慢或非常连续"
   ]
  },
  {
   "cell_type": "code",
   "execution_count": 46,
   "id": "ebb19184",
   "metadata": {},
   "outputs": [
    {
     "data": {
      "text/plain": [
       "array([ 1.        ,  0.11551198, -0.03042422, -0.10276765,  0.03269567,\n",
       "        0.06215152, -0.05053364,  0.03142423,  0.05209912,  0.0640349 ,\n",
       "        0.00539819, -0.00521495,  0.01105037])"
      ]
     },
     "execution_count": 46,
     "metadata": {},
     "output_type": "execute_result"
    }
   ],
   "source": [
    "pacf(ibm_pacf['vwrtn'], nlags = 12) "
   ]
  },
  {
   "cell_type": "markdown",
   "id": "4ec6d9b6",
   "metadata": {},
   "source": [
    "#### PACF的计算\n",
    "（1）Xi与Xi-1……Xi-k+1拟合得到残差序列\n",
    "（2）Xi-k与Xi-1……Xi-k+1拟合得到残差序列\n",
    "（3）计算残差序列相关系数，k>p,PACF趋于0，大于最佳滞后项后，出现截尾。PACF的意义是剔除Xi-1……Xi-k+1短滞后期的影响"
   ]
  },
  {
   "cell_type": "code",
   "execution_count": 47,
   "id": "d489a24f",
   "metadata": {},
   "outputs": [
    {
     "data": {
      "image/png": "[encoded data removed]",
      "text/plain": [
       "<Figure size 432x288 with 1 Axes>"
      ]
     },
     "execution_count": 47,
     "metadata": {},
     "output_type": "execute_result"
    },
    {
     "data": {
      "image/png": "[encoded data removed]",
      "text/plain": [
       "<Figure size 432x288 with 1 Axes>"
      ]
     },
     "metadata": {
      "needs_background": "light"
     },
     "output_type": "display_data"
    }
   ],
   "source": [
    "plot_acf(GNP_adj_clean['Value_diff1'].dropna()) # GNP数据ACF明显不截尾，拖尾"
   ]
  },
  {
   "cell_type": "code",
   "execution_count": 48,
   "id": "fa0e0d11",
   "metadata": {},
   "outputs": [
    {
     "data": {
      "image/png": "[encoded data removed]",
      "text/plain": [
       "<Figure size 432x288 with 1 Axes>"
      ]
     },
     "execution_count": 48,
     "metadata": {},
     "output_type": "execute_result"
    },
    {
     "data": {
      "image/png": "[encoded data removed]",
      "text/plain": [
       "<Figure size 432x288 with 1 Axes>"
      ]
     },
     "metadata": {
      "needs_background": "light"
     },
     "output_type": "display_data"
    }
   ],
   "source": [
    "plot_pacf(GNP_adj_clean['Value_diff1'].dropna()) # k =3 出现截尾"
   ]
  },
  {
   "cell_type": "markdown",
   "id": "100f86dc",
   "metadata": {},
   "source": [
    "##### 例1: 建立AR(p)模型，ADF（Augmented Dickey-Fuller Test)定阶 ： 以 GNP growth为例"
   ]
  },
  {
   "cell_type": "code",
   "execution_count": 49,
   "id": "372671ee",
   "metadata": {},
   "outputs": [
    {
     "data": {
      "text/plain": [
       "(-3.3612912376756374,\n",
       " 0.012351392233122734,\n",
       " 8,\n",
       " 243,\n",
       " {'1%': -3.4575505077947746,\n",
       "  '5%': -2.8735087323013526,\n",
       "  '10%': -2.573148434859185},\n",
       " -1555.6878048011768)"
      ]
     },
     "execution_count": 49,
     "metadata": {},
     "output_type": "execute_result"
    }
   ],
   "source": [
    "adfuller(\n",
    "    GNP_adj_clean['Value_diff1'].dropna(),\n",
    "    maxlag = 10,\n",
    "    regression = 'c',\n",
    "    autolag = 'AIC',\n",
    "    store = False,\n",
    "    regresults = False\n",
    ")"
   ]
  },
  {
   "cell_type": "code",
   "execution_count": 50,
   "id": "9d6894a1",
   "metadata": {},
   "outputs": [
    {
     "data": {
      "text/plain": [
       "(-6.893043342734756,\n",
       " 1.34039286261245e-09,\n",
       " 1,\n",
       " 250,\n",
       " {'1%': -3.456780859712, '5%': -2.8731715065600003, '10%': -2.572968544},\n",
       " -1537.8441494635576)"
      ]
     },
     "execution_count": 50,
     "metadata": {},
     "output_type": "execute_result"
    }
   ],
   "source": [
    "adfuller(\n",
    "    GNP_adj_clean['Value_diff1'].dropna(),\n",
    "    maxlag = 12,\n",
    "    regression = 'c',\n",
    "    autolag = 'BIC',\n",
    "    store = False,\n",
    "    regresults = False\n",
    ")"
   ]
  },
  {
   "cell_type": "code",
   "execution_count": 51,
   "id": "2017164e",
   "metadata": {},
   "outputs": [
    {
     "data": {
      "text/plain": [
       "0      0.000724\n",
       "1     -0.033374\n",
       "2     -0.064341\n",
       "3      0.038358\n",
       "4      0.012172\n",
       "         ...   \n",
       "991    0.011042\n",
       "992   -0.098060\n",
       "993   -0.184726\n",
       "994   -0.085206\n",
       "995    0.021482\n",
       "Name: vwrtn, Length: 996, dtype: float64"
      ]
     },
     "execution_count": 51,
     "metadata": {},
     "output_type": "execute_result"
    }
   ],
   "source": [
    "ibm_pacf['vwrtn']"
   ]
  },
  {
   "cell_type": "markdown",
   "id": "6b70cbca",
   "metadata": {},
   "source": [
    "####  例2: 对CRSP 价值加权指数月度收益率用 AR(3) 建模"
   ]
  },
  {
   "cell_type": "markdown",
   "id": "dca3faff",
   "metadata": {},
   "source": [
    "##### AIC定阶"
   ]
  },
  {
   "cell_type": "code",
   "execution_count": 52,
   "id": "e10a90a2",
   "metadata": {},
   "outputs": [
    {
     "data": {
      "text/plain": [
       "(-8.952147857000371,\n",
       " 8.66567424347515e-15,\n",
       " 8,\n",
       " 987,\n",
       " {'1%': -3.4369927443074353,\n",
       "  '5%': -2.864472756705845,\n",
       "  '10%': -2.568331546097238},\n",
       " -2957.181166995527)"
      ]
     },
     "execution_count": 52,
     "metadata": {},
     "output_type": "execute_result"
    }
   ],
   "source": [
    "adfuller(\n",
    "    ibm_pacf['vwrtn'],\n",
    "    maxlag = 10,\n",
    "    regression = 'c',\n",
    "    autolag = 'AIC',\n",
    "    store = False,\n",
    "    regresults = False\n",
    ")"
   ]
  },
  {
   "cell_type": "code",
   "execution_count": 53,
   "id": "305ede66",
   "metadata": {},
   "outputs": [
    {
     "name": "stderr",
     "output_type": "stream",
     "text": [
      "/Users/runboye/anaconda3/lib/python3.7/site-packages/statsmodels/tsa/ar_model.py:252: FutureWarning: The parameter names will change after 0.12 is released. Set old_names to False to use the new names now. Set old_names to True to use the old names. \n",
      "  FutureWarning,\n"
     ]
    }
   ],
   "source": [
    "from statsmodels.tsa.ar_model import ar_select_order\n",
    "ar_select = ar_select_order(ibm_pacf['vwrtn'], maxlag = 20, ic = \"aic\")\n",
    "aic = {}\n",
    "for k, v in ar_select.aic.items():\n",
    "    if k != 0:\n",
    "        aic[max(k)] = v\n",
    "aic_frame = pd.DataFrame(sorted(aic.items(), key = lambda item: item[1]))"
   ]
  },
  {
   "cell_type": "code",
   "execution_count": 54,
   "id": "72e4bf2c",
   "metadata": {},
   "outputs": [
    {
     "data": {
      "text/html": [
       "<div>\n",
       "<style scoped>\n",
       "    .dataframe tbody tr th:only-of-type {\n",
       "        vertical-align: middle;\n",
       "    }\n",
       "\n",
       "    .dataframe tbody tr th {\n",
       "        vertical-align: top;\n",
       "    }\n",
       "\n",
       "    .dataframe thead th {\n",
       "        text-align: right;\n",
       "    }\n",
       "</style>\n",
       "<table border=\"1\" class=\"dataframe\">\n",
       "  <thead>\n",
       "    <tr style=\"text-align: right;\">\n",
       "      <th></th>\n",
       "      <th>0</th>\n",
       "      <th>1</th>\n",
       "    </tr>\n",
       "  </thead>\n",
       "  <tbody>\n",
       "    <tr>\n",
       "      <th>0</th>\n",
       "      <td>20</td>\n",
       "      <td>-5.838190</td>\n",
       "    </tr>\n",
       "    <tr>\n",
       "      <th>1</th>\n",
       "      <td>17</td>\n",
       "      <td>-5.837705</td>\n",
       "    </tr>\n",
       "    <tr>\n",
       "      <th>2</th>\n",
       "      <td>19</td>\n",
       "      <td>-5.836397</td>\n",
       "    </tr>\n",
       "    <tr>\n",
       "      <th>3</th>\n",
       "      <td>18</td>\n",
       "      <td>-5.836148</td>\n",
       "    </tr>\n",
       "    <tr>\n",
       "      <th>4</th>\n",
       "      <td>9</td>\n",
       "      <td>-5.834738</td>\n",
       "    </tr>\n",
       "    <tr>\n",
       "      <th>5</th>\n",
       "      <td>14</td>\n",
       "      <td>-5.834418</td>\n",
       "    </tr>\n",
       "    <tr>\n",
       "      <th>6</th>\n",
       "      <td>16</td>\n",
       "      <td>-5.833408</td>\n",
       "    </tr>\n",
       "    <tr>\n",
       "      <th>7</th>\n",
       "      <td>6</td>\n",
       "      <td>-5.832797</td>\n",
       "    </tr>\n",
       "    <tr>\n",
       "      <th>8</th>\n",
       "      <td>10</td>\n",
       "      <td>-5.832720</td>\n",
       "    </tr>\n",
       "    <tr>\n",
       "      <th>9</th>\n",
       "      <td>15</td>\n",
       "      <td>-5.832475</td>\n",
       "    </tr>\n",
       "    <tr>\n",
       "      <th>10</th>\n",
       "      <td>5</td>\n",
       "      <td>-5.832308</td>\n",
       "    </tr>\n",
       "    <tr>\n",
       "      <th>11</th>\n",
       "      <td>8</td>\n",
       "      <td>-5.832258</td>\n",
       "    </tr>\n",
       "    <tr>\n",
       "      <th>12</th>\n",
       "      <td>7</td>\n",
       "      <td>-5.831665</td>\n",
       "    </tr>\n",
       "    <tr>\n",
       "      <th>13</th>\n",
       "      <td>3</td>\n",
       "      <td>-5.831428</td>\n",
       "    </tr>\n",
       "    <tr>\n",
       "      <th>14</th>\n",
       "      <td>11</td>\n",
       "      <td>-5.830698</td>\n",
       "    </tr>\n",
       "    <tr>\n",
       "      <th>15</th>\n",
       "      <td>4</td>\n",
       "      <td>-5.830560</td>\n",
       "    </tr>\n",
       "    <tr>\n",
       "      <th>16</th>\n",
       "      <td>13</td>\n",
       "      <td>-5.829254</td>\n",
       "    </tr>\n",
       "    <tr>\n",
       "      <th>17</th>\n",
       "      <td>12</td>\n",
       "      <td>-5.828800</td>\n",
       "    </tr>\n",
       "    <tr>\n",
       "      <th>18</th>\n",
       "      <td>1</td>\n",
       "      <td>-5.823682</td>\n",
       "    </tr>\n",
       "    <tr>\n",
       "      <th>19</th>\n",
       "      <td>2</td>\n",
       "      <td>-5.822650</td>\n",
       "    </tr>\n",
       "  </tbody>\n",
       "</table>\n",
       "</div>"
      ],
      "text/plain": [
       "     0         1\n",
       "0   20 -5.838190\n",
       "1   17 -5.837705\n",
       "2   19 -5.836397\n",
       "3   18 -5.836148\n",
       "4    9 -5.834738\n",
       "5   14 -5.834418\n",
       "6   16 -5.833408\n",
       "7    6 -5.832797\n",
       "8   10 -5.832720\n",
       "9   15 -5.832475\n",
       "10   5 -5.832308\n",
       "11   8 -5.832258\n",
       "12   7 -5.831665\n",
       "13   3 -5.831428\n",
       "14  11 -5.830698\n",
       "15   4 -5.830560\n",
       "16  13 -5.829254\n",
       "17  12 -5.828800\n",
       "18   1 -5.823682\n",
       "19   2 -5.822650"
      ]
     },
     "execution_count": 54,
     "metadata": {},
     "output_type": "execute_result"
    }
   ],
   "source": [
    "aic_frame"
   ]
  },
  {
   "cell_type": "code",
   "execution_count": 55,
   "id": "ad798484",
   "metadata": {},
   "outputs": [],
   "source": [
    "from statsmodels.tsa.ar_model import AutoReg"
   ]
  },
  {
   "cell_type": "markdown",
   "id": "0e7498e9",
   "metadata": {},
   "source": [
    "#### 计算滞后算子特征根判断弱平稳 {弱平稳} + {k阶自相关系数 = 0 } = 白噪声\n",
    "AR模型参数估计：最大似然估计\n",
    "AR模型检验： （1）模型R方（2）滞后算子特征根：单位圆外，证明时间序列弱平稳（3）残差是否为白噪声（4）滞后项系数显著性"
   ]
  },
  {
   "cell_type": "code",
   "execution_count": 56,
   "id": "79078d01",
   "metadata": {},
   "outputs": [
    {
     "name": "stderr",
     "output_type": "stream",
     "text": [
      "/Users/runboye/anaconda3/lib/python3.7/site-packages/statsmodels/tsa/ar_model.py:252: FutureWarning: The parameter names will change after 0.12 is released. Set old_names to False to use the new names now. Set old_names to True to use the old names. \n",
      "  FutureWarning,\n"
     ]
    },
    {
     "data": {
      "text/plain": [
       "[2.36316956691306, 2.01448981151194, 2.01448981151194]"
      ]
     },
     "execution_count": 56,
     "metadata": {},
     "output_type": "execute_result"
    }
   ],
   "source": [
    "AR3_model = AutoReg(ibm_pacf['vwrtn'], 3).fit()\n",
    "x = sp.Symbol('x')\n",
    "f = AR3_model.params[3]*x**3 + AR3_model.params[2]*x**2 + AR3_model.params[1]*x - 1\n",
    "x = sp.solve(f)\n",
    "x = [abs(i) for i in x]\n",
    "x"
   ]
  },
  {
   "cell_type": "code",
   "execution_count": 57,
   "id": "c5dfbdf7",
   "metadata": {},
   "outputs": [
    {
     "data": {
      "text/html": [
       "<table class=\"simpletable\">\n",
       "<caption>AutoReg Model Results</caption>\n",
       "<tr>\n",
       "  <th>Dep. Variable:</th>       <td>vwrtn</td>      <th>  No. Observations:  </th>    <td>996</td>  \n",
       "</tr>\n",
       "<tr>\n",
       "  <th>Model:</th>            <td>AutoReg(3)</td>    <th>  Log Likelihood     </th> <td>1495.982</td>\n",
       "</tr>\n",
       "<tr>\n",
       "  <th>Method:</th>         <td>Conditional MLE</td> <th>  S.D. of innovations</th>   <td>0.054</td> \n",
       "</tr>\n",
       "<tr>\n",
       "  <th>Date:</th>          <td>Sun, 31 Jul 2022</td> <th>  AIC                </th>  <td>-5.841</td> \n",
       "</tr>\n",
       "<tr>\n",
       "  <th>Time:</th>              <td>01:00:59</td>     <th>  BIC                </th>  <td>-5.816</td> \n",
       "</tr>\n",
       "<tr>\n",
       "  <th>Sample:</th>                <td>3</td>        <th>  HQIC               </th>  <td>-5.831</td> \n",
       "</tr>\n",
       "<tr>\n",
       "  <th></th>                      <td>996</td>       <th>                     </th>     <td> </td>   \n",
       "</tr>\n",
       "</table>\n",
       "<table class=\"simpletable\">\n",
       "<tr>\n",
       "      <td></td>         <th>coef</th>     <th>std err</th>      <th>z</th>      <th>P>|z|</th>  <th>[0.025</th>    <th>0.975]</th>  \n",
       "</tr>\n",
       "<tr>\n",
       "  <th>intercept</th> <td>    0.0091</td> <td>    0.002</td> <td>    5.176</td> <td> 0.000</td> <td>    0.006</td> <td>    0.013</td>\n",
       "</tr>\n",
       "<tr>\n",
       "  <th>vwrtn.L1</th>  <td>    0.1148</td> <td>    0.032</td> <td>    3.641</td> <td> 0.000</td> <td>    0.053</td> <td>    0.177</td>\n",
       "</tr>\n",
       "<tr>\n",
       "  <th>vwrtn.L2</th>  <td>   -0.0188</td> <td>    0.032</td> <td>   -0.591</td> <td> 0.555</td> <td>   -0.081</td> <td>    0.044</td>\n",
       "</tr>\n",
       "<tr>\n",
       "  <th>vwrtn.L3</th>  <td>   -0.1043</td> <td>    0.032</td> <td>   -3.283</td> <td> 0.001</td> <td>   -0.167</td> <td>   -0.042</td>\n",
       "</tr>\n",
       "</table>\n",
       "<table class=\"simpletable\">\n",
       "<caption>Roots</caption>\n",
       "<tr>\n",
       "    <td></td>   <th>            Real</th>  <th>         Imaginary</th> <th>         Modulus</th>  <th>        Frequency</th>\n",
       "</tr>\n",
       "<tr>\n",
       "  <th>AR.1</th> <td>           1.0916</td> <td>          -1.6931j</td> <td>           2.0145</td> <td>          -0.1589</td>\n",
       "</tr>\n",
       "<tr>\n",
       "  <th>AR.2</th> <td>           1.0916</td> <td>          +1.6931j</td> <td>           2.0145</td> <td>           0.1589</td>\n",
       "</tr>\n",
       "<tr>\n",
       "  <th>AR.3</th> <td>          -2.3632</td> <td>          -0.0000j</td> <td>           2.3632</td> <td>          -0.5000</td>\n",
       "</tr>\n",
       "</table>"
      ],
      "text/plain": [
       "<class 'statsmodels.iolib.summary.Summary'>\n",
       "\"\"\"\n",
       "                            AutoReg Model Results                             \n",
       "==============================================================================\n",
       "Dep. Variable:                  vwrtn   No. Observations:                  996\n",
       "Model:                     AutoReg(3)   Log Likelihood                1495.982\n",
       "Method:               Conditional MLE   S.D. of innovations              0.054\n",
       "Date:                Sun, 31 Jul 2022   AIC                             -5.841\n",
       "Time:                        01:00:59   BIC                             -5.816\n",
       "Sample:                             3   HQIC                            -5.831\n",
       "                                  996                                         \n",
       "==============================================================================\n",
       "                 coef    std err          z      P>|z|      [0.025      0.975]\n",
       "------------------------------------------------------------------------------\n",
       "intercept      0.0091      0.002      5.176      0.000       0.006       0.013\n",
       "vwrtn.L1       0.1148      0.032      3.641      0.000       0.053       0.177\n",
       "vwrtn.L2      -0.0188      0.032     -0.591      0.555      -0.081       0.044\n",
       "vwrtn.L3      -0.1043      0.032     -3.283      0.001      -0.167      -0.042\n",
       "                                    Roots                                    \n",
       "=============================================================================\n",
       "                  Real          Imaginary           Modulus         Frequency\n",
       "-----------------------------------------------------------------------------\n",
       "AR.1            1.0916           -1.6931j            2.0145           -0.1589\n",
       "AR.2            1.0916           +1.6931j            2.0145            0.1589\n",
       "AR.3           -2.3632           -0.0000j            2.3632           -0.5000\n",
       "-----------------------------------------------------------------------------\n",
       "\"\"\""
      ]
     },
     "execution_count": 57,
     "metadata": {},
     "output_type": "execute_result"
    }
   ],
   "source": [
    "AR3_model.params[1:4]\n",
    "AR3_model.summary()"
   ]
  },
  {
   "cell_type": "code",
   "execution_count": 58,
   "id": "7b8ef789",
   "metadata": {},
   "outputs": [
    {
     "data": {
      "text/plain": [
       "array([-3.60667251e-02,  6.04797059e-03, -4.03727138e-02, -1.69327940e-02,\n",
       "       -1.80163841e-02, -3.34303848e-06,  3.73863050e-02, -2.50226984e-02,\n",
       "       -1.82059326e-02,  1.38999863e-02, -3.99703754e-02,  4.94059918e-03,\n",
       "        2.19653355e-03, -5.19525900e-02,  3.52634755e-02, -7.06305457e-02,\n",
       "       -1.47902758e-02, -3.60861010e-02,  4.82546807e-02, -6.81075200e-02,\n",
       "       -1.09690557e-02,  1.84654588e-02,  1.55317910e-02, -8.58324164e-02,\n",
       "       -2.29620387e-02, -4.50352102e-03,  4.62844569e-02, -1.09972962e-02,\n",
       "       -6.03885064e-02, -9.78612716e-03, -8.41861909e-03, -1.17848105e-01,\n",
       "        1.41610979e-02, -4.66027039e-02,  2.55466156e-03,  1.55512598e-02,\n",
       "       -1.40019139e-02,  7.03341067e-02, -9.67924946e-02, -2.54188925e-02,\n",
       "       -6.69509895e-02,  5.77220374e-02,  1.92550796e-01,  1.01962311e-01,\n",
       "       -1.41165759e-02, -2.27495230e-02,  4.47107804e-04, -6.56549689e-02,\n",
       "        3.22022532e-02,  1.56860066e-02,  1.58048233e-01, -4.62315782e-02,\n",
       "        1.39061493e-02,  1.49328259e-01,  7.76656490e-02,  2.70273028e-02,\n",
       "        9.91262028e-02, -5.28515783e-02, -8.89108935e-02,  9.27346666e-02,\n",
       "        9.16855971e-02,  1.20529166e-01, -1.35568556e-01,  1.02766555e-01,\n",
       "        1.05838909e-02,  2.86302487e-01, -9.66008505e-02,  1.12191552e-01,\n",
       "        1.61102239e-01, -1.99819398e-03, -3.63532820e-02,  1.38412839e-01,\n",
       "        1.75935689e-01,  1.92270521e-01,  5.09106807e-03, -3.06325254e-01,\n",
       "       -2.96415453e-01,  7.62399741e-02,  9.47068407e-02,  1.21746727e-02,\n",
       "       -3.73469122e-02,  1.93255007e-02,  1.65498375e-01, -4.70745133e-02,\n",
       "       -3.68851648e-01, -1.43637008e-01, -1.11643545e-01,  7.66529277e-02,\n",
       "       -1.47785771e-01,  1.15498032e-01,  8.80802304e-02, -1.11017381e-01,\n",
       "        1.30900279e-02, -1.11552514e-01,  3.65120770e-02, -2.84507915e-03,\n",
       "        1.45155848e-02,  8.03933499e-02, -2.43366850e-02,  1.23459345e-01,\n",
       "       -5.59849976e-02,  1.83787391e-02,  3.82683100e-02, -8.33226233e-02,\n",
       "        1.55577129e-02,  4.28206622e-02,  1.51204758e-02,  4.42427800e-02,\n",
       "       -8.05168048e-02, -1.27754946e-02, -3.99572101e-02, -6.81224602e-02,\n",
       "       -1.32066147e-02, -2.08884807e-02, -6.74096976e-02, -3.77472919e-02,\n",
       "       -3.50496846e-02, -6.00706380e-02, -1.52554745e-02, -3.38435689e-03,\n",
       "        8.33339930e-02, -5.32569390e-02, -1.05622649e-02, -4.50749218e-02,\n",
       "        5.96949550e-06, -7.89632719e-03, -6.52547163e-02, -1.76285941e-02,\n",
       "        8.09318466e-03, -3.09871060e-02, -3.68854981e-03,  1.33350267e-02,\n",
       "        7.93223353e-02,  7.87388485e-03,  5.14986419e-02, -7.66268186e-02,\n",
       "        6.96271420e-02,  1.41615905e-01,  7.99006221e-02,  8.95989313e-02,\n",
       "        5.55133606e-02,  8.34170553e-03, -3.83787173e-02,  2.56942346e-01,\n",
       "       -1.65622421e-01,  6.34967649e-02, -2.09444369e-01, -5.00860725e-02,\n",
       "        4.42437788e-02, -2.85176510e-02, -7.47205551e-02,  3.90598573e-02,\n",
       "       -3.63410541e-02,  6.56767159e-02, -3.15111331e-02,  1.29222609e-01,\n",
       "        3.33138556e-03, -6.12740888e-02,  8.23304365e-02, -9.97452965e-02,\n",
       "        8.07474460e-02, -1.54490868e-01,  2.19296120e-02,  4.93634155e-02,\n",
       "       -4.20095034e-02,  3.77230689e-02, -4.02804533e-03, -1.09549179e-02,\n",
       "        1.23552129e-02,  2.27799494e-01, -8.48298807e-02, -1.14380116e-02,\n",
       "        1.05891566e-02, -1.87043595e-02, -2.17429043e-02,  2.59564236e-02,\n",
       "       -2.51837298e-03,  4.76246745e-02,  2.08933239e-02, -2.12471096e-03,\n",
       "        6.77975440e-02, -9.45550397e-03, -4.79687051e-02, -3.83793052e-02,\n",
       "        1.38792988e-02,  9.33328024e-03,  5.38562676e-02,  2.27380394e-02,\n",
       "        5.53856818e-02,  2.36823062e-03,  3.69954752e-02,  7.67486803e-02,\n",
       "        4.44414077e-02, -5.31226484e-02, -1.68848114e-03, -1.94693433e-02,\n",
       "       -1.23667538e-02, -1.83410716e-02, -5.95266595e-02,  1.19615951e-02,\n",
       "       -4.50130845e-02, -6.54907908e-02, -4.35815335e-02, -5.27010200e-02,\n",
       "        5.85250632e-04, -5.46499236e-02, -7.82219585e-03,  5.54827953e-02,\n",
       "       -1.54404198e-02, -1.48039975e-02,  2.87368737e-02,  6.44401170e-02,\n",
       "       -6.35433682e-02,  7.33882974e-04,  1.24266371e-02, -2.18387426e-02,\n",
       "        2.63193408e-02, -4.45454849e-02, -4.34313487e-02,  3.14768416e-02,\n",
       "       -1.49055796e-02,  5.19322428e-03,  7.92726170e-03, -8.70451102e-03,\n",
       "       -3.02730610e-02, -5.90212024e-03, -5.54392146e-02,  5.05785948e-02,\n",
       "       -7.60000939e-02, -6.58219376e-03,  1.04300896e-02,  2.31881787e-02,\n",
       "       -5.65384978e-02, -3.18466445e-02, -2.32153107e-02, -4.82126745e-02,\n",
       "       -2.11415884e-03, -5.79220500e-02,  6.83411699e-02, -5.86448374e-02,\n",
       "       -3.25447352e-02, -2.08791943e-02,  4.59181217e-02,  2.48779584e-02,\n",
       "        6.67040167e-02,  1.06549753e-01,  1.56416518e-02,  1.48475157e-02,\n",
       "       -3.09446829e-02,  1.30206067e-03,  2.13616937e-02,  1.92630350e-02,\n",
       "        5.36774623e-02,  1.51562654e-02, -4.29946762e-02, -2.07722818e-02,\n",
       "        3.14083144e-02,  5.16860197e-03, -1.99647913e-02,  3.21692033e-02,\n",
       "       -2.31636681e-02,  4.76375831e-02,  4.96307468e-02, -8.10711109e-02,\n",
       "       -1.44427143e-02, -5.81386472e-02,  8.53007566e-03,  5.41906584e-02,\n",
       "       -8.28863999e-03,  4.00793835e-02, -4.91347075e-02,  1.06802564e-01,\n",
       "       -3.15257449e-02,  5.22102929e-03,  4.77874186e-02, -3.91907140e-02,\n",
       "        3.19974001e-02,  3.68101544e-02, -1.10971416e-03, -4.39837028e-02,\n",
       "       -8.24819556e-03, -2.10196921e-02, -2.47628976e-02, -9.49857700e-03,\n",
       "       -4.47152054e-02, -5.78159670e-03, -6.46454667e-03, -7.14641271e-03,\n",
       "       -3.18048409e-02, -3.16932029e-02,  7.00524957e-02, -1.86594030e-02,\n",
       "       -4.31885205e-02, -2.81156376e-02,  1.32091290e-02, -2.57193220e-02,\n",
       "       -5.03683431e-02, -4.29045510e-02, -2.67493838e-03,  2.46249913e-02,\n",
       "       -4.92337144e-02,  3.63369872e-02,  3.31081051e-02, -6.96942567e-02,\n",
       "       -2.49479844e-02,  6.43304006e-03,  2.43124058e-02, -4.23940731e-03,\n",
       "       -2.56262555e-02, -1.54632825e-03,  3.47800858e-02, -4.32824370e-02,\n",
       "        6.19685258e-02, -2.76107604e-02, -3.02158966e-02,  6.63903769e-03,\n",
       "        1.28657307e-02,  2.30517087e-02,  1.13300068e-02, -4.92502668e-02,\n",
       "       -1.32480696e-02,  1.35196403e-02,  3.96884996e-03,  1.91196625e-02,\n",
       "        3.52337972e-02, -7.37134632e-04,  2.85178213e-02, -1.53822103e-02,\n",
       "        5.56965440e-02,  2.27400574e-03, -3.94249496e-02, -9.19134649e-03,\n",
       "        1.04040807e-02, -4.86841301e-02, -5.29202070e-03, -2.71797708e-02,\n",
       "       -3.52436591e-02, -2.00423045e-02, -3.41219140e-03, -4.49824406e-02,\n",
       "        3.39205207e-02, -5.99028410e-02,  2.78932690e-02, -8.68807987e-02,\n",
       "       -4.15944300e-02,  8.38216478e-03, -3.23216781e-02,  7.94825058e-03,\n",
       "       -2.45977184e-02, -2.26173038e-03, -5.57990533e-02, -7.18789827e-03,\n",
       "        4.73635316e-03,  4.40852700e-03,  3.24280485e-02, -6.57888163e-02,\n",
       "        1.60261000e-03,  4.03427311e-02, -4.13872380e-02, -5.56963374e-02,\n",
       "        1.40398746e-02,  5.34977613e-02, -4.08807409e-02, -3.69663903e-02,\n",
       "        4.97295057e-02,  5.04945873e-02, -8.51957539e-03,  9.44244704e-03,\n",
       "       -2.02317138e-02,  4.43510434e-02,  2.30098699e-02, -2.01469270e-02,\n",
       "       -2.94720346e-02, -2.07991500e-02,  1.50805936e-02, -5.76326798e-03,\n",
       "        5.64350502e-02,  6.13740298e-02,  4.36191562e-02, -1.47525564e-02,\n",
       "        5.62809777e-02, -4.12688800e-02,  2.70317229e-02, -2.33118794e-02,\n",
       "       -2.27039244e-02, -1.10683493e-02, -2.16581161e-02, -3.60684343e-02,\n",
       "       -7.91999481e-03, -4.12372890e-02, -1.78286058e-02, -2.11432718e-02,\n",
       "       -4.58262769e-02,  2.55989857e-03, -5.28455120e-03,  2.30360189e-04,\n",
       "       -2.94720705e-02, -7.27579059e-03,  9.62105266e-03, -2.93226602e-02,\n",
       "        2.34476232e-02,  5.18848910e-02, -1.50395357e-02, -5.38597908e-03,\n",
       "       -1.23816690e-02,  7.67175852e-02, -1.51425105e-02,  2.19298371e-02,\n",
       "        2.96357062e-02, -2.78537378e-02, -8.38153808e-03,  3.54426073e-02,\n",
       "       -2.97127786e-02,  6.94759784e-02,  8.95702607e-03, -4.21752194e-02,\n",
       "       -2.75585276e-02, -4.95963616e-02, -2.64743047e-02, -2.34608586e-02,\n",
       "       -3.78696413e-04, -2.04603755e-02,  3.72956050e-02, -2.51428836e-02,\n",
       "       -1.64752994e-02,  3.46173070e-02, -2.42269059e-02, -3.55305988e-02,\n",
       "        1.51629326e-02,  4.16807251e-02, -1.92738685e-02,  1.66376454e-02,\n",
       "        7.54508147e-02,  8.45766920e-02,  8.37146254e-02, -5.76583830e-02,\n",
       "        3.61600500e-03,  6.93580327e-02, -6.08414038e-03, -1.02258301e-01,\n",
       "        1.50982580e-02, -4.36516030e-02,  2.53055978e-02, -2.85168983e-02,\n",
       "       -3.95259554e-02, -3.80643834e-03,  2.51381225e-02,  3.45321304e-03,\n",
       "       -4.55054246e-02,  2.89879071e-02, -2.07552238e-02,  1.25885087e-02,\n",
       "       -1.25240731e-02, -1.69509979e-02, -4.94664020e-03, -9.28233511e-03,\n",
       "        3.53324530e-03, -9.87072558e-03, -5.87885832e-03, -1.00651913e-02,\n",
       "        2.06066878e-02, -2.45951931e-02,  1.87271581e-03,  7.66051896e-03,\n",
       "        2.44833415e-03, -3.00767446e-02,  6.22740349e-03,  1.85310896e-02,\n",
       "       -2.97992844e-02,  1.68002189e-02,  6.08784385e-02, -1.70136673e-02,\n",
       "       -1.84035516e-02, -1.41836094e-02, -1.88008749e-02,  5.60446634e-03,\n",
       "       -7.94572627e-03, -4.54811500e-03,  1.85674489e-02,  2.74216049e-02,\n",
       "       -1.92133434e-02,  6.58106971e-02,  1.51283751e-02,  1.92096767e-02,\n",
       "        8.87105868e-02,  8.74739348e-03, -3.12080576e-02,  4.46015939e-03,\n",
       "        4.86150226e-03, -8.04274443e-02,  6.06108334e-03, -3.52513311e-02,\n",
       "       -3.66231304e-02,  5.12436470e-02, -2.75909245e-02, -4.05730643e-02,\n",
       "        2.46507451e-02, -2.96072229e-02,  3.54868694e-02, -1.91186878e-03,\n",
       "       -2.67237387e-02,  5.20399895e-02,  3.71245541e-02, -2.68069506e-03,\n",
       "       -8.00130735e-02, -3.69229291e-03, -1.59378260e-03,  2.21513316e-02,\n",
       "       -1.44744704e-02, -3.40432274e-02,  7.14969774e-03, -5.10505711e-02,\n",
       "        4.49136248e-02,  9.90951219e-03,  5.65331095e-02, -2.38787469e-02,\n",
       "       -6.18865232e-03,  1.14660084e-02,  7.35279144e-02,  6.43279154e-02,\n",
       "       -4.91059835e-02,  4.58800703e-02, -4.32739123e-02,  4.27356137e-02,\n",
       "        2.64277648e-02,  7.49244395e-02, -5.22657091e-02,  2.37951463e-02,\n",
       "        1.20477796e-01,  5.55572737e-02,  5.52842296e-02, -5.87159540e-02,\n",
       "       -2.47234845e-02, -2.87283248e-02,  2.41217796e-02, -4.95197401e-02,\n",
       "       -5.04172367e-02, -3.49772958e-02, -8.21025814e-03, -4.10157685e-02,\n",
       "       -2.48048787e-02,  4.67608021e-02, -3.46582923e-03,  4.69769656e-02,\n",
       "       -3.42700750e-02,  1.94561520e-02,  5.26371806e-02,  1.38046856e-03,\n",
       "       -8.09872040e-02, -4.51060578e-03, -2.05423880e-02, -6.04238915e-03,\n",
       "        1.07698494e-03, -1.00471112e-02,  3.08917698e-02,  1.01017227e-02,\n",
       "       -2.86415269e-02,  2.31877434e-02, -6.59743524e-04, -4.32458514e-02,\n",
       "        4.23642653e-03,  3.61568436e-02,  4.50489537e-02,  1.13023072e-02,\n",
       "        6.37081691e-02,  3.24774730e-02,  1.67975954e-02, -4.31115526e-02,\n",
       "        4.80602792e-02, -4.84498766e-02,  1.02327565e-02,  1.32004849e-01,\n",
       "       -2.17757271e-02,  8.31138021e-03,  1.96790396e-02,  3.14921879e-02,\n",
       "        5.18959028e-02,  4.60276940e-02,  3.05487247e-02,  8.29528116e-02,\n",
       "        9.35539410e-02,  1.12492183e-01, -1.60017298e-01,  8.03974950e-02,\n",
       "        3.97539675e-02, -1.52068427e-01, -2.82370250e-02, -1.41968026e-02,\n",
       "       -4.97632378e-02, -4.73300125e-02, -4.00339579e-02,  6.95405283e-02,\n",
       "        1.90363212e-02,  4.01992149e-02, -4.43544808e-02, -1.25114749e-02,\n",
       "        2.66267877e-02, -1.24555760e-01,  1.32338012e-02, -1.80484745e-02,\n",
       "        9.31756945e-03,  1.60389366e-02, -3.90339402e-02,  2.16535142e-02,\n",
       "        9.99745845e-03, -2.00436090e-02,  3.29806560e-02,  1.11529147e-03,\n",
       "       -5.40175555e-02,  5.45609536e-02,  1.90010444e-02,  1.08242158e-02,\n",
       "        7.19938896e-03,  2.22987672e-02, -4.26058327e-02,  2.75223962e-02,\n",
       "        2.11702200e-02,  9.05352429e-04,  5.01753336e-02, -3.94511584e-02,\n",
       "        6.69983056e-03,  6.85173419e-02,  7.17335078e-03, -2.57707860e-02,\n",
       "       -6.38770774e-02, -4.26875824e-03,  1.74465098e-02, -5.79292951e-02,\n",
       "       -2.89290187e-02,  2.09385083e-02,  1.12621983e-01, -4.16954891e-02,\n",
       "       -1.90035715e-03, -2.73871586e-02,  3.77208384e-02, -6.23382802e-02,\n",
       "        3.48254696e-03,  2.52426054e-02, -4.62826367e-02, -1.11714363e-03,\n",
       "       -5.33418267e-02,  9.96602453e-03,  7.91745980e-02, -6.95938759e-02,\n",
       "       -1.05661854e-02, -4.68561989e-02,  8.48498242e-03,  1.25296080e-01,\n",
       "       -6.38241835e-02, -4.28078639e-02, -1.01309129e-02, -6.25590383e-02,\n",
       "       -1.34251115e-02, -2.28977507e-02, -1.52464927e-02, -9.64955502e-02,\n",
       "        5.21301580e-02,  4.12232576e-02, -2.12947644e-02, -3.09329751e-02,\n",
       "        2.95792167e-02, -8.20244339e-03,  1.63089532e-02,  1.19463177e-02,\n",
       "        6.38331878e-02,  6.75575273e-02, -5.69941109e-02, -2.27471053e-02,\n",
       "        4.80090115e-02,  2.49740939e-02,  5.29904115e-02,  1.67734553e-02,\n",
       "       -3.16057007e-02,  4.78287300e-02,  3.00416609e-02,  2.29264440e-02,\n",
       "       -1.08851069e-01,  8.91118772e-03, -1.07675922e-01, -4.19090611e-02,\n",
       "       -3.39814953e-03, -4.44000200e-02, -2.19721957e-02, -2.43738703e-02,\n",
       "       -6.60092986e-02,  6.21218898e-04, -3.21977789e-02,  3.70558619e-02,\n",
       "       -4.91364749e-05, -9.88602699e-03,  4.22478672e-02, -2.43108481e-02,\n",
       "        2.18377758e-02,  2.33200262e-02,  4.38204243e-02, -7.41164141e-03,\n",
       "        1.02227845e-02,  6.55843483e-02, -2.17103624e-02,  3.31523334e-02,\n",
       "       -1.00909310e-01,  1.96119998e-02,  9.28449857e-03,  8.04674492e-03,\n",
       "       -1.57952866e-02, -7.36652367e-02,  2.74494502e-03,  8.74028821e-03,\n",
       "        1.85856631e-03, -4.86267044e-02, -1.33528567e-03,  1.05231573e-02,\n",
       "        7.75795004e-03,  4.66253210e-02, -3.97693218e-02, -5.37496126e-02,\n",
       "       -2.26649354e-02, -1.68930945e-03, -7.02697266e-02, -4.11066272e-02,\n",
       "        2.08302539e-02, -5.11936886e-02, -4.75021567e-03,  7.03338315e-02,\n",
       "       -6.94765553e-02,  9.53830698e-02, -4.42646817e-02, -5.72182483e-03,\n",
       "        4.45640533e-02, -1.27821807e-01, -2.51141594e-02, -8.69309082e-03,\n",
       "        1.45486070e-02, -3.38937477e-03, -3.60937454e-02, -2.84297148e-02,\n",
       "       -2.42906804e-02,  2.87844601e-02,  2.26795116e-01,  5.20411052e-02,\n",
       "       -6.31024242e-02, -2.82103629e-03, -3.11968634e-02,  2.34866895e-02,\n",
       "       -9.41827860e-03,  4.86334231e-03, -4.07557281e-02,  2.11545947e-02,\n",
       "        3.52870531e-02, -3.65188612e-02, -2.95329027e-03,  2.97876934e-02,\n",
       "       -1.80412592e-02, -5.60859261e-02,  3.44803131e-02, -1.76629343e-02,\n",
       "       -4.31952387e-02, -2.33626608e-02,  1.53684859e-02, -7.43259301e-02,\n",
       "       -8.15294448e-03,  1.22031411e-02,  2.97821593e-02, -1.43283887e-02,\n",
       "       -6.41800277e-03,  8.40629642e-02, -1.60243440e-02, -1.38927917e-02,\n",
       "        4.72176906e-02, -8.50622679e-02,  2.15497253e-02,  1.93322653e-02,\n",
       "        9.07494660e-02,  5.30336343e-02,  1.81549463e-02, -4.74587848e-02,\n",
       "       -6.98677661e-03, -3.64906793e-02, -6.84925742e-02, -1.50840670e-02,\n",
       "        2.58662190e-03, -3.96737832e-02,  5.47560196e-02, -4.38328518e-02,\n",
       "       -1.57387100e-02,  2.68957699e-02, -1.53035561e-02,  4.58553095e-02,\n",
       "       -1.01119049e-01,  2.14152900e-02, -2.47812315e-03,  2.32496977e-02,\n",
       "       -7.13927540e-03,  3.28234872e-03,  3.13741656e-02, -3.45063163e-02,\n",
       "        3.42222033e-02, -4.44903808e-03, -4.19808102e-03, -2.78656373e-02,\n",
       "       -5.53386768e-03, -3.37365430e-03,  6.53463459e-04, -1.74168894e-02,\n",
       "        3.59877977e-02, -2.44199388e-02,  4.94876161e-03,  1.26411484e-02,\n",
       "       -3.36293254e-02,  1.24679424e-02, -9.52092232e-03,  2.46800418e-02,\n",
       "       -1.28120353e-02, -2.16515038e-02,  3.84291450e-02,  4.95194376e-02,\n",
       "       -8.43294999e-03,  4.24199603e-03,  4.27095678e-02, -2.58719510e-02,\n",
       "       -3.04046684e-02,  3.47189308e-02, -1.14936703e-02,  4.39162643e-02,\n",
       "       -6.11068794e-03, -1.06397097e-02, -2.44980128e-02, -1.50616840e-02,\n",
       "       -1.56852329e-02, -2.66405896e-02, -2.14295728e-02, -3.13252637e-02,\n",
       "        3.74164452e-04, -3.01808979e-02,  2.01942792e-02, -3.65288822e-02,\n",
       "       -4.73743049e-03, -1.68946523e-02, -8.68691831e-03, -2.04007637e-03,\n",
       "       -1.83666861e-02, -1.66483431e-02,  1.88863126e-02,  5.88316354e-02,\n",
       "       -3.21541044e-02, -3.82828852e-02,  6.58627611e-03, -5.91872916e-02,\n",
       "        2.22235383e-02, -4.82753141e-02,  9.79253653e-03,  5.39984183e-02,\n",
       "       -4.38728641e-02, -5.66780819e-02, -2.29128577e-02, -6.80608624e-02,\n",
       "        4.58827453e-02, -5.95075600e-02,  4.30689714e-02, -2.26089669e-02,\n",
       "       -1.05905813e-02,  9.66869427e-03, -6.70910610e-02, -3.57232773e-02,\n",
       "        2.31291821e-03,  2.75315756e-02, -3.13382648e-02,  3.54119863e-02,\n",
       "        1.66210104e-01, -7.57067846e-02, -5.25146723e-02, -2.90771050e-02,\n",
       "       -5.48589279e-02, -3.08943530e-02,  4.39896862e-02, -4.04032506e-02,\n",
       "       -3.88077743e-02,  3.87375368e-02, -4.91382146e-02,  4.09009188e-02,\n",
       "        1.67969860e-02,  2.61038313e-02, -5.21635693e-02, -1.91331591e-02,\n",
       "       -6.93446015e-02,  5.13562480e-02, -3.26240416e-02, -4.87810414e-02,\n",
       "        7.82933578e-02,  3.70295959e-02, -5.14723901e-02,  3.90972815e-02,\n",
       "       -6.55442478e-02,  6.39074232e-02,  2.81815563e-02,  1.01908287e-01,\n",
       "       -1.71988626e-02, -2.35829965e-02,  1.23245682e-01,  6.51569440e-02,\n",
       "       -8.51061758e-02,  1.98711939e-02,  3.35770281e-02,  1.64949743e-02,\n",
       "        6.53314401e-02,  9.60512101e-02, -2.63305435e-02, -5.85163359e-02,\n",
       "        9.34819108e-03,  2.28433156e-02,  2.04446333e-02, -3.96158939e-02,\n",
       "        6.59909710e-02,  1.53101843e-02,  7.44418007e-02,  8.75731906e-02,\n",
       "       -5.76349585e-03,  1.18866984e-01, -6.89983669e-02, -4.24974726e-02,\n",
       "        7.84914577e-02,  1.74713667e-02,  1.64568310e-02,  3.02450525e-03,\n",
       "       -6.97499743e-02, -4.34589789e-02, -2.54268959e-03, -2.19515679e-02,\n",
       "       -2.00523965e-02,  1.89533165e-02, -5.51269990e-02, -2.97780398e-03,\n",
       "       -3.46797461e-02, -1.53101375e-02, -6.27643160e-03,  1.64087258e-02,\n",
       "        2.94362662e-02, -9.19312796e-03, -9.24377602e-03,  5.15467162e-02,\n",
       "        2.10039609e-04, -1.26564724e-02, -2.44329013e-03, -3.77383751e-02,\n",
       "       -2.29898348e-02,  3.69624442e-02, -2.23065850e-02,  2.55011676e-02,\n",
       "        3.47089427e-02, -3.37278196e-02,  4.18951023e-03, -3.09642768e-02,\n",
       "        1.58766787e-02, -4.17848537e-03,  2.67237003e-02, -3.32435008e-02,\n",
       "        9.57557078e-03, -2.91754863e-02,  1.10995649e-02, -1.12355402e-02,\n",
       "       -5.80294504e-03,  4.14731326e-02,  3.72923405e-03,  1.02150924e-02,\n",
       "       -1.29307697e-02, -7.36637985e-03, -2.59965084e-02, -1.33100752e-02,\n",
       "       -1.69574951e-03, -1.33790460e-02,  2.26822050e-02, -6.92123465e-03,\n",
       "       -3.10420630e-02, -2.39684195e-02,  2.62534438e-02,  3.42971994e-02,\n",
       "       -9.91933201e-03, -2.83054256e-02, -8.92418833e-03,  5.93951011e-02,\n",
       "        3.06200948e-03,  6.91647747e-02,  2.92343097e-02,  1.86894650e-02,\n",
       "       -3.63075377e-02, -6.32956277e-03,  9.06210672e-02,  7.47041758e-03,\n",
       "       -4.43262370e-03,  1.16901456e-01,  1.83758880e-01,  7.38122533e-02,\n",
       "       -8.44601237e-03])"
      ]
     },
     "execution_count": 58,
     "metadata": {},
     "output_type": "execute_result"
    }
   ],
   "source": [
    "predict = AR3_model.predict()\n",
    "residual = predict[3:] - ibm_pacf['vwrtn'][3:]\n",
    "residual.values"
   ]
  },
  {
   "cell_type": "code",
   "execution_count": 59,
   "id": "85a68627",
   "metadata": {},
   "outputs": [
    {
     "data": {
      "image/png": "[encoded data removed]",
      "text/plain": [
       "<Figure size 432x288 with 1 Axes>"
      ]
     },
     "execution_count": 59,
     "metadata": {},
     "output_type": "execute_result"
    },
    {
     "data": {
      "image/png": "[encoded data removed]",
      "text/plain": [
       "<Figure size 432x288 with 1 Axes>"
      ]
     },
     "metadata": {
      "needs_background": "light"
     },
     "output_type": "display_data"
    }
   ],
   "source": [
    "plot_acf(residual) ## ACF来看残差是白噪声"
   ]
  },
  {
   "cell_type": "code",
   "execution_count": 60,
   "id": "d5d373f9",
   "metadata": {},
   "outputs": [
    {
     "name": "stderr",
     "output_type": "stream",
     "text": [
      "/Users/runboye/anaconda3/lib/python3.7/site-packages/statsmodels/stats/diagnostic.py:559: FutureWarning: The value returned will change to a single DataFrame after 0.12 is released.  Set return_df to True to use to return a DataFrame now.  Set return_df to False to silence this warning.\n",
      "  warnings.warn(msg, FutureWarning)\n"
     ]
    }
   ],
   "source": [
    "re_AR3 = lb_test(residual, lags=12)"
   ]
  },
  {
   "cell_type": "code",
   "execution_count": 61,
   "id": "780bb1ae",
   "metadata": {},
   "outputs": [
    {
     "data": {
      "text/plain": [
       "(array([ 0.01694523,  0.07743335,  0.11167203,  0.79079392,  6.65691357,\n",
       "         7.95957144,  8.26376691,  9.70387264, 15.74961572, 15.88258045,\n",
       "        16.44939923, 16.56678056]),\n",
       " array([0.8964289 , 0.96202324, 0.99040086, 0.93967799, 0.24743165,\n",
       "        0.2410802 , 0.30991093, 0.28642834, 0.07229797, 0.10304337,\n",
       "        0.12524997, 0.16663288]))"
      ]
     },
     "execution_count": 61,
     "metadata": {},
     "output_type": "execute_result"
    }
   ],
   "source": [
    "re_AR3 # 不拒绝原假设，残差白噪声"
   ]
  },
  {
   "cell_type": "markdown",
   "id": "6437a6af",
   "metadata": {},
   "source": [
    "# 5 移动平均模型\n",
    "MA模型ACF定阶， AR模型PACF定阶"
   ]
  },
  {
   "cell_type": "code",
   "execution_count": 62,
   "id": "0a28e31b",
   "metadata": {},
   "outputs": [],
   "source": [
    "data = []\n",
    "with open('m-ibm3dx2608.txt','r') as f:\n",
    "    for line in f.readlines():\n",
    "        line = line.strip('\\n')\n",
    "        line = line.split()\n",
    "        data.append(line)\n",
    "ibm_pacf = pd.DataFrame(data[1:])\n",
    "ibm_pacf.columns = data[0]\n",
    "ibm_pacf\n",
    "ibm_pacf['date'] = [parse(i) for i in ibm_pacf['date']]\n",
    "ibm_pacf[['ibmrtn','vwrtn','ewrtn', 'sprtn']] = ibm_pacf[['ibmrtn','vwrtn','ewrtn', 'sprtn']].astype(float)"
   ]
  },
  {
   "cell_type": "code",
   "execution_count": 63,
   "id": "d77d3044",
   "metadata": {},
   "outputs": [
    {
     "data": {
      "text/plain": [
       "<AxesSubplot:xlabel='date', ylabel='ewrtn'>"
      ]
     },
     "execution_count": 63,
     "metadata": {},
     "output_type": "execute_result"
    },
    {
     "data": {
      "image/png": "[encoded data removed]",
      "text/plain": [
       "<Figure size 432x288 with 1 Axes>"
      ]
     },
     "metadata": {
      "needs_background": "light"
     },
     "output_type": "display_data"
    }
   ],
   "source": [
    "sns.lineplot(x = 'date', y = 'ewrtn', data = ibm_pacf)"
   ]
  },
  {
   "cell_type": "code",
   "execution_count": 64,
   "id": "9a30a394",
   "metadata": {},
   "outputs": [
    {
     "data": {
      "image/png": "[encoded data removed]",
      "text/plain": [
       "<Figure size 432x288 with 1 Axes>"
      ]
     },
     "execution_count": 64,
     "metadata": {},
     "output_type": "execute_result"
    },
    {
     "data": {
      "image/png": "[encoded data removed]",
      "text/plain": [
       "<Figure size 432x288 with 1 Axes>"
      ]
     },
     "metadata": {
      "needs_background": "light"
     },
     "output_type": "display_data"
    }
   ],
   "source": [
    "plot_acf(ibm_pacf['ewrtn'])"
   ]
  },
  {
   "cell_type": "code",
   "execution_count": 65,
   "id": "af92033e",
   "metadata": {},
   "outputs": [],
   "source": [
    "from statsmodels.tsa.arima_model import ARIMA"
   ]
  },
  {
   "cell_type": "code",
   "execution_count": 66,
   "id": "893abbdb",
   "metadata": {},
   "outputs": [
    {
     "name": "stderr",
     "output_type": "stream",
     "text": [
      "/Users/runboye/anaconda3/lib/python3.7/site-packages/statsmodels/tsa/arima_model.py:472: FutureWarning: \n",
      "statsmodels.tsa.arima_model.ARMA and statsmodels.tsa.arima_model.ARIMA have\n",
      "been deprecated in favor of statsmodels.tsa.arima.model.ARIMA (note the .\n",
      "between arima and model) and\n",
      "statsmodels.tsa.SARIMAX. These will be removed after the 0.12 release.\n",
      "\n",
      "statsmodels.tsa.arima.model.ARIMA makes use of the statespace framework and\n",
      "is both well tested and maintained.\n",
      "\n",
      "To silence this warning and continue using ARMA and ARIMA until they are\n",
      "removed, use:\n",
      "\n",
      "import warnings\n",
      "warnings.filterwarnings('ignore', 'statsmodels.tsa.arima_model.ARMA',\n",
      "                        FutureWarning)\n",
      "warnings.filterwarnings('ignore', 'statsmodels.tsa.arima_model.ARIMA',\n",
      "                        FutureWarning)\n",
      "\n",
      "  warnings.warn(ARIMA_DEPRECATION_WARN, FutureWarning)\n"
     ]
    },
    {
     "data": {
      "text/html": [
       "<table class=\"simpletable\">\n",
       "<caption>ARMA Model Results</caption>\n",
       "<tr>\n",
       "  <th>Dep. Variable:</th>       <td>ewrtn</td>      <th>  No. Observations:  </th>    <td>996</td>   \n",
       "</tr>\n",
       "<tr>\n",
       "  <th>Model:</th>            <td>ARMA(0, 9)</td>    <th>  Log Likelihood     </th> <td>1220.859</td> \n",
       "</tr>\n",
       "<tr>\n",
       "  <th>Method:</th>             <td>css-mle</td>     <th>  S.D. of innovations</th>   <td>0.071</td>  \n",
       "</tr>\n",
       "<tr>\n",
       "  <th>Date:</th>          <td>Sun, 31 Jul 2022</td> <th>  AIC                </th> <td>-2419.718</td>\n",
       "</tr>\n",
       "<tr>\n",
       "  <th>Time:</th>              <td>01:01:01</td>     <th>  BIC                </th> <td>-2365.777</td>\n",
       "</tr>\n",
       "<tr>\n",
       "  <th>Sample:</th>                <td>0</td>        <th>  HQIC               </th> <td>-2399.212</td>\n",
       "</tr>\n",
       "<tr>\n",
       "  <th></th>                       <td> </td>        <th>                     </th>     <td> </td>    \n",
       "</tr>\n",
       "</table>\n",
       "<table class=\"simpletable\">\n",
       "<tr>\n",
       "       <td></td>          <th>coef</th>     <th>std err</th>      <th>z</th>      <th>P>|z|</th>  <th>[0.025</th>    <th>0.975]</th>  \n",
       "</tr>\n",
       "<tr>\n",
       "  <th>const</th>       <td>    0.0122</td> <td>    0.003</td> <td>    4.388</td> <td> 0.000</td> <td>    0.007</td> <td>    0.018</td>\n",
       "</tr>\n",
       "<tr>\n",
       "  <th>ma.L1.ewrtn</th> <td>    0.2144</td> <td>    0.032</td> <td>    6.787</td> <td> 0.000</td> <td>    0.152</td> <td>    0.276</td>\n",
       "</tr>\n",
       "<tr>\n",
       "  <th>ma.L2.ewrtn</th> <td>    0.0374</td> <td>    0.032</td> <td>    1.166</td> <td> 0.244</td> <td>   -0.025</td> <td>    0.100</td>\n",
       "</tr>\n",
       "<tr>\n",
       "  <th>ma.L3.ewrtn</th> <td>   -0.1203</td> <td>    0.033</td> <td>   -3.663</td> <td> 0.000</td> <td>   -0.185</td> <td>   -0.056</td>\n",
       "</tr>\n",
       "<tr>\n",
       "  <th>ma.L4.ewrtn</th> <td>   -0.0424</td> <td>    0.034</td> <td>   -1.263</td> <td> 0.207</td> <td>   -0.108</td> <td>    0.023</td>\n",
       "</tr>\n",
       "<tr>\n",
       "  <th>ma.L5.ewrtn</th> <td>    0.0232</td> <td>    0.032</td> <td>    0.727</td> <td> 0.467</td> <td>   -0.039</td> <td>    0.086</td>\n",
       "</tr>\n",
       "<tr>\n",
       "  <th>ma.L6.ewrtn</th> <td>   -0.0302</td> <td>    0.032</td> <td>   -0.951</td> <td> 0.342</td> <td>   -0.092</td> <td>    0.032</td>\n",
       "</tr>\n",
       "<tr>\n",
       "  <th>ma.L7.ewrtn</th> <td>    0.0482</td> <td>    0.036</td> <td>    1.323</td> <td> 0.186</td> <td>   -0.023</td> <td>    0.120</td>\n",
       "</tr>\n",
       "<tr>\n",
       "  <th>ma.L8.ewrtn</th> <td>   -0.0276</td> <td>    0.035</td> <td>   -0.779</td> <td> 0.436</td> <td>   -0.097</td> <td>    0.042</td>\n",
       "</tr>\n",
       "<tr>\n",
       "  <th>ma.L9.ewrtn</th> <td>    0.1350</td> <td>    0.032</td> <td>    4.181</td> <td> 0.000</td> <td>    0.072</td> <td>    0.198</td>\n",
       "</tr>\n",
       "</table>\n",
       "<table class=\"simpletable\">\n",
       "<caption>Roots</caption>\n",
       "<tr>\n",
       "    <td></td>   <th>            Real</th>  <th>         Imaginary</th> <th>         Modulus</th>  <th>        Frequency</th>\n",
       "</tr>\n",
       "<tr>\n",
       "  <th>MA.1</th> <td>          -1.1682</td> <td>          -0.0000j</td> <td>           1.1682</td> <td>          -0.5000</td>\n",
       "</tr>\n",
       "<tr>\n",
       "  <th>MA.2</th> <td>          -0.8781</td> <td>          -0.8217j</td> <td>           1.2026</td> <td>          -0.3803</td>\n",
       "</tr>\n",
       "<tr>\n",
       "  <th>MA.3</th> <td>          -0.8781</td> <td>          +0.8217j</td> <td>           1.2026</td> <td>           0.3803</td>\n",
       "</tr>\n",
       "<tr>\n",
       "  <th>MA.4</th> <td>          -0.2609</td> <td>          -1.2146j</td> <td>           1.2423</td> <td>          -0.2837</td>\n",
       "</tr>\n",
       "<tr>\n",
       "  <th>MA.5</th> <td>          -0.2609</td> <td>          +1.2146j</td> <td>           1.2423</td> <td>           0.2837</td>\n",
       "</tr>\n",
       "<tr>\n",
       "  <th>MA.6</th> <td>           1.2018</td> <td>          -0.4212j</td> <td>           1.2734</td> <td>          -0.0537</td>\n",
       "</tr>\n",
       "<tr>\n",
       "  <th>MA.7</th> <td>           1.2018</td> <td>          +0.4212j</td> <td>           1.2734</td> <td>           0.0537</td>\n",
       "</tr>\n",
       "<tr>\n",
       "  <th>MA.8</th> <td>           0.6235</td> <td>          -1.1674j</td> <td>           1.3235</td> <td>          -0.1719</td>\n",
       "</tr>\n",
       "<tr>\n",
       "  <th>MA.9</th> <td>           0.6235</td> <td>          +1.1674j</td> <td>           1.3235</td> <td>           0.1719</td>\n",
       "</tr>\n",
       "</table>"
      ],
      "text/plain": [
       "<class 'statsmodels.iolib.summary.Summary'>\n",
       "\"\"\"\n",
       "                              ARMA Model Results                              \n",
       "==============================================================================\n",
       "Dep. Variable:                  ewrtn   No. Observations:                  996\n",
       "Model:                     ARMA(0, 9)   Log Likelihood                1220.859\n",
       "Method:                       css-mle   S.D. of innovations              0.071\n",
       "Date:                Sun, 31 Jul 2022   AIC                          -2419.718\n",
       "Time:                        01:01:01   BIC                          -2365.777\n",
       "Sample:                             0   HQIC                         -2399.212\n",
       "                                                                              \n",
       "===============================================================================\n",
       "                  coef    std err          z      P>|z|      [0.025      0.975]\n",
       "-------------------------------------------------------------------------------\n",
       "const           0.0122      0.003      4.388      0.000       0.007       0.018\n",
       "ma.L1.ewrtn     0.2144      0.032      6.787      0.000       0.152       0.276\n",
       "ma.L2.ewrtn     0.0374      0.032      1.166      0.244      -0.025       0.100\n",
       "ma.L3.ewrtn    -0.1203      0.033     -3.663      0.000      -0.185      -0.056\n",
       "ma.L4.ewrtn    -0.0424      0.034     -1.263      0.207      -0.108       0.023\n",
       "ma.L5.ewrtn     0.0232      0.032      0.727      0.467      -0.039       0.086\n",
       "ma.L6.ewrtn    -0.0302      0.032     -0.951      0.342      -0.092       0.032\n",
       "ma.L7.ewrtn     0.0482      0.036      1.323      0.186      -0.023       0.120\n",
       "ma.L8.ewrtn    -0.0276      0.035     -0.779      0.436      -0.097       0.042\n",
       "ma.L9.ewrtn     0.1350      0.032      4.181      0.000       0.072       0.198\n",
       "                                    Roots                                    \n",
       "=============================================================================\n",
       "                  Real          Imaginary           Modulus         Frequency\n",
       "-----------------------------------------------------------------------------\n",
       "MA.1           -1.1682           -0.0000j            1.1682           -0.5000\n",
       "MA.2           -0.8781           -0.8217j            1.2026           -0.3803\n",
       "MA.3           -0.8781           +0.8217j            1.2026            0.3803\n",
       "MA.4           -0.2609           -1.2146j            1.2423           -0.2837\n",
       "MA.5           -0.2609           +1.2146j            1.2423            0.2837\n",
       "MA.6            1.2018           -0.4212j            1.2734           -0.0537\n",
       "MA.7            1.2018           +0.4212j            1.2734            0.0537\n",
       "MA.8            0.6235           -1.1674j            1.3235           -0.1719\n",
       "MA.9            0.6235           +1.1674j            1.3235            0.1719\n",
       "-----------------------------------------------------------------------------\n",
       "\"\"\""
      ]
     },
     "execution_count": 66,
     "metadata": {},
     "output_type": "execute_result"
    }
   ],
   "source": [
    "MA = ARIMA(ibm_pacf['ewrtn'],order=(0,0,9))\n",
    "MA_result = MA.fit(disp = -1)\n",
    "MA_result.summary()"
   ]
  },
  {
   "cell_type": "code",
   "execution_count": 67,
   "id": "e784745f",
   "metadata": {},
   "outputs": [
    {
     "data": {
      "image/png": "[encoded data removed]",
      "text/plain": [
       "<Figure size 432x288 with 1 Axes>"
      ]
     },
     "execution_count": 67,
     "metadata": {},
     "output_type": "execute_result"
    },
    {
     "data": {
      "image/png": "[encoded data removed]",
      "text/plain": [
       "<Figure size 432x288 with 1 Axes>"
      ]
     },
     "metadata": {
      "needs_background": "light"
     },
     "output_type": "display_data"
    }
   ],
   "source": [
    "MA_residual = ibm_pacf['ewrtn'] - MA_result.predict()\n",
    "plot_acf(MA_residual)"
   ]
  },
  {
   "cell_type": "code",
   "execution_count": 68,
   "id": "70392da5",
   "metadata": {},
   "outputs": [
    {
     "name": "stderr",
     "output_type": "stream",
     "text": [
      "/Users/runboye/anaconda3/lib/python3.7/site-packages/statsmodels/stats/diagnostic.py:559: FutureWarning: The value returned will change to a single DataFrame after 0.12 is released.  Set return_df to True to use to return a DataFrame now.  Set return_df to False to silence this warning.\n",
      "  warnings.warn(msg, FutureWarning)\n"
     ]
    },
    {
     "data": {
      "text/plain": [
       "(array([0.03614273, 0.05464852, 0.20149321, 0.39506341, 0.40168792,\n",
       "        0.40171935, 0.65568869, 0.7971393 , 0.79717991, 3.84023161,\n",
       "        4.15756281, 6.09106372]),\n",
       " array([0.84922104, 0.97304567, 0.97734788, 0.98287908, 0.99528297,\n",
       "        0.99883739, 0.99865352, 0.99923393, 0.99977987, 0.95426669,\n",
       "        0.96507904, 0.9114221 ]))"
      ]
     },
     "execution_count": 68,
     "metadata": {},
     "output_type": "execute_result"
    }
   ],
   "source": [
    "lb_test(MA_residual, lags = 12)"
   ]
  },
  {
   "cell_type": "markdown",
   "id": "d8bea60f",
   "metadata": {},
   "source": [
    "# 6 ARMA模型"
   ]
  },
  {
   "cell_type": "code",
   "execution_count": 69,
   "id": "e4765ab9",
   "metadata": {},
   "outputs": [
    {
     "data": {
      "text/html": [
       "<div>\n",
       "<style scoped>\n",
       "    .dataframe tbody tr th:only-of-type {\n",
       "        vertical-align: middle;\n",
       "    }\n",
       "\n",
       "    .dataframe tbody tr th {\n",
       "        vertical-align: top;\n",
       "    }\n",
       "\n",
       "    .dataframe thead th {\n",
       "        text-align: right;\n",
       "    }\n",
       "</style>\n",
       "<table border=\"1\" class=\"dataframe\">\n",
       "  <thead>\n",
       "    <tr style=\"text-align: right;\">\n",
       "      <th></th>\n",
       "      <th>date</th>\n",
       "      <th>rtn</th>\n",
       "    </tr>\n",
       "  </thead>\n",
       "  <tbody>\n",
       "    <tr>\n",
       "      <th>0</th>\n",
       "      <td>1946-02-28</td>\n",
       "      <td>-0.081125</td>\n",
       "    </tr>\n",
       "    <tr>\n",
       "      <th>1</th>\n",
       "      <td>1946-03-30</td>\n",
       "      <td>0.018421</td>\n",
       "    </tr>\n",
       "    <tr>\n",
       "      <th>2</th>\n",
       "      <td>1946-04-30</td>\n",
       "      <td>-0.105361</td>\n",
       "    </tr>\n",
       "    <tr>\n",
       "      <th>3</th>\n",
       "      <td>1946-05-31</td>\n",
       "      <td>0.190519</td>\n",
       "    </tr>\n",
       "    <tr>\n",
       "      <th>4</th>\n",
       "      <td>1946-06-28</td>\n",
       "      <td>0.005115</td>\n",
       "    </tr>\n",
       "    <tr>\n",
       "      <th>...</th>\n",
       "      <td>...</td>\n",
       "      <td>...</td>\n",
       "    </tr>\n",
       "    <tr>\n",
       "      <th>750</th>\n",
       "      <td>2008-08-29</td>\n",
       "      <td>0.024003</td>\n",
       "    </tr>\n",
       "    <tr>\n",
       "      <th>751</th>\n",
       "      <td>2008-09-30</td>\n",
       "      <td>-0.047039</td>\n",
       "    </tr>\n",
       "    <tr>\n",
       "      <th>752</th>\n",
       "      <td>2008-10-31</td>\n",
       "      <td>-0.060497</td>\n",
       "    </tr>\n",
       "    <tr>\n",
       "      <th>753</th>\n",
       "      <td>2008-11-28</td>\n",
       "      <td>0.047530</td>\n",
       "    </tr>\n",
       "    <tr>\n",
       "      <th>754</th>\n",
       "      <td>2008-12-31</td>\n",
       "      <td>-0.151167</td>\n",
       "    </tr>\n",
       "  </tbody>\n",
       "</table>\n",
       "<p>755 rows × 2 columns</p>\n",
       "</div>"
      ],
      "text/plain": [
       "          date       rtn\n",
       "0   1946-02-28 -0.081125\n",
       "1   1946-03-30  0.018421\n",
       "2   1946-04-30 -0.105361\n",
       "3   1946-05-31  0.190519\n",
       "4   1946-06-28  0.005115\n",
       "..         ...       ...\n",
       "750 2008-08-29  0.024003\n",
       "751 2008-09-30 -0.047039\n",
       "752 2008-10-31 -0.060497\n",
       "753 2008-11-28  0.047530\n",
       "754 2008-12-31 -0.151167\n",
       "\n",
       "[755 rows x 2 columns]"
      ]
     },
     "execution_count": 69,
     "metadata": {},
     "output_type": "execute_result"
    }
   ],
   "source": [
    "data = []\n",
    "with open('m-3m4608.txt', 'r') as f:\n",
    "    for line in f.readlines():\n",
    "        line = line.strip('\\n')\n",
    "        line = line.split()\n",
    "        data.append(line)\n",
    "TM = pd.DataFrame(data[1:])\n",
    "TM.columns = data[0]\n",
    "TM['date'] = [parse(i) for i in TM['date']]\n",
    "TM['rtn'] = TM['rtn'].astype(float)\n",
    "TM['rtn'] = [np.log(1+i) for i in TM['rtn']]\n",
    "TM"
   ]
  },
  {
   "cell_type": "code",
   "execution_count": 70,
   "id": "9ada9baa",
   "metadata": {},
   "outputs": [
    {
     "data": {
      "text/plain": [
       "<AxesSubplot:xlabel='date', ylabel='rtn'>"
      ]
     },
     "execution_count": 70,
     "metadata": {},
     "output_type": "execute_result"
    },
    {
     "data": {
      "image/png": "[encoded data removed]",
      "text/plain": [
       "<Figure size 432x288 with 1 Axes>"
      ]
     },
     "metadata": {
      "needs_background": "light"
     },
     "output_type": "display_data"
    }
   ],
   "source": [
    "sns.lineplot(y = 'rtn', x = 'date' , data = TM)"
   ]
  },
  {
   "cell_type": "code",
   "execution_count": 71,
   "id": "5ed79c26",
   "metadata": {},
   "outputs": [
    {
     "data": {
      "image/png": "[encoded data removed]",
      "text/plain": [
       "<Figure size 432x288 with 1 Axes>"
      ]
     },
     "execution_count": 71,
     "metadata": {},
     "output_type": "execute_result"
    },
    {
     "data": {
      "image/png": "[encoded data removed]",
      "text/plain": [
       "<Figure size 432x288 with 1 Axes>"
      ]
     },
     "metadata": {
      "needs_background": "light"
     },
     "output_type": "display_data"
    }
   ],
   "source": [
    "plot_acf(TM['rtn'])"
   ]
  },
  {
   "cell_type": "code",
   "execution_count": 72,
   "id": "6895fe80",
   "metadata": {},
   "outputs": [
    {
     "data": {
      "image/png": "[encoded data removed]",
      "text/plain": [
       "<Figure size 432x288 with 1 Axes>"
      ]
     },
     "execution_count": 72,
     "metadata": {},
     "output_type": "execute_result"
    },
    {
     "data": {
      "image/png": "[encoded data removed]",
      "text/plain": [
       "<Figure size 432x288 with 1 Axes>"
      ]
     },
     "metadata": {
      "needs_background": "light"
     },
     "output_type": "display_data"
    }
   ],
   "source": [
    "plot_pacf(TM['rtn'])"
   ]
  },
  {
   "cell_type": "code",
   "execution_count": 73,
   "id": "83d3792c",
   "metadata": {},
   "outputs": [],
   "source": [
    "import itertools\n",
    "p_min = 1\n",
    "q_min = 1\n",
    "p_max = 6\n",
    "q_max = 6\n",
    "\n",
    "results_bic = pd.DataFrame(index = ['AR{}'.format(i) for i in range(p_min,p_max+1)],\n",
    "                          columns = ['MA{}'.format(i) for i in range(q_min, q_max+1)])"
   ]
  },
  {
   "cell_type": "code",
   "execution_count": 74,
   "id": "4b1896bf",
   "metadata": {},
   "outputs": [
    {
     "name": "stderr",
     "output_type": "stream",
     "text": [
      "/Users/runboye/anaconda3/lib/python3.7/site-packages/statsmodels/tsa/arima_model.py:472: FutureWarning: \n",
      "statsmodels.tsa.arima_model.ARMA and statsmodels.tsa.arima_model.ARIMA have\n",
      "been deprecated in favor of statsmodels.tsa.arima.model.ARIMA (note the .\n",
      "between arima and model) and\n",
      "statsmodels.tsa.SARIMAX. These will be removed after the 0.12 release.\n",
      "\n",
      "statsmodels.tsa.arima.model.ARIMA makes use of the statespace framework and\n",
      "is both well tested and maintained.\n",
      "\n",
      "To silence this warning and continue using ARMA and ARIMA until they are\n",
      "removed, use:\n",
      "\n",
      "import warnings\n",
      "warnings.filterwarnings('ignore', 'statsmodels.tsa.arima_model.ARMA',\n",
      "                        FutureWarning)\n",
      "warnings.filterwarnings('ignore', 'statsmodels.tsa.arima_model.ARIMA',\n",
      "                        FutureWarning)\n",
      "\n",
      "  warnings.warn(ARIMA_DEPRECATION_WARN, FutureWarning)\n",
      "/Users/runboye/anaconda3/lib/python3.7/site-packages/statsmodels/base/model.py:548: HessianInversionWarning: Inverting hessian failed, no bse or cov_params available\n",
      "  'available', HessianInversionWarning)\n",
      "/Users/runboye/anaconda3/lib/python3.7/site-packages/statsmodels/base/model.py:568: ConvergenceWarning: Maximum Likelihood optimization failed to converge. Check mle_retvals\n",
      "  ConvergenceWarning)\n",
      "/Users/runboye/anaconda3/lib/python3.7/site-packages/statsmodels/tsa/tsatools.py:701: RuntimeWarning: overflow encountered in exp\n",
      "  newparams = ((1-np.exp(-params))/(1+np.exp(-params))).copy()\n",
      "/Users/runboye/anaconda3/lib/python3.7/site-packages/statsmodels/tsa/tsatools.py:701: RuntimeWarning: invalid value encountered in true_divide\n",
      "  newparams = ((1-np.exp(-params))/(1+np.exp(-params))).copy()\n",
      "/Users/runboye/anaconda3/lib/python3.7/site-packages/statsmodels/tsa/tsatools.py:702: RuntimeWarning: overflow encountered in exp\n",
      "  tmp = ((1-np.exp(-params))/(1+np.exp(-params))).copy()\n",
      "/Users/runboye/anaconda3/lib/python3.7/site-packages/statsmodels/tsa/tsatools.py:702: RuntimeWarning: invalid value encountered in true_divide\n",
      "  tmp = ((1-np.exp(-params))/(1+np.exp(-params))).copy()\n",
      "/Users/runboye/anaconda3/lib/python3.7/site-packages/statsmodels/base/model.py:568: ConvergenceWarning: Maximum Likelihood optimization failed to converge. Check mle_retvals\n",
      "  ConvergenceWarning)\n",
      "/Users/runboye/anaconda3/lib/python3.7/site-packages/statsmodels/base/model.py:548: HessianInversionWarning: Inverting hessian failed, no bse or cov_params available\n",
      "  'available', HessianInversionWarning)\n",
      "/Users/runboye/anaconda3/lib/python3.7/site-packages/statsmodels/base/model.py:548: HessianInversionWarning: Inverting hessian failed, no bse or cov_params available\n",
      "  'available', HessianInversionWarning)\n",
      "/Users/runboye/anaconda3/lib/python3.7/site-packages/statsmodels/base/model.py:548: HessianInversionWarning: Inverting hessian failed, no bse or cov_params available\n",
      "  'available', HessianInversionWarning)\n",
      "/Users/runboye/anaconda3/lib/python3.7/site-packages/statsmodels/base/model.py:548: HessianInversionWarning: Inverting hessian failed, no bse or cov_params available\n",
      "  'available', HessianInversionWarning)\n",
      "/Users/runboye/anaconda3/lib/python3.7/site-packages/statsmodels/base/model.py:548: HessianInversionWarning: Inverting hessian failed, no bse or cov_params available\n",
      "  'available', HessianInversionWarning)\n",
      "/Users/runboye/anaconda3/lib/python3.7/site-packages/statsmodels/base/model.py:568: ConvergenceWarning: Maximum Likelihood optimization failed to converge. Check mle_retvals\n",
      "  ConvergenceWarning)\n"
     ]
    }
   ],
   "source": [
    "for p ,q in itertools.product(range(p_min,p_max+1),\n",
    "                               range(q_min,q_max+1)):\n",
    "    if p==0 and q==0:\n",
    "        results_bic.loc['AR{}'.format(p), 'MA{}'.format(q)] = np.nan\n",
    "        continue\n",
    "    try:\n",
    "        model = ARIMA(TM['rtn'], order=(p, 0, q))\n",
    "        results = model.fit(disp = -1)\n",
    "        results_bic.loc['AR{}'.format(p), 'MA{}'.format(q)] = results.bic\n",
    "    except:\n",
    "        continue\n",
    "results_bic = results_bic[results_bic.columns].astype(float)"
   ]
  },
  {
   "cell_type": "code",
   "execution_count": 75,
   "id": "ab6b2464",
   "metadata": {},
   "outputs": [
    {
     "data": {
      "text/html": [
       "<div>\n",
       "<style scoped>\n",
       "    .dataframe tbody tr th:only-of-type {\n",
       "        vertical-align: middle;\n",
       "    }\n",
       "\n",
       "    .dataframe tbody tr th {\n",
       "        vertical-align: top;\n",
       "    }\n",
       "\n",
       "    .dataframe thead th {\n",
       "        text-align: right;\n",
       "    }\n",
       "</style>\n",
       "<table border=\"1\" class=\"dataframe\">\n",
       "  <thead>\n",
       "    <tr style=\"text-align: right;\">\n",
       "      <th></th>\n",
       "      <th>MA1</th>\n",
       "      <th>MA2</th>\n",
       "      <th>MA3</th>\n",
       "      <th>MA4</th>\n",
       "      <th>MA5</th>\n",
       "      <th>MA6</th>\n",
       "    </tr>\n",
       "  </thead>\n",
       "  <tbody>\n",
       "    <tr>\n",
       "      <th>AR1</th>\n",
       "      <td>-1995.002112</td>\n",
       "      <td>-1988.860769</td>\n",
       "      <td>-1984.783625</td>\n",
       "      <td>-1978.398911</td>\n",
       "      <td>-1974.154950</td>\n",
       "      <td>-1969.808924</td>\n",
       "    </tr>\n",
       "    <tr>\n",
       "      <th>AR2</th>\n",
       "      <td>-1988.997171</td>\n",
       "      <td>-1982.178933</td>\n",
       "      <td>-1978.160724</td>\n",
       "      <td>-1971.788224</td>\n",
       "      <td>-1967.492244</td>\n",
       "      <td>-1963.226644</td>\n",
       "    </tr>\n",
       "    <tr>\n",
       "      <th>AR3</th>\n",
       "      <td>-1985.786243</td>\n",
       "      <td>-1978.842752</td>\n",
       "      <td>-1984.717373</td>\n",
       "      <td>-1976.830912</td>\n",
       "      <td>-1971.191095</td>\n",
       "      <td>-1966.762145</td>\n",
       "    </tr>\n",
       "    <tr>\n",
       "      <th>AR4</th>\n",
       "      <td>-1979.228434</td>\n",
       "      <td>-1983.582773</td>\n",
       "      <td>-1975.902171</td>\n",
       "      <td>-1971.740508</td>\n",
       "      <td>NaN</td>\n",
       "      <td>-1962.458182</td>\n",
       "    </tr>\n",
       "    <tr>\n",
       "      <th>AR5</th>\n",
       "      <td>-1974.729214</td>\n",
       "      <td>-1975.640385</td>\n",
       "      <td>-1973.346340</td>\n",
       "      <td>NaN</td>\n",
       "      <td>NaN</td>\n",
       "      <td>-1958.559331</td>\n",
       "    </tr>\n",
       "    <tr>\n",
       "      <th>AR6</th>\n",
       "      <td>-1970.922419</td>\n",
       "      <td>-1964.298466</td>\n",
       "      <td>-1963.643666</td>\n",
       "      <td>-1964.046406</td>\n",
       "      <td>-1956.641171</td>\n",
       "      <td>-1950.013191</td>\n",
       "    </tr>\n",
       "  </tbody>\n",
       "</table>\n",
       "</div>"
      ],
      "text/plain": [
       "             MA1          MA2          MA3          MA4          MA5  \\\n",
       "AR1 -1995.002112 -1988.860769 -1984.783625 -1978.398911 -1974.154950   \n",
       "AR2 -1988.997171 -1982.178933 -1978.160724 -1971.788224 -1967.492244   \n",
       "AR3 -1985.786243 -1978.842752 -1984.717373 -1976.830912 -1971.191095   \n",
       "AR4 -1979.228434 -1983.582773 -1975.902171 -1971.740508          NaN   \n",
       "AR5 -1974.729214 -1975.640385 -1973.346340          NaN          NaN   \n",
       "AR6 -1970.922419 -1964.298466 -1963.643666 -1964.046406 -1956.641171   \n",
       "\n",
       "             MA6  \n",
       "AR1 -1969.808924  \n",
       "AR2 -1963.226644  \n",
       "AR3 -1966.762145  \n",
       "AR4 -1962.458182  \n",
       "AR5 -1958.559331  \n",
       "AR6 -1950.013191  "
      ]
     },
     "execution_count": 75,
     "metadata": {},
     "output_type": "execute_result"
    }
   ],
   "source": [
    "results_bic"
   ]
  },
  {
   "cell_type": "markdown",
   "id": "048e07ea",
   "metadata": {},
   "source": [
    "# 7 单位根过程"
   ]
  },
  {
   "cell_type": "code",
   "execution_count": 80,
   "id": "3388ecb2",
   "metadata": {},
   "outputs": [
    {
     "data": {
      "text/html": [
       "<div>\n",
       "<style scoped>\n",
       "    .dataframe tbody tr th:only-of-type {\n",
       "        vertical-align: middle;\n",
       "    }\n",
       "\n",
       "    .dataframe tbody tr th {\n",
       "        vertical-align: top;\n",
       "    }\n",
       "\n",
       "    .dataframe thead th {\n",
       "        text-align: right;\n",
       "    }\n",
       "</style>\n",
       "<table border=\"1\" class=\"dataframe\">\n",
       "  <thead>\n",
       "    <tr style=\"text-align: right;\">\n",
       "      <th></th>\n",
       "      <th>date</th>\n",
       "      <th>rtn</th>\n",
       "      <th>logdiff</th>\n",
       "    </tr>\n",
       "  </thead>\n",
       "  <tbody>\n",
       "    <tr>\n",
       "      <th>0</th>\n",
       "      <td>1946-02-28</td>\n",
       "      <td>-0.077922</td>\n",
       "      <td>-0.081125</td>\n",
       "    </tr>\n",
       "    <tr>\n",
       "      <th>1</th>\n",
       "      <td>1946-03-30</td>\n",
       "      <td>0.018592</td>\n",
       "      <td>0.018421</td>\n",
       "    </tr>\n",
       "    <tr>\n",
       "      <th>2</th>\n",
       "      <td>1946-04-30</td>\n",
       "      <td>-0.100000</td>\n",
       "      <td>-0.105361</td>\n",
       "    </tr>\n",
       "    <tr>\n",
       "      <th>3</th>\n",
       "      <td>1946-05-31</td>\n",
       "      <td>0.209877</td>\n",
       "      <td>0.190519</td>\n",
       "    </tr>\n",
       "    <tr>\n",
       "      <th>4</th>\n",
       "      <td>1946-06-28</td>\n",
       "      <td>0.005128</td>\n",
       "      <td>0.005115</td>\n",
       "    </tr>\n",
       "    <tr>\n",
       "      <th>...</th>\n",
       "      <td>...</td>\n",
       "      <td>...</td>\n",
       "      <td>...</td>\n",
       "    </tr>\n",
       "    <tr>\n",
       "      <th>750</th>\n",
       "      <td>2008-08-29</td>\n",
       "      <td>0.024293</td>\n",
       "      <td>0.024003</td>\n",
       "    </tr>\n",
       "    <tr>\n",
       "      <th>751</th>\n",
       "      <td>2008-09-30</td>\n",
       "      <td>-0.045950</td>\n",
       "      <td>-0.047039</td>\n",
       "    </tr>\n",
       "    <tr>\n",
       "      <th>752</th>\n",
       "      <td>2008-10-31</td>\n",
       "      <td>-0.058703</td>\n",
       "      <td>-0.060497</td>\n",
       "    </tr>\n",
       "    <tr>\n",
       "      <th>753</th>\n",
       "      <td>2008-11-28</td>\n",
       "      <td>0.048678</td>\n",
       "      <td>0.047530</td>\n",
       "    </tr>\n",
       "    <tr>\n",
       "      <th>754</th>\n",
       "      <td>2008-12-31</td>\n",
       "      <td>-0.140296</td>\n",
       "      <td>-0.151167</td>\n",
       "    </tr>\n",
       "  </tbody>\n",
       "</table>\n",
       "<p>755 rows × 3 columns</p>\n",
       "</div>"
      ],
      "text/plain": [
       "          date       rtn   logdiff\n",
       "0   1946-02-28 -0.077922 -0.081125\n",
       "1   1946-03-30  0.018592  0.018421\n",
       "2   1946-04-30 -0.100000 -0.105361\n",
       "3   1946-05-31  0.209877  0.190519\n",
       "4   1946-06-28  0.005128  0.005115\n",
       "..         ...       ...       ...\n",
       "750 2008-08-29  0.024293  0.024003\n",
       "751 2008-09-30 -0.045950 -0.047039\n",
       "752 2008-10-31 -0.058703 -0.060497\n",
       "753 2008-11-28  0.048678  0.047530\n",
       "754 2008-12-31 -0.140296 -0.151167\n",
       "\n",
       "[755 rows x 3 columns]"
      ]
     },
     "execution_count": 80,
     "metadata": {},
     "output_type": "execute_result"
    }
   ],
   "source": [
    "data = []\n",
    "with open('m-3m4608.txt', 'r') as f:\n",
    "    for line in f.readlines():\n",
    "        line = line.strip('\\n')\n",
    "        line = line.split()\n",
    "        data.append(line)\n",
    "TM = pd.DataFrame(data[1:])\n",
    "TM.columns = data[0]\n",
    "TM['date'] = [parse(i) for i in TM['date']]\n",
    "TM['rtn'] = TM['rtn'].astype(float)\n",
    "TM['logdiff'] = [np.log(1+i) for i in TM['rtn']]\n",
    "TM"
   ]
  },
  {
   "cell_type": "code",
   "execution_count": 81,
   "id": "632dd94c",
   "metadata": {},
   "outputs": [
    {
     "data": {
      "text/plain": [
       "0.010299412024449239"
      ]
     },
     "execution_count": 81,
     "metadata": {},
     "output_type": "execute_result"
    }
   ],
   "source": [
    "TM['logdiff'].mean()"
   ]
  },
  {
   "cell_type": "code",
   "execution_count": 82,
   "id": "c3763d20",
   "metadata": {},
   "outputs": [
    {
     "data": {
      "text/plain": [
       "0.063719098418256"
      ]
     },
     "execution_count": 82,
     "metadata": {},
     "output_type": "execute_result"
    }
   ],
   "source": [
    "TM['logdiff'].std()"
   ]
  },
  {
   "cell_type": "code",
   "execution_count": 87,
   "id": "0f046da0",
   "metadata": {},
   "outputs": [
    {
     "name": "stderr",
     "output_type": "stream",
     "text": [
      "/Users/runboye/anaconda3/lib/python3.7/site-packages/statsmodels/stats/diagnostic.py:559: FutureWarning: The value returned will change to a single DataFrame after 0.12 is released.  Set return_df to True to use to return a DataFrame now.  Set return_df to False to silence this warning.\n",
      "  warnings.warn(msg, FutureWarning)\n"
     ]
    },
    {
     "data": {
      "text/plain": [
       "(array([ 2.37761629,  3.47105632,  8.60082647,  8.61727331,  8.85720016,\n",
       "        13.99635356, 14.04525827, 14.16804606, 14.8641601 , 19.50413457,\n",
       "        21.33097102, 27.68842218]),\n",
       " array([0.12308523, 0.17630706, 0.035097  , 0.07141113, 0.11489733,\n",
       "        0.02967692, 0.05038222, 0.07748915, 0.09473549, 0.03430737,\n",
       "        0.03009982, 0.00614265]))"
      ]
     },
     "execution_count": 87,
     "metadata": {},
     "output_type": "execute_result"
    }
   ],
   "source": [
    "lb_test(TM['logdiff'], lags = 12)"
   ]
  },
  {
   "cell_type": "code",
   "execution_count": 96,
   "id": "fbfa4b3c",
   "metadata": {},
   "outputs": [
    {
     "name": "stderr",
     "output_type": "stream",
     "text": [
      "/Users/runboye/anaconda3/lib/python3.7/site-packages/ipykernel_launcher.py:3: SettingWithCopyWarning: \n",
      "A value is trying to be set on a copy of a slice from a DataFrame\n",
      "\n",
      "See the caveats in the documentation: https://pandas.pydata.org/pandas-docs/stable/user_guide/indexing.html#returning-a-view-versus-a-copy\n",
      "  This is separate from the ipykernel package so we can avoid doing imports until\n",
      "/Users/runboye/anaconda3/lib/python3.7/site-packages/ipykernel_launcher.py:6: SettingWithCopyWarning: \n",
      "A value is trying to be set on a copy of a slice from a DataFrame\n",
      "\n",
      "See the caveats in the documentation: https://pandas.pydata.org/pandas-docs/stable/user_guide/indexing.html#returning-a-view-versus-a-copy\n",
      "  \n"
     ]
    },
    {
     "data": {
      "text/plain": [
       "0     -0.081125\n",
       "1     -0.062704\n",
       "2     -0.086939\n",
       "3      0.085158\n",
       "4      0.195634\n",
       "         ...   \n",
       "750    0.035433\n",
       "751   -0.023037\n",
       "752   -0.107536\n",
       "753   -0.012966\n",
       "754   -0.103637\n",
       "Name: logpt, Length: 755, dtype: float64"
      ]
     },
     "execution_count": 96,
     "metadata": {},
     "output_type": "execute_result"
    }
   ],
   "source": [
    "for i in range(0,len(TM['logdiff'])):\n",
    "    if i == 0:\n",
    "        TM['logpt'][i] = TM['logdiff'][i] + 0\n",
    "        continue\n",
    "    try:\n",
    "        TM['logpt'][i] = TM['logdiff'][i] + TM['logdiff'][i-1]\n",
    "    except:\n",
    "        continue  \n",
    "TM['logpt']"
   ]
  },
  {
   "cell_type": "code",
   "execution_count": 99,
   "id": "0a4eef35",
   "metadata": {},
   "outputs": [],
   "source": [
    "TM['cumlog'] = np.cumsum(TM['logdiff'])"
   ]
  },
  {
   "cell_type": "code",
   "execution_count": 100,
   "id": "12fa75e4",
   "metadata": {},
   "outputs": [
    {
     "data": {
      "image/png": "[encoded data removed]",
      "text/plain": [
       "<Figure size 432x288 with 1 Axes>"
      ]
     },
     "execution_count": 100,
     "metadata": {},
     "output_type": "execute_result"
    },
    {
     "data": {
      "image/png": "[encoded data removed]",
      "text/plain": [
       "<Figure size 432x288 with 1 Axes>"
      ]
     },
     "metadata": {
      "needs_background": "light"
     },
     "output_type": "display_data"
    }
   ],
   "source": [
    "plot_acf(TM['cumlog'])"
   ]
  },
  {
   "cell_type": "code",
   "execution_count": 113,
   "id": "10dfe2f1",
   "metadata": {},
   "outputs": [
    {
     "data": {
      "text/html": [
       "<div>\n",
       "<style scoped>\n",
       "    .dataframe tbody tr th:only-of-type {\n",
       "        vertical-align: middle;\n",
       "    }\n",
       "\n",
       "    .dataframe tbody tr th {\n",
       "        vertical-align: top;\n",
       "    }\n",
       "\n",
       "    .dataframe thead th {\n",
       "        text-align: right;\n",
       "    }\n",
       "</style>\n",
       "<table border=\"1\" class=\"dataframe\">\n",
       "  <thead>\n",
       "    <tr style=\"text-align: right;\">\n",
       "      <th></th>\n",
       "      <th>date</th>\n",
       "      <th>rtn</th>\n",
       "      <th>logdiff</th>\n",
       "      <th>logpt</th>\n",
       "      <th>cumlog</th>\n",
       "      <th>Trend_line</th>\n",
       "      <th>Random_walk</th>\n",
       "    </tr>\n",
       "  </thead>\n",
       "  <tbody>\n",
       "    <tr>\n",
       "      <th>0</th>\n",
       "      <td>1946-02-28</td>\n",
       "      <td>-0.077922</td>\n",
       "      <td>-0.081125</td>\n",
       "      <td>-0.081125</td>\n",
       "      <td>-0.081125</td>\n",
       "      <td>0.0000</td>\n",
       "      <td>-0.081125</td>\n",
       "    </tr>\n",
       "    <tr>\n",
       "      <th>1</th>\n",
       "      <td>1946-03-30</td>\n",
       "      <td>0.018592</td>\n",
       "      <td>0.018421</td>\n",
       "      <td>-0.062704</td>\n",
       "      <td>-0.062704</td>\n",
       "      <td>0.0103</td>\n",
       "      <td>-0.073004</td>\n",
       "    </tr>\n",
       "    <tr>\n",
       "      <th>2</th>\n",
       "      <td>1946-04-30</td>\n",
       "      <td>-0.100000</td>\n",
       "      <td>-0.105361</td>\n",
       "      <td>-0.086939</td>\n",
       "      <td>-0.168065</td>\n",
       "      <td>0.0206</td>\n",
       "      <td>-0.188665</td>\n",
       "    </tr>\n",
       "    <tr>\n",
       "      <th>3</th>\n",
       "      <td>1946-05-31</td>\n",
       "      <td>0.209877</td>\n",
       "      <td>0.190519</td>\n",
       "      <td>0.085158</td>\n",
       "      <td>0.022454</td>\n",
       "      <td>0.0309</td>\n",
       "      <td>-0.008446</td>\n",
       "    </tr>\n",
       "    <tr>\n",
       "      <th>4</th>\n",
       "      <td>1946-06-28</td>\n",
       "      <td>0.005128</td>\n",
       "      <td>0.005115</td>\n",
       "      <td>0.195634</td>\n",
       "      <td>0.027569</td>\n",
       "      <td>0.0412</td>\n",
       "      <td>-0.013631</td>\n",
       "    </tr>\n",
       "    <tr>\n",
       "      <th>...</th>\n",
       "      <td>...</td>\n",
       "      <td>...</td>\n",
       "      <td>...</td>\n",
       "      <td>...</td>\n",
       "      <td>...</td>\n",
       "      <td>...</td>\n",
       "      <td>...</td>\n",
       "    </tr>\n",
       "    <tr>\n",
       "      <th>750</th>\n",
       "      <td>2008-08-29</td>\n",
       "      <td>0.024293</td>\n",
       "      <td>0.024003</td>\n",
       "      <td>0.035433</td>\n",
       "      <td>7.987229</td>\n",
       "      <td>7.7250</td>\n",
       "      <td>0.262229</td>\n",
       "    </tr>\n",
       "    <tr>\n",
       "      <th>751</th>\n",
       "      <td>2008-09-30</td>\n",
       "      <td>-0.045950</td>\n",
       "      <td>-0.047039</td>\n",
       "      <td>-0.023037</td>\n",
       "      <td>7.940189</td>\n",
       "      <td>7.7353</td>\n",
       "      <td>0.204889</td>\n",
       "    </tr>\n",
       "    <tr>\n",
       "      <th>752</th>\n",
       "      <td>2008-10-31</td>\n",
       "      <td>-0.058703</td>\n",
       "      <td>-0.060497</td>\n",
       "      <td>-0.107536</td>\n",
       "      <td>7.879693</td>\n",
       "      <td>7.7456</td>\n",
       "      <td>0.134093</td>\n",
       "    </tr>\n",
       "    <tr>\n",
       "      <th>753</th>\n",
       "      <td>2008-11-28</td>\n",
       "      <td>0.048678</td>\n",
       "      <td>0.047530</td>\n",
       "      <td>-0.012966</td>\n",
       "      <td>7.927223</td>\n",
       "      <td>7.7559</td>\n",
       "      <td>0.171323</td>\n",
       "    </tr>\n",
       "    <tr>\n",
       "      <th>754</th>\n",
       "      <td>2008-12-31</td>\n",
       "      <td>-0.140296</td>\n",
       "      <td>-0.151167</td>\n",
       "      <td>-0.103637</td>\n",
       "      <td>7.776056</td>\n",
       "      <td>7.7662</td>\n",
       "      <td>0.009856</td>\n",
       "    </tr>\n",
       "  </tbody>\n",
       "</table>\n",
       "<p>755 rows × 7 columns</p>\n",
       "</div>"
      ],
      "text/plain": [
       "          date       rtn   logdiff     logpt    cumlog  Trend_line  \\\n",
       "0   1946-02-28 -0.077922 -0.081125 -0.081125 -0.081125      0.0000   \n",
       "1   1946-03-30  0.018592  0.018421 -0.062704 -0.062704      0.0103   \n",
       "2   1946-04-30 -0.100000 -0.105361 -0.086939 -0.168065      0.0206   \n",
       "3   1946-05-31  0.209877  0.190519  0.085158  0.022454      0.0309   \n",
       "4   1946-06-28  0.005128  0.005115  0.195634  0.027569      0.0412   \n",
       "..         ...       ...       ...       ...       ...         ...   \n",
       "750 2008-08-29  0.024293  0.024003  0.035433  7.987229      7.7250   \n",
       "751 2008-09-30 -0.045950 -0.047039 -0.023037  7.940189      7.7353   \n",
       "752 2008-10-31 -0.058703 -0.060497 -0.107536  7.879693      7.7456   \n",
       "753 2008-11-28  0.048678  0.047530 -0.012966  7.927223      7.7559   \n",
       "754 2008-12-31 -0.140296 -0.151167 -0.103637  7.776056      7.7662   \n",
       "\n",
       "     Random_walk  \n",
       "0      -0.081125  \n",
       "1      -0.073004  \n",
       "2      -0.188665  \n",
       "3      -0.008446  \n",
       "4      -0.013631  \n",
       "..           ...  \n",
       "750     0.262229  \n",
       "751     0.204889  \n",
       "752     0.134093  \n",
       "753     0.171323  \n",
       "754     0.009856  \n",
       "\n",
       "[755 rows x 7 columns]"
      ]
     },
     "execution_count": 113,
     "metadata": {},
     "output_type": "execute_result"
    }
   ],
   "source": [
    "TM['Trend_line'] = [0.01030*i for i in range(0,len(TM['logdiff']))]\n",
    "TM['Random_walk'] = TM['cumlog'] - TM['Trend_line']\n",
    "TM"
   ]
  },
  {
   "cell_type": "code",
   "execution_count": 114,
   "id": "3a3e180b",
   "metadata": {},
   "outputs": [
    {
     "data": {
      "text/plain": [
       "[<matplotlib.lines.Line2D at 0x7fd6d10aa690>]"
      ]
     },
     "execution_count": 114,
     "metadata": {},
     "output_type": "execute_result"
    },
    {
     "data": {
      "image/png": "[encoded data removed]",
      "text/plain": [
       "<Figure size 432x288 with 1 Axes>"
      ]
     },
     "metadata": {
      "needs_background": "light"
     },
     "output_type": "display_data"
    }
   ],
   "source": [
    "import matplotlib.pyplot as plt\n",
    "fig, ax = plt.subplots()\n",
    "x = TM['date']\n",
    "y1 = TM['cumlog']\n",
    "ax.plot(x, y1, label='logpt')\n",
    "y2 = TM['Random_walk']\n",
    "ax.plot(x, y2, label='random_walk') \n",
    "y3 = TM['Trend_line']\n",
    "ax.plot(x, y3, label='Trend_line') "
   ]
  },
  {
   "cell_type": "markdown",
   "id": "00cfcad7",
   "metadata": {},
   "source": [
    "#### 以GNP为例，解释时间序列是否存在单位根，以及利用差分转换为无单位根过程"
   ]
  },
  {
   "cell_type": "code",
   "execution_count": 148,
   "id": "92c86bab",
   "metadata": {},
   "outputs": [],
   "source": [
    "data = []\n",
    "with open('q-gnp4710.txt','r') as f:\n",
    "    for line in f.readlines():\n",
    "        data.append(line.split())\n",
    "GNP_frame = pd.DataFrame(data[1:])\n",
    "GNP_frame.columns = data[0]\n",
    "GNP_frame['YDM'] = GNP_frame['Year'].astype(str) + GNP_frame['Mon'].astype(str) + GNP_frame['Dat'].astype(str)\n",
    "GNP_frame = GNP_frame[['YDM','VALUE']]\n",
    "GNP_frame['YDM'] = [parse(i) for i in GNP_frame['YDM']]\n",
    "GNP_frame['VALUE'] = GNP_frame['VALUE'].astype(float)\n",
    "GNP_frame['log_value'] = [np.log(float(i)) for i in GNP_frame['VALUE']]\n",
    "GNP_frame['diff_log_value'] = GNP_frame['log_value'].diff()"
   ]
  },
  {
   "cell_type": "code",
   "execution_count": 146,
   "id": "b9485609",
   "metadata": {},
   "outputs": [
    {
     "data": {
      "text/plain": [
       "<AxesSubplot:xlabel='YDM', ylabel='log_value'>"
      ]
     },
     "execution_count": 146,
     "metadata": {},
     "output_type": "execute_result"
    },
    {
     "data": {
      "image/png": "[encoded data removed]",
      "text/plain": [
       "<Figure size 432x288 with 1 Axes>"
      ]
     },
     "metadata": {
      "needs_background": "light"
     },
     "output_type": "display_data"
    }
   ],
   "source": [
    "sns.lineplot(x = 'YDM', y = 'log_value', data = GNP_frame)"
   ]
  },
  {
   "cell_type": "code",
   "execution_count": 147,
   "id": "67db7018",
   "metadata": {},
   "outputs": [
    {
     "data": {
      "image/png": "[encoded data removed]",
      "text/plain": [
       "<Figure size 432x288 with 1 Axes>"
      ]
     },
     "execution_count": 147,
     "metadata": {},
     "output_type": "execute_result"
    },
    {
     "data": {
      "image/png": "[encoded data removed]",
      "text/plain": [
       "<Figure size 432x288 with 1 Axes>"
      ]
     },
     "metadata": {
      "needs_background": "light"
     },
     "output_type": "display_data"
    }
   ],
   "source": [
    "plot_acf(GNP_frame['log_value'])"
   ]
  },
  {
   "cell_type": "code",
   "execution_count": 149,
   "id": "d25aeb73",
   "metadata": {},
   "outputs": [
    {
     "data": {
      "text/plain": [
       "<AxesSubplot:xlabel='YDM', ylabel='diff_log_value'>"
      ]
     },
     "execution_count": 149,
     "metadata": {},
     "output_type": "execute_result"
    },
    {
     "data": {
      "image/png": "[encoded data removed]",
      "text/plain": [
       "<Figure size 432x288 with 1 Axes>"
      ]
     },
     "metadata": {
      "needs_background": "light"
     },
     "output_type": "display_data"
    }
   ],
   "source": [
    "sns.lineplot(x = 'YDM', y = 'diff_log_value', data = GNP_frame)"
   ]
  },
  {
   "cell_type": "code",
   "execution_count": 150,
   "id": "77b796fe",
   "metadata": {},
   "outputs": [
    {
     "data": {
      "image/png": "[encoded data removed]",
      "text/plain": [
       "<Figure size 432x288 with 1 Axes>"
      ]
     },
     "execution_count": 150,
     "metadata": {},
     "output_type": "execute_result"
    },
    {
     "data": {
      "image/png": "[encoded data removed]",
      "text/plain": [
       "<Figure size 432x288 with 1 Axes>"
      ]
     },
     "metadata": {
      "needs_background": "light"
     },
     "output_type": "display_data"
    }
   ],
   "source": [
    "plot_acf(GNP_frame['diff_log_value'].dropna())"
   ]
  },
  {
   "cell_type": "code",
   "execution_count": 151,
   "id": "a9c77d26",
   "metadata": {},
   "outputs": [
    {
     "data": {
      "image/png": "[encoded data removed]",
      "text/plain": [
       "<Figure size 432x288 with 1 Axes>"
      ]
     },
     "execution_count": 151,
     "metadata": {},
     "output_type": "execute_result"
    },
    {
     "data": {
      "image/png": "[encoded data removed]",
      "text/plain": [
       "<Figure size 432x288 with 1 Axes>"
      ]
     },
     "metadata": {
      "needs_background": "light"
     },
     "output_type": "display_data"
    }
   ],
   "source": [
    "plot_pacf(GNP_frame['diff_log_value'].dropna())"
   ]
  },
  {
   "cell_type": "markdown",
   "id": "2170f496",
   "metadata": {},
   "source": [
    "#### p-value: 0.012拒绝原假设，无单位根， 可以对一阶差分做AR模型"
   ]
  },
  {
   "cell_type": "code",
   "execution_count": 152,
   "id": "5338a90e",
   "metadata": {},
   "outputs": [
    {
     "data": {
      "text/plain": [
       "(-3.3612912376756374,\n",
       " 0.012351392233122734,\n",
       " 8,\n",
       " 243,\n",
       " {'1%': -3.4575505077947746,\n",
       "  '5%': -2.8735087323013526,\n",
       "  '10%': -2.573148434859185},\n",
       " -1555.6878048011768)"
      ]
     },
     "execution_count": 152,
     "metadata": {},
     "output_type": "execute_result"
    }
   ],
   "source": [
    "adfuller(\n",
    "    GNP_frame['diff_log_value'].dropna(),\n",
    "    maxlag = 10,\n",
    "    regression = 'c',\n",
    "    autolag = 'AIC',\n",
    "    store = False,\n",
    "    regresults = False\n",
    ")"
   ]
  },
  {
   "cell_type": "markdown",
   "id": "61713f32",
   "metadata": {},
   "source": [
    "#### p-value: 0.35有单位根"
   ]
  },
  {
   "cell_type": "code",
   "execution_count": 178,
   "id": "1504f31d",
   "metadata": {},
   "outputs": [
    {
     "data": {
      "text/plain": [
       "(-1.846745112345675,\n",
       " 0.35751320212542825,\n",
       " 9,\n",
       " 243,\n",
       " {'1%': -3.4575505077947746,\n",
       "  '5%': -2.8735087323013526,\n",
       "  '10%': -2.573148434859185},\n",
       " -1560.776418376916)"
      ]
     },
     "execution_count": 178,
     "metadata": {},
     "output_type": "execute_result"
    }
   ],
   "source": [
    "adfuller(\n",
    "    GNP_frame['log_value'].dropna(),\n",
    "    maxlag = 10,\n",
    "    regression = 'c',\n",
    "    autolag = 'AIC',\n",
    "    store = False,\n",
    "    regresults = False\n",
    ") "
   ]
  },
  {
   "cell_type": "markdown",
   "id": "a63be9e7",
   "metadata": {},
   "source": [
    "#### 以标普500为例"
   ]
  },
  {
   "cell_type": "code",
   "execution_count": 173,
   "id": "06fa3ba9",
   "metadata": {},
   "outputs": [],
   "source": [
    "data = []\n",
    "with open('d-sp55008.txt', 'r') as f:\n",
    "    for line in f.readlines():\n",
    "        data.append(line.split())\n",
    "sp500_OHLC = pd.DataFrame(data[1:])\n",
    "sp500_OHLC.columns = data[0]  \n",
    "for i in range(0,len(sp500_OHLC.mon)):\n",
    "    if int(sp500_OHLC['mon'][i]) < 10:\n",
    "        sp500_OHLC['mon'][i] = '0' + str(sp500_OHLC['mon'][i])\n",
    "for i in range(0,len(sp500_OHLC.day)):\n",
    "    if int(sp500_OHLC['day'][i]) < 10:\n",
    "        sp500_OHLC['day'][i] = '0' + str(sp500_OHLC['day'][i])"
   ]
  },
  {
   "cell_type": "code",
   "execution_count": 175,
   "id": "e3db7815",
   "metadata": {},
   "outputs": [],
   "source": [
    "sp500_OHLC['Date'] = sp500_OHLC['year'].astype(str) + sp500_OHLC['mon'].astype(str) + sp500_OHLC['day'].astype(str)"
   ]
  },
  {
   "cell_type": "code",
   "execution_count": 177,
   "id": "eccdda29",
   "metadata": {},
   "outputs": [],
   "source": [
    "sp500_OHLC['Date'] = [parse(i) for i in sp500_OHLC['Date']]"
   ]
  },
  {
   "cell_type": "code",
   "execution_count": 181,
   "id": "04177e94",
   "metadata": {},
   "outputs": [
    {
     "data": {
      "text/html": [
       "<div>\n",
       "<style scoped>\n",
       "    .dataframe tbody tr th:only-of-type {\n",
       "        vertical-align: middle;\n",
       "    }\n",
       "\n",
       "    .dataframe tbody tr th {\n",
       "        vertical-align: top;\n",
       "    }\n",
       "\n",
       "    .dataframe thead th {\n",
       "        text-align: right;\n",
       "    }\n",
       "</style>\n",
       "<table border=\"1\" class=\"dataframe\">\n",
       "  <thead>\n",
       "    <tr style=\"text-align: right;\">\n",
       "      <th></th>\n",
       "      <th>open</th>\n",
       "      <th>high</th>\n",
       "      <th>low</th>\n",
       "      <th>close</th>\n",
       "      <th>volume</th>\n",
       "      <th>adjclose</th>\n",
       "      <th>Date</th>\n",
       "    </tr>\n",
       "  </thead>\n",
       "  <tbody>\n",
       "    <tr>\n",
       "      <th>0</th>\n",
       "      <td>16.66</td>\n",
       "      <td>16.66</td>\n",
       "      <td>16.66</td>\n",
       "      <td>16.66</td>\n",
       "      <td>1260000</td>\n",
       "      <td>16.66</td>\n",
       "      <td>1950-01-03</td>\n",
       "    </tr>\n",
       "    <tr>\n",
       "      <th>1</th>\n",
       "      <td>16.85</td>\n",
       "      <td>16.85</td>\n",
       "      <td>16.85</td>\n",
       "      <td>16.85</td>\n",
       "      <td>1890000</td>\n",
       "      <td>16.85</td>\n",
       "      <td>1950-01-04</td>\n",
       "    </tr>\n",
       "    <tr>\n",
       "      <th>2</th>\n",
       "      <td>16.93</td>\n",
       "      <td>16.93</td>\n",
       "      <td>16.93</td>\n",
       "      <td>16.93</td>\n",
       "      <td>2550000</td>\n",
       "      <td>16.93</td>\n",
       "      <td>1950-01-05</td>\n",
       "    </tr>\n",
       "    <tr>\n",
       "      <th>3</th>\n",
       "      <td>16.98</td>\n",
       "      <td>16.98</td>\n",
       "      <td>16.98</td>\n",
       "      <td>16.98</td>\n",
       "      <td>2010000</td>\n",
       "      <td>16.98</td>\n",
       "      <td>1950-01-06</td>\n",
       "    </tr>\n",
       "    <tr>\n",
       "      <th>4</th>\n",
       "      <td>17.08</td>\n",
       "      <td>17.08</td>\n",
       "      <td>17.08</td>\n",
       "      <td>17.08</td>\n",
       "      <td>2520000</td>\n",
       "      <td>17.08</td>\n",
       "      <td>1950-01-09</td>\n",
       "    </tr>\n",
       "    <tr>\n",
       "      <th>...</th>\n",
       "      <td>...</td>\n",
       "      <td>...</td>\n",
       "      <td>...</td>\n",
       "      <td>...</td>\n",
       "      <td>...</td>\n",
       "      <td>...</td>\n",
       "      <td>...</td>\n",
       "    </tr>\n",
       "    <tr>\n",
       "      <th>14657</th>\n",
       "      <td>1373.69</td>\n",
       "      <td>1386.74</td>\n",
       "      <td>1369.02</td>\n",
       "      <td>1372.54</td>\n",
       "      <td>2147483648</td>\n",
       "      <td>1372.54</td>\n",
       "      <td>2008-04-07</td>\n",
       "    </tr>\n",
       "    <tr>\n",
       "      <th>14658</th>\n",
       "      <td>1370.16</td>\n",
       "      <td>1370.16</td>\n",
       "      <td>1360.62</td>\n",
       "      <td>1365.54</td>\n",
       "      <td>2147483648</td>\n",
       "      <td>1365.54</td>\n",
       "      <td>2008-04-08</td>\n",
       "    </tr>\n",
       "    <tr>\n",
       "      <th>14659</th>\n",
       "      <td>1365.50</td>\n",
       "      <td>1368.39</td>\n",
       "      <td>1349.97</td>\n",
       "      <td>1354.49</td>\n",
       "      <td>2147483648</td>\n",
       "      <td>1354.49</td>\n",
       "      <td>2008-04-09</td>\n",
       "    </tr>\n",
       "    <tr>\n",
       "      <th>14660</th>\n",
       "      <td>1355.37</td>\n",
       "      <td>1367.24</td>\n",
       "      <td>1350.11</td>\n",
       "      <td>1360.55</td>\n",
       "      <td>2147483648</td>\n",
       "      <td>1360.55</td>\n",
       "      <td>2008-04-10</td>\n",
       "    </tr>\n",
       "    <tr>\n",
       "      <th>14661</th>\n",
       "      <td>1357.98</td>\n",
       "      <td>1357.98</td>\n",
       "      <td>1331.21</td>\n",
       "      <td>1332.83</td>\n",
       "      <td>2147483648</td>\n",
       "      <td>1332.83</td>\n",
       "      <td>2008-04-11</td>\n",
       "    </tr>\n",
       "  </tbody>\n",
       "</table>\n",
       "<p>14662 rows × 7 columns</p>\n",
       "</div>"
      ],
      "text/plain": [
       "          open     high      low    close      volume adjclose       Date\n",
       "0        16.66    16.66    16.66    16.66     1260000    16.66 1950-01-03\n",
       "1        16.85    16.85    16.85    16.85     1890000    16.85 1950-01-04\n",
       "2        16.93    16.93    16.93    16.93     2550000    16.93 1950-01-05\n",
       "3        16.98    16.98    16.98    16.98     2010000    16.98 1950-01-06\n",
       "4        17.08    17.08    17.08    17.08     2520000    17.08 1950-01-09\n",
       "...        ...      ...      ...      ...         ...      ...        ...\n",
       "14657  1373.69  1386.74  1369.02  1372.54  2147483648  1372.54 2008-04-07\n",
       "14658  1370.16  1370.16  1360.62  1365.54  2147483648  1365.54 2008-04-08\n",
       "14659  1365.50  1368.39  1349.97  1354.49  2147483648  1354.49 2008-04-09\n",
       "14660  1355.37  1367.24  1350.11  1360.55  2147483648  1360.55 2008-04-10\n",
       "14661  1357.98  1357.98  1331.21  1332.83  2147483648  1332.83 2008-04-11\n",
       "\n",
       "[14662 rows x 7 columns]"
      ]
     },
     "execution_count": 181,
     "metadata": {},
     "output_type": "execute_result"
    }
   ],
   "source": [
    "sp500_OHLC.drop(['year','day', 'mon'], axis = 1)"
   ]
  },
  {
   "cell_type": "code",
   "execution_count": 184,
   "id": "7feacc42",
   "metadata": {},
   "outputs": [],
   "source": [
    "sp500_OHLC['logclose'] = [np.log(i) for i in sp500_OHLC['close'].astype(float)]\n",
    "sp500_OHLC['diff_logclose'] = sp500_OHLC['logclose'].diff()"
   ]
  },
  {
   "cell_type": "code",
   "execution_count": 187,
   "id": "90343206",
   "metadata": {},
   "outputs": [
    {
     "data": {
      "text/plain": [
       "<AxesSubplot:xlabel='Date', ylabel='logclose'>"
      ]
     },
     "execution_count": 187,
     "metadata": {},
     "output_type": "execute_result"
    },
    {
     "data": {
      "image/png": "[encoded data removed]",
      "text/plain": [
       "<Figure size 432x288 with 1 Axes>"
      ]
     },
     "metadata": {
      "needs_background": "light"
     },
     "output_type": "display_data"
    }
   ],
   "source": [
    "sns.lineplot(x = 'Date', y = 'logclose', data = sp500_OHLC)"
   ]
  },
  {
   "cell_type": "code",
   "execution_count": 188,
   "id": "85e8b6ab",
   "metadata": {},
   "outputs": [
    {
     "data": {
      "text/plain": [
       "<AxesSubplot:xlabel='Date', ylabel='diff_logclose'>"
      ]
     },
     "execution_count": 188,
     "metadata": {},
     "output_type": "execute_result"
    },
    {
     "data": {
      "image/png": "[encoded data removed]",
      "text/plain": [
       "<Figure size 432x288 with 1 Axes>"
      ]
     },
     "metadata": {
      "needs_background": "light"
     },
     "output_type": "display_data"
    }
   ],
   "source": [
    "sns.lineplot(x = 'Date', y = 'diff_logclose', data = sp500_OHLC)"
   ]
  },
  {
   "cell_type": "code",
   "execution_count": 190,
   "id": "fdcd1642",
   "metadata": {},
   "outputs": [
    {
     "data": {
      "image/png": "[encoded data removed]",
      "text/plain": [
       "<Figure size 432x288 with 1 Axes>"
      ]
     },
     "execution_count": 190,
     "metadata": {},
     "output_type": "execute_result"
    },
    {
     "data": {
      "image/png": "[encoded data removed]",
      "text/plain": [
       "<Figure size 432x288 with 1 Axes>"
      ]
     },
     "metadata": {
      "needs_background": "light"
     },
     "output_type": "display_data"
    }
   ],
   "source": [
    "plot_acf(sp500_OHLC['logclose'])"
   ]
  },
  {
   "cell_type": "code",
   "execution_count": 204,
   "id": "8b040862",
   "metadata": {},
   "outputs": [
    {
     "data": {
      "image/png": "[encoded data removed]",
      "text/plain": [
       "<Figure size 432x288 with 1 Axes>"
      ]
     },
     "execution_count": 204,
     "metadata": {},
     "output_type": "execute_result"
    },
    {
     "data": {
      "image/png": "[encoded data removed]",
      "text/plain": [
       "<Figure size 432x288 with 1 Axes>"
      ]
     },
     "metadata": {
      "needs_background": "light"
     },
     "output_type": "display_data"
    }
   ],
   "source": [
    "plot_pacf(sp500_OHLC['diff_logclose'].dropna())"
   ]
  },
  {
   "cell_type": "code",
   "execution_count": 205,
   "id": "582e1ea8",
   "metadata": {},
   "outputs": [
    {
     "name": "stdout",
     "output_type": "stream",
     "text": [
      "{(1, 2): -9.424346047486827, (1, 2, 3): -9.42426987194355, (1, 2, 3, 4, 5, 6): -9.424206487982998, (1, 2, 3, 4): -9.424138880251565, (1, 2, 3, 4, 5): -9.424002422803808, (1,): -9.42298146144588, 0: -9.418287649511061}\n"
     ]
    },
    {
     "name": "stderr",
     "output_type": "stream",
     "text": [
      "/Users/runboye/anaconda3/lib/python3.7/site-packages/statsmodels/tsa/base/tsa_model.py:579: ValueWarning: An unsupported index was provided and will be ignored when e.g. forecasting.\n",
      "  ' ignored when e.g. forecasting.', ValueWarning)\n",
      "/Users/runboye/anaconda3/lib/python3.7/site-packages/statsmodels/tsa/ar_model.py:252: FutureWarning: The parameter names will change after 0.12 is released. Set old_names to False to use the new names now. Set old_names to True to use the old names. \n",
      "  FutureWarning,\n",
      "/Users/runboye/anaconda3/lib/python3.7/site-packages/statsmodels/tsa/base/tsa_model.py:579: ValueWarning: An unsupported index was provided and will be ignored when e.g. forecasting.\n",
      "  ' ignored when e.g. forecasting.', ValueWarning)\n"
     ]
    }
   ],
   "source": [
    "aic_order = ar_select_order(sp500_OHLC['diff_logclose'].dropna(), maxlag = 6, ic = 'aic')\n",
    "print(aic_order.aic)"
   ]
  },
  {
   "cell_type": "code",
   "execution_count": 206,
   "id": "34be4791",
   "metadata": {},
   "outputs": [
    {
     "name": "stderr",
     "output_type": "stream",
     "text": [
      "/Users/runboye/anaconda3/lib/python3.7/site-packages/statsmodels/tsa/arima_model.py:472: FutureWarning: \n",
      "statsmodels.tsa.arima_model.ARMA and statsmodels.tsa.arima_model.ARIMA have\n",
      "been deprecated in favor of statsmodels.tsa.arima.model.ARIMA (note the .\n",
      "between arima and model) and\n",
      "statsmodels.tsa.SARIMAX. These will be removed after the 0.12 release.\n",
      "\n",
      "statsmodels.tsa.arima.model.ARIMA makes use of the statespace framework and\n",
      "is both well tested and maintained.\n",
      "\n",
      "To silence this warning and continue using ARMA and ARIMA until they are\n",
      "removed, use:\n",
      "\n",
      "import warnings\n",
      "warnings.filterwarnings('ignore', 'statsmodels.tsa.arima_model.ARMA',\n",
      "                        FutureWarning)\n",
      "warnings.filterwarnings('ignore', 'statsmodels.tsa.arima_model.ARIMA',\n",
      "                        FutureWarning)\n",
      "\n",
      "  warnings.warn(ARIMA_DEPRECATION_WARN, FutureWarning)\n",
      "/Users/runboye/anaconda3/lib/python3.7/site-packages/statsmodels/tsa/base/tsa_model.py:579: ValueWarning: An unsupported index was provided and will be ignored when e.g. forecasting.\n",
      "  ' ignored when e.g. forecasting.', ValueWarning)\n"
     ]
    },
    {
     "data": {
      "text/html": [
       "<table class=\"simpletable\">\n",
       "<caption>ARMA Model Results</caption>\n",
       "<tr>\n",
       "  <th>Dep. Variable:</th>   <td>diff_logclose</td>  <th>  No. Observations:  </th>    <td>14661</td>  \n",
       "</tr>\n",
       "<tr>\n",
       "  <th>Model:</th>            <td>ARMA(2, 0)</td>    <th>  Log Likelihood     </th>  <td>48286.876</td>\n",
       "</tr>\n",
       "<tr>\n",
       "  <th>Method:</th>             <td>css-mle</td>     <th>  S.D. of innovations</th>    <td>0.009</td>  \n",
       "</tr>\n",
       "<tr>\n",
       "  <th>Date:</th>          <td>Sun, 31 Jul 2022</td> <th>  AIC                </th> <td>-96565.751</td>\n",
       "</tr>\n",
       "<tr>\n",
       "  <th>Time:</th>              <td>19:40:40</td>     <th>  BIC                </th> <td>-96535.379</td>\n",
       "</tr>\n",
       "<tr>\n",
       "  <th>Sample:</th>                <td>0</td>        <th>  HQIC               </th> <td>-96555.663</td>\n",
       "</tr>\n",
       "<tr>\n",
       "  <th></th>                       <td> </td>        <th>                     </th>      <td> </td>    \n",
       "</tr>\n",
       "</table>\n",
       "<table class=\"simpletable\">\n",
       "<tr>\n",
       "           <td></td>              <th>coef</th>     <th>std err</th>      <th>z</th>      <th>P>|z|</th>  <th>[0.025</th>    <th>0.975]</th>  \n",
       "</tr>\n",
       "<tr>\n",
       "  <th>const</th>               <td>    0.0003</td> <td> 7.68e-05</td> <td>    3.894</td> <td> 0.000</td> <td>    0.000</td> <td>    0.000</td>\n",
       "</tr>\n",
       "<tr>\n",
       "  <th>ar.L1.diff_logclose</th> <td>    0.0721</td> <td>    0.008</td> <td>    8.741</td> <td> 0.000</td> <td>    0.056</td> <td>    0.088</td>\n",
       "</tr>\n",
       "<tr>\n",
       "  <th>ar.L2.diff_logclose</th> <td>   -0.0387</td> <td>    0.008</td> <td>   -4.686</td> <td> 0.000</td> <td>   -0.055</td> <td>   -0.023</td>\n",
       "</tr>\n",
       "</table>\n",
       "<table class=\"simpletable\">\n",
       "<caption>Roots</caption>\n",
       "<tr>\n",
       "    <td></td>   <th>            Real</th>  <th>         Imaginary</th> <th>         Modulus</th>  <th>        Frequency</th>\n",
       "</tr>\n",
       "<tr>\n",
       "  <th>AR.1</th> <td>           0.9327</td> <td>          -4.9984j</td> <td>           5.0847</td> <td>          -0.2206</td>\n",
       "</tr>\n",
       "<tr>\n",
       "  <th>AR.2</th> <td>           0.9327</td> <td>          +4.9984j</td> <td>           5.0847</td> <td>           0.2206</td>\n",
       "</tr>\n",
       "</table>"
      ],
      "text/plain": [
       "<class 'statsmodels.iolib.summary.Summary'>\n",
       "\"\"\"\n",
       "                              ARMA Model Results                              \n",
       "==============================================================================\n",
       "Dep. Variable:          diff_logclose   No. Observations:                14661\n",
       "Model:                     ARMA(2, 0)   Log Likelihood               48286.876\n",
       "Method:                       css-mle   S.D. of innovations              0.009\n",
       "Date:                Sun, 31 Jul 2022   AIC                         -96565.751\n",
       "Time:                        19:40:40   BIC                         -96535.379\n",
       "Sample:                             0   HQIC                        -96555.663\n",
       "                                                                              \n",
       "=======================================================================================\n",
       "                          coef    std err          z      P>|z|      [0.025      0.975]\n",
       "---------------------------------------------------------------------------------------\n",
       "const                   0.0003   7.68e-05      3.894      0.000       0.000       0.000\n",
       "ar.L1.diff_logclose     0.0721      0.008      8.741      0.000       0.056       0.088\n",
       "ar.L2.diff_logclose    -0.0387      0.008     -4.686      0.000      -0.055      -0.023\n",
       "                                    Roots                                    \n",
       "=============================================================================\n",
       "                  Real          Imaginary           Modulus         Frequency\n",
       "-----------------------------------------------------------------------------\n",
       "AR.1            0.9327           -4.9984j            5.0847           -0.2206\n",
       "AR.2            0.9327           +4.9984j            5.0847            0.2206\n",
       "-----------------------------------------------------------------------------\n",
       "\"\"\""
      ]
     },
     "execution_count": 206,
     "metadata": {},
     "output_type": "execute_result"
    }
   ],
   "source": [
    "sp500_AR = ARIMA(sp500_OHLC['diff_logclose'].dropna(), order = (2,0,0))\n",
    "result = sp500_AR.fit(disp = -1)\n",
    "result.summary()"
   ]
  },
  {
   "cell_type": "code",
   "execution_count": 216,
   "id": "44ddcf87",
   "metadata": {},
   "outputs": [],
   "source": [
    "ljunbox = lb_test(sp500_OHLC['diff_logclose'].dropna(), lags = 12)"
   ]
  },
  {
   "cell_type": "code",
   "execution_count": null,
   "id": "7b367f38",
   "metadata": {},
   "outputs": [],
   "source": []
  }
 ],
 "metadata": {
  "kernelspec": {
   "display_name": "Python 3 (ipykernel)",
   "language": "python",
   "name": "python3"
  },
  "language_info": {
   "codemirror_mode": {
    "name": "ipython",
    "version": 3
   },
   "file_extension": ".py",
   "mimetype": "text/x-python",
   "name": "python",
   "nbconvert_exporter": "python",
   "pygments_lexer": "ipython3",
   "version": "3.7.11"
  }
 },
 "nbformat": 4,
 "nbformat_minor": 5
}
